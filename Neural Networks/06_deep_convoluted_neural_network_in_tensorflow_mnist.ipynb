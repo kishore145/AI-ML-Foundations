{
  "nbformat": 4,
  "nbformat_minor": 0,
  "metadata": {
    "colab": {
      "name": "06-deep convoluted neural network in tensorflow mnist.ipynb",
      "provenance": [],
      "collapsed_sections": [],
      "authorship_tag": "ABX9TyNkDa/SQbSdZ/T6fjWVb56x",
      "include_colab_link": true
    },
    "kernelspec": {
      "name": "python3",
      "display_name": "Python 3"
    },
    "accelerator": "GPU"
  },
  "cells": [
    {
      "cell_type": "markdown",
      "metadata": {
        "id": "view-in-github",
        "colab_type": "text"
      },
      "source": [
        "<a href=\"https://colab.research.google.com/github/kishore145/AI-ML-Foundations/blob/master/Neural%20Networks/06_deep_convoluted_neural_network_in_tensorflow_mnist.ipynb\" target=\"_parent\"><img src=\"https://colab.research.google.com/assets/colab-badge.svg\" alt=\"Open In Colab\"/></a>"
      ]
    },
    {
      "cell_type": "code",
      "metadata": {
        "id": "d3K27dd3bNmd",
        "colab_type": "code",
        "colab": {}
      },
      "source": [
        "# Import dependencies\n",
        "import tensorflow as tf\n",
        "from tensorflow.keras.models import Sequential\n",
        "from tensorflow.keras.layers import Dense, Conv2D, MaxPooling2D, Flatten\n",
        "from tensorflow.keras.layers import Dropout\n",
        "\n",
        "from tensorflow.keras.datasets import mnist\n",
        "from tensorflow.keras.utils import to_categorical\n",
        "\n"
      ],
      "execution_count": 0,
      "outputs": []
    },
    {
      "cell_type": "code",
      "metadata": {
        "id": "oBTPFABYm-IE",
        "colab_type": "code",
        "colab": {}
      },
      "source": [
        "# Load data\n",
        "(X_train, y_train), (X_valid, y_valid) = mnist.load_data()"
      ],
      "execution_count": 0,
      "outputs": []
    },
    {
      "cell_type": "code",
      "metadata": {
        "id": "JQ3lBvlqnPzn",
        "colab_type": "code",
        "colab": {
          "base_uri": "https://localhost:8080/",
          "height": 102
        },
        "outputId": "e6127d3d-8e11-4c08-e637-a607dce2369e"
      },
      "source": [
        "# Check the shape of the data to ensure data is downloaded correctly\n",
        "print(f'''\n",
        "X_train shape: {X_train.shape},\n",
        "y_train shape: {y_train.shape},\n",
        "X_valid shape: {X_valid.shape},\n",
        "y_valid shape: {y_valid.shape}''')"
      ],
      "execution_count": 3,
      "outputs": [
        {
          "output_type": "stream",
          "text": [
            "\n",
            "X_train shape: (60000, 28, 28),\n",
            "y_train shape: (60000,),\n",
            "X_valid shape: (10000, 28, 28),\n",
            "y_valid shape: (10000,)\n"
          ],
          "name": "stdout"
        }
      ]
    },
    {
      "cell_type": "code",
      "metadata": {
        "id": "r03pRvYvnm48",
        "colab_type": "code",
        "colab": {}
      },
      "source": [
        "# Preprocess data - Input to conv is a 4D tensor with shape (batch_size, rows, cols, channels) as default which can be changed by data_format, \n",
        "X_train = X_train.reshape(60000, 28, 28, 1).astype('float32')\n",
        "X_valid = X_valid.reshape(10000, 28, 28, 1).astype('float32')"
      ],
      "execution_count": 0,
      "outputs": []
    },
    {
      "cell_type": "code",
      "metadata": {
        "id": "FjSVUXJEns1U",
        "colab_type": "code",
        "colab": {}
      },
      "source": [
        "X_train /= 255\n",
        "X_valid /= 255"
      ],
      "execution_count": 0,
      "outputs": []
    },
    {
      "cell_type": "code",
      "metadata": {
        "id": "L_PcVteunu0x",
        "colab_type": "code",
        "colab": {
          "base_uri": "https://localhost:8080/",
          "height": 102
        },
        "outputId": "73faee98-307d-4d1d-d623-ffc761ae5420"
      },
      "source": [
        "n_classes = 10\n",
        "y_train = to_categorical(y_train, n_classes)\n",
        "y_valid = to_categorical(y_valid, n_classes)\n",
        "\n",
        "# Review the revised shape of feature vector and target labels\n",
        "print(f'''\n",
        "X_train shape : {X_train.shape},\n",
        "X_valid shape : {X_valid.shape},\n",
        "y_train shape : {y_train.shape},\n",
        "y_valid shape : {y_valid.shape} ''')"
      ],
      "execution_count": 6,
      "outputs": [
        {
          "output_type": "stream",
          "text": [
            "\n",
            "X_train shape : (60000, 28, 28, 1),\n",
            "X_valid shape : (10000, 28, 28, 1),\n",
            "y_train shape : (60000, 10),\n",
            "y_valid shape : (10000, 10) \n"
          ],
          "name": "stdout"
        }
      ]
    },
    {
      "cell_type": "code",
      "metadata": {
        "id": "a0kNaEn-oBHP",
        "colab_type": "code",
        "colab": {}
      },
      "source": [
        "# Design CNN Network with two conv layers, one max pooling layer and a flatten layer\n",
        "# Create model\n",
        "model = Sequential()\n",
        "\n",
        "# Add first conv layer\n",
        "# Some of the parameters are optional, but given in second line for reference\n",
        "model.add(Conv2D(filters = 32,  kernel_size = (3,3), activation = 'relu', input_shape = (28, 28, 1),\n",
        "                 strides=(1,1), padding = \"valid\"))\n",
        "\n",
        "# Add second conv layer with max pooling and dropout. \n",
        "# Flatten the o/p obtained for feeding into dense layer\n",
        "model.add(Conv2D(filters = 64,  kernel_size = (3,3), activation = 'relu', \n",
        "                 strides=(1,1), padding = \"valid\"))\n",
        "model.add(MaxPooling2D(pool_size=(2,2),\n",
        "                       strides=(2,2), padding = 'valid'))\n",
        "model.add(Dropout(0.25))\n",
        "model.add(Flatten())\n",
        "\n",
        "# Add dense  layer\n",
        "model.add(Dense(128, activation='relu'))\n",
        "model.add(Dropout(0.5))\n",
        "\n",
        "# Add output softmax layer\n",
        "model.add(Dense(n_classes, activation='softmax'))\n"
      ],
      "execution_count": 0,
      "outputs": []
    },
    {
      "cell_type": "code",
      "metadata": {
        "id": "q811WSdYsnHG",
        "colab_type": "code",
        "colab": {
          "base_uri": "https://localhost:8080/",
          "height": 425
        },
        "outputId": "ad3cc81d-ff97-4901-c1b1-b341d91dfc6c"
      },
      "source": [
        "# Review model\n",
        "model.summary()"
      ],
      "execution_count": 8,
      "outputs": [
        {
          "output_type": "stream",
          "text": [
            "Model: \"sequential\"\n",
            "_________________________________________________________________\n",
            "Layer (type)                 Output Shape              Param #   \n",
            "=================================================================\n",
            "conv2d (Conv2D)              (None, 26, 26, 32)        320       \n",
            "_________________________________________________________________\n",
            "conv2d_1 (Conv2D)            (None, 24, 24, 64)        18496     \n",
            "_________________________________________________________________\n",
            "max_pooling2d (MaxPooling2D) (None, 12, 12, 64)        0         \n",
            "_________________________________________________________________\n",
            "dropout (Dropout)            (None, 12, 12, 64)        0         \n",
            "_________________________________________________________________\n",
            "flatten (Flatten)            (None, 9216)              0         \n",
            "_________________________________________________________________\n",
            "dense (Dense)                (None, 128)               1179776   \n",
            "_________________________________________________________________\n",
            "dropout_1 (Dropout)          (None, 128)               0         \n",
            "_________________________________________________________________\n",
            "dense_1 (Dense)              (None, 10)                1290      \n",
            "=================================================================\n",
            "Total params: 1,199,882\n",
            "Trainable params: 1,199,882\n",
            "Non-trainable params: 0\n",
            "_________________________________________________________________\n"
          ],
          "name": "stdout"
        }
      ]
    },
    {
      "cell_type": "code",
      "metadata": {
        "id": "mevb9jFPsv3t",
        "colab_type": "code",
        "colab": {}
      },
      "source": [
        "# Compile model\n",
        "model.compile(optimizer='nadam', loss = 'categorical_crossentropy', metrics = ['accuracy'])"
      ],
      "execution_count": 0,
      "outputs": []
    },
    {
      "cell_type": "code",
      "metadata": {
        "id": "4lhbeTx2uZz7",
        "colab_type": "code",
        "colab": {
          "base_uri": "https://localhost:8080/",
          "height": 697
        },
        "outputId": "ed4a31cd-ef31-4c80-d09e-dc386455792b"
      },
      "source": [
        "# Fit model - Storing the o/p of model.fit method into variable hist for plotting training/validation accuracy and loss\n",
        "hist = model.fit(X_train, y_train, batch_size=128, epochs=20, verbose=1, validation_data=(X_valid, y_valid))"
      ],
      "execution_count": 10,
      "outputs": [
        {
          "output_type": "stream",
          "text": [
            "Epoch 1/20\n",
            "469/469 [==============================] - 5s 10ms/step - loss: 0.2321 - accuracy: 0.9306 - val_loss: 0.0592 - val_accuracy: 0.9798\n",
            "Epoch 2/20\n",
            "469/469 [==============================] - 4s 9ms/step - loss: 0.0821 - accuracy: 0.9760 - val_loss: 0.0446 - val_accuracy: 0.9847\n",
            "Epoch 3/20\n",
            "469/469 [==============================] - 4s 10ms/step - loss: 0.0572 - accuracy: 0.9828 - val_loss: 0.0341 - val_accuracy: 0.9893\n",
            "Epoch 4/20\n",
            "469/469 [==============================] - 4s 9ms/step - loss: 0.0504 - accuracy: 0.9844 - val_loss: 0.0297 - val_accuracy: 0.9909\n",
            "Epoch 5/20\n",
            "469/469 [==============================] - 4s 10ms/step - loss: 0.0406 - accuracy: 0.9874 - val_loss: 0.0288 - val_accuracy: 0.9909\n",
            "Epoch 6/20\n",
            "469/469 [==============================] - 4s 9ms/step - loss: 0.0364 - accuracy: 0.9881 - val_loss: 0.0287 - val_accuracy: 0.9912\n",
            "Epoch 7/20\n",
            "469/469 [==============================] - 5s 10ms/step - loss: 0.0307 - accuracy: 0.9901 - val_loss: 0.0281 - val_accuracy: 0.9913\n",
            "Epoch 8/20\n",
            "469/469 [==============================] - 4s 9ms/step - loss: 0.0280 - accuracy: 0.9907 - val_loss: 0.0297 - val_accuracy: 0.9916\n",
            "Epoch 9/20\n",
            "469/469 [==============================] - 4s 9ms/step - loss: 0.0267 - accuracy: 0.9914 - val_loss: 0.0308 - val_accuracy: 0.9916\n",
            "Epoch 10/20\n",
            "469/469 [==============================] - 4s 10ms/step - loss: 0.0242 - accuracy: 0.9922 - val_loss: 0.0306 - val_accuracy: 0.9916\n",
            "Epoch 11/20\n",
            "469/469 [==============================] - 5s 10ms/step - loss: 0.0203 - accuracy: 0.9932 - val_loss: 0.0296 - val_accuracy: 0.9922\n",
            "Epoch 12/20\n",
            "469/469 [==============================] - 4s 10ms/step - loss: 0.0197 - accuracy: 0.9936 - val_loss: 0.0306 - val_accuracy: 0.9918\n",
            "Epoch 13/20\n",
            "469/469 [==============================] - 4s 9ms/step - loss: 0.0188 - accuracy: 0.9937 - val_loss: 0.0303 - val_accuracy: 0.9924\n",
            "Epoch 14/20\n",
            "469/469 [==============================] - 5s 10ms/step - loss: 0.0180 - accuracy: 0.9938 - val_loss: 0.0312 - val_accuracy: 0.9926\n",
            "Epoch 15/20\n",
            "469/469 [==============================] - 5s 10ms/step - loss: 0.0148 - accuracy: 0.9947 - val_loss: 0.0312 - val_accuracy: 0.9928\n",
            "Epoch 16/20\n",
            "469/469 [==============================] - 5s 10ms/step - loss: 0.0151 - accuracy: 0.9949 - val_loss: 0.0296 - val_accuracy: 0.9932\n",
            "Epoch 17/20\n",
            "469/469 [==============================] - 4s 10ms/step - loss: 0.0145 - accuracy: 0.9951 - val_loss: 0.0287 - val_accuracy: 0.9931\n",
            "Epoch 18/20\n",
            "469/469 [==============================] - 4s 10ms/step - loss: 0.0148 - accuracy: 0.9949 - val_loss: 0.0291 - val_accuracy: 0.9931\n",
            "Epoch 19/20\n",
            "469/469 [==============================] - 4s 10ms/step - loss: 0.0131 - accuracy: 0.9959 - val_loss: 0.0326 - val_accuracy: 0.9929\n",
            "Epoch 20/20\n",
            "469/469 [==============================] - 4s 10ms/step - loss: 0.0122 - accuracy: 0.9956 - val_loss: 0.0349 - val_accuracy: 0.9925\n"
          ],
          "name": "stdout"
        }
      ]
    },
    {
      "cell_type": "code",
      "metadata": {
        "id": "jpVHYHDUz33R",
        "colab_type": "code",
        "colab": {
          "base_uri": "https://localhost:8080/",
          "height": 51
        },
        "outputId": "5bbfab79-9165-491f-cf7c-d35e51e2fa01"
      },
      "source": [
        "model.evaluate(X_valid, y_valid, verbose=1)"
      ],
      "execution_count": 11,
      "outputs": [
        {
          "output_type": "stream",
          "text": [
            "313/313 [==============================] - 1s 2ms/step - loss: 0.0349 - accuracy: 0.9925\n"
          ],
          "name": "stdout"
        },
        {
          "output_type": "execute_result",
          "data": {
            "text/plain": [
              "[0.03485826030373573, 0.9925000071525574]"
            ]
          },
          "metadata": {
            "tags": []
          },
          "execution_count": 11
        }
      ]
    },
    {
      "cell_type": "code",
      "metadata": {
        "id": "C80UgfWxuqZm",
        "colab_type": "code",
        "colab": {
          "base_uri": "https://localhost:8080/",
          "height": 421
        },
        "outputId": "c18e99a4-4b41-4443-e414-c3a56d8d1bdb"
      },
      "source": [
        "# Plotting variation in acccuracy over epochs\n",
        "# You can see overfitting happening in the graph\n",
        "import matplotlib.pyplot as plt\n",
        "\n",
        "f, ax = plt.subplots(figsize = (8,6))\n",
        "ax.plot([None] + hist.history['accuracy'], 'o-')\n",
        "ax.plot([None] + hist.history['val_accuracy'], 'x-')\n",
        "# Plot legend and use the best location automatically: loc = 0.\n",
        "ax.legend(['Training acc', 'Validation acc'], loc = 0)\n",
        "ax.set_title('Training/Validation acc per Epoch')\n",
        "ax.set_xlabel('Epoch')\n",
        "ax.set_ylabel('accuracy') \n"
      ],
      "execution_count": 12,
      "outputs": [
        {
          "output_type": "execute_result",
          "data": {
            "text/plain": [
              "Text(0, 0.5, 'accuracy')"
            ]
          },
          "metadata": {
            "tags": []
          },
          "execution_count": 12
        },
        {
          "output_type": "display_data",
          "data": {
            "image/png": "[encoded data removed]",
            "text/plain": [
              "<Figure size 576x432 with 1 Axes>"
            ]
          },
          "metadata": {
            "tags": [],
            "needs_background": "light"
          }
        }
      ]
    },
    {
      "cell_type": "code",
      "metadata": {
        "id": "U7CXEDtaws1z",
        "colab_type": "code",
        "colab": {
          "base_uri": "https://localhost:8080/",
          "height": 421
        },
        "outputId": "58becf64-b70e-4f49-80fc-80cb98ec9ae9"
      },
      "source": [
        "# Plotting variation in loss over epochs\n",
        "# You can see overfitting happening in the graph\n",
        "\n",
        "f, ax = plt.subplots(figsize = (6,6))\n",
        "ax.plot([None] + hist.history['loss'], 'o-')\n",
        "ax.plot([None] + hist.history['val_loss'], 'x-')\n",
        "# Plot legend and use the best location automatically: loc = 0.\n",
        "ax.legend(['Training loss', 'Validation loss'], loc = 0)\n",
        "ax.set_title('Training/Validation loss per Epoch')\n",
        "ax.set_xlabel('Epoch')\n",
        "ax.set_ylabel('loss') "
      ],
      "execution_count": 13,
      "outputs": [
        {
          "output_type": "execute_result",
          "data": {
            "text/plain": [
              "Text(0, 0.5, 'loss')"
            ]
          },
          "metadata": {
            "tags": []
          },
          "execution_count": 13
        },
        {
          "output_type": "display_data",
          "data": {
            "image/png": "[encoded data removed]",
            "text/plain": [
              "<Figure size 432x432 with 1 Axes>"
            ]
          },
          "metadata": {
            "tags": [],
            "needs_background": "light"
          }
        }
      ]
    },
    {
      "cell_type": "code",
      "metadata": {
        "id": "QdPqVrmty8uh",
        "colab_type": "code",
        "colab": {}
      },
      "source": [
        "# Concludes Deep CNN architecture based on JonKrohn's lecture with added section:\n",
        "# visualization of loss/accuracy varation against epochs for better understanding"
      ],
      "execution_count": 0,
      "outputs": []
    }
  ]
}