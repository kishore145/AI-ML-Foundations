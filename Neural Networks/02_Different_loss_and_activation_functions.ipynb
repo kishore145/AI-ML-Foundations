{
  "nbformat": 4,
  "nbformat_minor": 0,
  "metadata": {
    "colab": {
      "name": "02-Quadratic loss, cross entropy loss, sigmoid function.ipynb",
      "provenance": [],
      "collapsed_sections": [],
      "authorship_tag": "ABX9TyO8fNmzUE72oyEthLK+QB1P",
      "include_colab_link": true
    },
    "kernelspec": {
      "name": "python3",
      "display_name": "Python 3"
    }
  },
  "cells": [
    {
      "cell_type": "markdown",
      "metadata": {
        "id": "view-in-github",
        "colab_type": "text"
      },
      "source": [
        "<a href=\"https://colab.research.google.com/github/kishore145/AI-ML-Foundations/blob/master/Neural%20Networks/02_Different_loss_and_activation_functions.ipynb\" target=\"_parent\"><img src=\"https://colab.research.google.com/assets/colab-badge.svg\" alt=\"Open In Colab\"/></a>"
      ]
    },
    {
      "cell_type": "code",
      "metadata": {
        "id": "1fY_JFs7q3nm",
        "colab_type": "code",
        "colab": {}
      },
      "source": [
        "# Quadratic Loss\n",
        "def squared_error(y,yhat):\n",
        "  return (y - yhat)**2"
      ],
      "execution_count": 0,
      "outputs": []
    },
    {
      "cell_type": "code",
      "metadata": {
        "id": "51ja5vy3rkht",
        "colab_type": "code",
        "colab": {
          "base_uri": "https://localhost:8080/",
          "height": 238
        },
        "outputId": "c7396042-dd62-468e-b806-221a670ec209"
      },
      "source": [
        "# Test how squared error varies with different values of yhat and y\n",
        "y = 1\n",
        "print('For y = 1')\n",
        "for yhat in [1, 0.97, 0.5, 0.01, 0]:\n",
        "  print(f''' Squared_error({y}, {yhat})  : {squared_error(y, yhat)}''')\n",
        "\n",
        "y = 0\n",
        "print('\\nFor y = 0')\n",
        "for yhat in [1, 0.97, 0.5, 0.01, 0]:\n",
        "  print(f''' Squared_error({y}, {yhat})  : {squared_error(y, yhat)}''')"
      ],
      "execution_count": 2,
      "outputs": [
        {
          "output_type": "stream",
          "text": [
            "For y = 1\n",
            " Squared_error(1, 1)  : 0\n",
            " Squared_error(1, 0.97)  : 0.0009000000000000016\n",
            " Squared_error(1, 0.5)  : 0.25\n",
            " Squared_error(1, 0.01)  : 0.9801\n",
            " Squared_error(1, 0)  : 1\n",
            "\n",
            "For y = 0\n",
            " Squared_error(0, 1)  : 1\n",
            " Squared_error(0, 0.97)  : 0.9409\n",
            " Squared_error(0, 0.5)  : 0.25\n",
            " Squared_error(0, 0.01)  : 0.0001\n",
            " Squared_error(0, 0)  : 0\n"
          ],
          "name": "stdout"
        }
      ]
    },
    {
      "cell_type": "code",
      "metadata": {
        "id": "X0waCAfhuB5s",
        "colab_type": "code",
        "colab": {}
      },
      "source": [
        "# cross entropy loss\n",
        "from numpy import log"
      ],
      "execution_count": 0,
      "outputs": []
    },
    {
      "cell_type": "code",
      "metadata": {
        "id": "K-z7a-9nyzjh",
        "colab_type": "code",
        "colab": {}
      },
      "source": [
        "def cross_entropy(y, a):\n",
        "  return -1*(y*log(a) + (1-y)*log(1-a))\n"
      ],
      "execution_count": 0,
      "outputs": []
    },
    {
      "cell_type": "code",
      "metadata": {
        "id": "ezCi-jpuzRcq",
        "colab_type": "code",
        "colab": {
          "base_uri": "https://localhost:8080/",
          "height": 340
        },
        "outputId": "367fc114-5aca-442b-bbf6-9f0b3ddee182"
      },
      "source": [
        "# Test how crosss entropy varies with different values of yhat and y\n",
        "y = 1\n",
        "print('For y = 1')\n",
        "for yhat in [1, 0.97, 0.5, 0.01, 0]:\n",
        "  print(f''' Cross_entropy({y}, {yhat})  : {cross_entropy(y, yhat)}''')\n",
        "\n",
        "y = 0\n",
        "print('\\nFor y = 0')\n",
        "for yhat in [1, 0.97, 0.5, 0.01, 0.0001, 0]:\n",
        "  print(f''' Cross_entropy({y}, {yhat})  : {cross_entropy(y, yhat)}''')"
      ],
      "execution_count": 23,
      "outputs": [
        {
          "output_type": "stream",
          "text": [
            "For y = 1\n",
            " Cross_entropy(1, 1)  : nan\n",
            " Cross_entropy(1, 0.9997)  : 0.00030004500900199243\n",
            " Cross_entropy(1, 0.97)  : 0.030459207484708574\n",
            " Cross_entropy(1, 0.5)  : 0.6931471805599453\n",
            " Cross_entropy(1, 0.01)  : 4.605170185988091\n",
            " Cross_entropy(1, 0)  : inf\n",
            "\n",
            "For y = 0\n",
            " Cross_entropy(0, 1)  : inf\n",
            " Cross_entropy(0, 0.97)  : 3.506557897319981\n",
            " Cross_entropy(0, 0.5)  : 0.6931471805599453\n",
            " Cross_entropy(0, 0.01)  : 0.01005033585350145\n",
            " Cross_entropy(0, 0.0001)  : 0.00010000500033334732\n",
            " Cross_entropy(0, 0)  : nan\n"
          ],
          "name": "stdout"
        },
        {
          "output_type": "stream",
          "text": [
            "/usr/local/lib/python3.6/dist-packages/ipykernel_launcher.py:2: RuntimeWarning: divide by zero encountered in log\n",
            "  \n",
            "/usr/local/lib/python3.6/dist-packages/ipykernel_launcher.py:2: RuntimeWarning: invalid value encountered in double_scalars\n",
            "  \n"
          ],
          "name": "stderr"
        }
      ]
    },
    {
      "cell_type": "code",
      "metadata": {
        "id": "-ANnaueIsIi3",
        "colab_type": "code",
        "colab": {}
      },
      "source": [
        "# Sigmoid Function\n",
        "from math import e"
      ],
      "execution_count": 0,
      "outputs": []
    },
    {
      "cell_type": "code",
      "metadata": {
        "id": "QQbpjzyktGSi",
        "colab_type": "code",
        "colab": {}
      },
      "source": [
        "# sigmoid function of variable z is defined as 1 / (1 + e^-z) where is e is the mathematical constant\n",
        "def sigmoid(z):\n",
        "  return 1 / (1 + e**-z)"
      ],
      "execution_count": 0,
      "outputs": []
    },
    {
      "cell_type": "code",
      "metadata": {
        "id": "rONhTmQ-tS9m",
        "colab_type": "code",
        "colab": {
          "base_uri": "https://localhost:8080/",
          "height": 316
        },
        "outputId": "93759017-8490-4f94-ebce-119acf4bb6f1"
      },
      "source": [
        "# Plotting sigmoid values\n",
        "import matplotlib.pyplot as plt\n",
        "import numpy as np\n",
        "from numpy.random import seed\n",
        "from numpy.random import randn\n",
        "# seed random number generator\n",
        "seed(1)\n",
        "\n",
        "# generate sorted random numbers between 0-1\n",
        "values = randn(1000)\n",
        "values.sort()\n",
        "print(values[:5])\n",
        "\n",
        "# Calculate sigmoid function\n",
        "y = [sigmoid(xi) for xi in values]\n",
        "print(y[:5])\n",
        "\n",
        "# Plot the nature of sigmoid graph\n",
        "plt.plot(values,y)\n"
      ],
      "execution_count": 16,
      "outputs": [
        {
          "output_type": "stream",
          "text": [
            "[-3.05376438 -2.793085   -2.79099641 -2.78253447 -2.69836174]\n",
            "[0.04505523238254674, 0.057698995321880164, 0.057812656732202684, 0.05827530992027906, 0.06307009517368821]\n"
          ],
          "name": "stdout"
        },
        {
          "output_type": "execute_result",
          "data": {
            "text/plain": [
              "[<matplotlib.lines.Line2D at 0x7f5dfbed4a90>]"
            ]
          },
          "metadata": {
            "tags": []
          },
          "execution_count": 16
        },
        {
          "output_type": "display_data",
          "data": {
            "image/png": "[encoded data removed]",
            "text/plain": [
              "<Figure size 432x288 with 1 Axes>"
            ]
          },
          "metadata": {
            "tags": [],
            "needs_background": "light"
          }
        }
      ]
    },
    {
      "cell_type": "code",
      "metadata": {
        "id": "122r0fXqzgpR",
        "colab_type": "code",
        "colab": {}
      },
      "source": [
        "# tanh function\n",
        "from math import exp"
      ],
      "execution_count": 0,
      "outputs": []
    },
    {
      "cell_type": "code",
      "metadata": {
        "id": "zoPudJ5D2FHP",
        "colab_type": "code",
        "colab": {}
      },
      "source": [
        "def tanh(z):\n",
        "  return (exp(z) - exp(-z)) / (exp(z) + exp(-z) )"
      ],
      "execution_count": 0,
      "outputs": []
    },
    {
      "cell_type": "code",
      "metadata": {
        "id": "4kXQ6Luh2UE2",
        "colab_type": "code",
        "colab": {
          "base_uri": "https://localhost:8080/",
          "height": 316
        },
        "outputId": "102991f7-5bba-4026-8ef8-7d9471f46503"
      },
      "source": [
        "# Plotting tanh function\n",
        "# seed random number generator\n",
        "seed(1)\n",
        "\n",
        "# generate sorted random numbers between 0-1\n",
        "values = randn(1000)\n",
        "values.sort()\n",
        "print(values[:5])\n",
        "\n",
        "# Calculate sigmoid function\n",
        "y = [tanh(xi) for xi in values]\n",
        "print(y[:5])\n",
        "\n",
        "# Plot the nature of sigmoid graph\n",
        "plt.plot(values,y)\n"
      ],
      "execution_count": 28,
      "outputs": [
        {
          "output_type": "stream",
          "text": [
            "[-3.05376438 -2.793085   -2.79099641 -2.78253447 -2.69836174]\n",
            "[-0.9955577983194093, -0.9925292894871417, -0.9924981349628579, -0.9923705823333469, -0.9909780742574483]\n"
          ],
          "name": "stdout"
        },
        {
          "output_type": "execute_result",
          "data": {
            "text/plain": [
              "[<matplotlib.lines.Line2D at 0x7f5dfc064320>]"
            ]
          },
          "metadata": {
            "tags": []
          },
          "execution_count": 28
        },
        {
          "output_type": "display_data",
          "data": {
            "image/png": "[encoded data removed]",
            "text/plain": [
              "<Figure size 432x288 with 1 Axes>"
            ]
          },
          "metadata": {
            "tags": [],
            "needs_background": "light"
          }
        }
      ]
    },
    {
      "cell_type": "code",
      "metadata": {
        "id": "GRALtgTk2b-8",
        "colab_type": "code",
        "colab": {}
      },
      "source": [
        "# relu activation function\n",
        "def relu(z):\n",
        "  if z > 0:\n",
        "    return z\n",
        "  else:\n",
        "    return 0\n"
      ],
      "execution_count": 0,
      "outputs": []
    },
    {
      "cell_type": "code",
      "metadata": {
        "id": "-jxe-rzu3e8Y",
        "colab_type": "code",
        "colab": {
          "base_uri": "https://localhost:8080/",
          "height": 316
        },
        "outputId": "c36f65f2-cf5a-4e68-a625-2b014b014a0b"
      },
      "source": [
        "# Plotting relu function\n",
        "# seed random number generator\n",
        "seed(1)\n",
        "\n",
        "# generate sorted random numbers between 0-1\n",
        "values = randn(1000)\n",
        "values.sort()\n",
        "print(values[:5])\n",
        "\n",
        "# Calculate sigmoid function\n",
        "y = [relu(xi) for xi in values]\n",
        "print(y[:5])\n",
        "\n",
        "# Plot the nature of sigmoid graph\n",
        "plt.plot(values,y)"
      ],
      "execution_count": 30,
      "outputs": [
        {
          "output_type": "stream",
          "text": [
            "[-3.05376438 -2.793085   -2.79099641 -2.78253447 -2.69836174]\n",
            "[0, 0, 0, 0, 0]\n"
          ],
          "name": "stdout"
        },
        {
          "output_type": "execute_result",
          "data": {
            "text/plain": [
              "[<matplotlib.lines.Line2D at 0x7f5dfbd34320>]"
            ]
          },
          "metadata": {
            "tags": []
          },
          "execution_count": 30
        },
        {
          "output_type": "display_data",
          "data": {
            "image/png": "[encoded data removed]",
            "text/plain": [
              "<Figure size 432x288 with 1 Axes>"
            ]
          },
          "metadata": {
            "tags": [],
            "needs_background": "light"
          }
        }
      ]
    },
    {
      "cell_type": "code",
      "metadata": {
        "id": "3ZqtQHgY3kd7",
        "colab_type": "code",
        "colab": {}
      },
      "source": [
        "# softmax activation\n",
        "# softmax value of z[i] = e^z[i] / sum(e^z[1], e^z[2]... e^z[n]) \n",
        "\n",
        "def softmax(z):\n",
        "  total = 0.\n",
        "  for zi in z:\n",
        "    total += exp(zi)\n",
        "  return [exp(zi)/total for zi in z]"
      ],
      "execution_count": 0,
      "outputs": []
    },
    {
      "cell_type": "code",
      "metadata": {
        "id": "7K25vB2W4rkB",
        "colab_type": "code",
        "colab": {
          "base_uri": "https://localhost:8080/",
          "height": 34
        },
        "outputId": "8abf267f-150b-45df-a32e-2b55184f57a2"
      },
      "source": [
        "z = [-5, -1., 0, 1., 5.]\n",
        "sm = softmax(z)\n",
        "[round(s,3) for s in sm] # total sum = 1 useful for prob distribution"
      ],
      "execution_count": 38,
      "outputs": [
        {
          "output_type": "execute_result",
          "data": {
            "text/plain": [
              "[0.0, 0.002, 0.007, 0.018, 0.973]"
            ]
          },
          "metadata": {
            "tags": []
          },
          "execution_count": 38
        }
      ]
    },
    {
      "cell_type": "code",
      "metadata": {
        "id": "lv7Eg8p643Hh",
        "colab_type": "code",
        "colab": {}
      },
      "source": [
        ""
      ],
      "execution_count": 0,
      "outputs": []
    }
  ]
}