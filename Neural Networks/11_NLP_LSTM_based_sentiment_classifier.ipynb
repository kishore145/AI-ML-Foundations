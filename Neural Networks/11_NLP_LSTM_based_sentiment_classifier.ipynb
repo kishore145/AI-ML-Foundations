{
  "nbformat": 4,
  "nbformat_minor": 0,
  "metadata": {
    "colab": {
      "name": "11-NLP LSTM based sentiment classifier.ipynb",
      "provenance": [],
      "collapsed_sections": [],
      "authorship_tag": "ABX9TyMHRu9T+iu52nyj6Zn7Ly8Y",
      "include_colab_link": true
    },
    "kernelspec": {
      "name": "python3",
      "display_name": "Python 3"
    },
    "accelerator": "GPU"
  },
  "cells": [
    {
      "cell_type": "markdown",
      "metadata": {
        "id": "view-in-github",
        "colab_type": "text"
      },
      "source": [
        "<a href=\"https://colab.research.google.com/github/kishore145/AI-ML-Foundations/blob/master/Neural%20Networks/11_NLP_LSTM_based_sentiment_classifier.ipynb\" target=\"_parent\"><img src=\"https://colab.research.google.com/assets/colab-badge.svg\" alt=\"Open In Colab\"/></a>"
      ]
    },
    {
      "cell_type": "markdown",
      "metadata": {
        "id": "QORw9-HlNSkU",
        "colab_type": "text"
      },
      "source": [
        "# Load Dependencies and Set Hyperparameters\n"
      ]
    },
    {
      "cell_type": "code",
      "metadata": {
        "id": "JNEvlVJLMRtd",
        "colab_type": "code",
        "colab": {}
      },
      "source": [
        "# Import dependencies\n",
        "import tensorflow\n",
        "from tensorflow.keras.datasets import imdb\n",
        "from tensorflow.keras.preprocessing.sequence import pad_sequences\n",
        "from tensorflow.keras.models import Sequential\n",
        "from tensorflow.keras.layers import Dense, Dropout, Embedding, SpatialDropout1D\n",
        "from tensorflow.keras.layers import LSTM # used for creating LSTM layer\n",
        "from tensorflow.keras.callbacks import ModelCheckpoint\n",
        "import os\n",
        "from sklearn.metrics import roc_auc_score, roc_curve\n",
        "import matplotlib.pyplot as plt"
      ],
      "execution_count": 0,
      "outputs": []
    },
    {
      "cell_type": "code",
      "metadata": {
        "id": "YufsrLjoMZQH",
        "colab_type": "code",
        "colab": {}
      },
      "source": [
        "# Set hyperparameters\n",
        "# output directory name:\n",
        "output_dir = 'model_output/lstm'\n",
        "\n",
        "# training:\n",
        "epochs = 4 \n",
        "batch_size = 128\n",
        "\n",
        "# vector-space embedding: \n",
        "n_dim = 64 \n",
        "n_unique_words = 10000 \n",
        "max_review_length = 100 # lstm usually remembers 100 time steps.\n",
        "pad_type = trunc_type = 'pre'\n",
        "drop_embed = 0.2 \n",
        "\n",
        "# RNN layer architecture:\n",
        "n_lstm = 256 \n",
        "drop_lstm = 0.2"
      ],
      "execution_count": 0,
      "outputs": []
    },
    {
      "cell_type": "markdown",
      "metadata": {
        "id": "tznqs18wOi-D",
        "colab_type": "text"
      },
      "source": [
        "# Load and Pre-Process Data"
      ]
    },
    {
      "cell_type": "code",
      "metadata": {
        "id": "zcR0xZKJOdhm",
        "colab_type": "code",
        "outputId": "e4f0abbf-50c3-4473-9126-dc3f00b24b83",
        "colab": {
          "base_uri": "https://localhost:8080/",
          "height": 54
        }
      },
      "source": [
        "# Load data\n",
        "(x_train, y_train), (x_valid, y_valid) = imdb.load_data(num_words=n_unique_words)"
      ],
      "execution_count": 3,
      "outputs": [
        {
          "output_type": "stream",
          "text": [
            "Downloading data from https://storage.googleapis.com/tensorflow/tf-keras-datasets/imdb.npz\n",
            "17465344/17464789 [==============================] - 0s 0us/step\n"
          ],
          "name": "stdout"
        }
      ]
    },
    {
      "cell_type": "code",
      "metadata": {
        "id": "pF2N3fNVOr92",
        "colab_type": "code",
        "colab": {}
      },
      "source": [
        "# Preprocess data\n",
        "x_train = pad_sequences(x_train, maxlen=max_review_length, padding=pad_type, truncating=trunc_type, value=0)\n",
        "x_valid = pad_sequences(x_valid, maxlen=max_review_length, padding=pad_type, truncating=trunc_type, value=0)"
      ],
      "execution_count": 0,
      "outputs": []
    },
    {
      "cell_type": "markdown",
      "metadata": {
        "id": "YALQWPW_OzWp",
        "colab_type": "text"
      },
      "source": [
        "# Neural Network Section"
      ]
    },
    {
      "cell_type": "code",
      "metadata": {
        "id": "b96Q-LsJOxDV",
        "colab_type": "code",
        "colab": {}
      },
      "source": [
        "# Design Neural Network\n",
        "# Create model\n",
        "model = Sequential()\n",
        "\n",
        "# Add first hidden layer - embedding\n",
        "model.add(Embedding(input_dim=n_unique_words, \n",
        "                    output_dim= n_dim,\n",
        "                    input_length= max_review_length))\n",
        "model.add(SpatialDropout1D(drop_embed))\n",
        "\n",
        "# Add second hiddden layer - LSTM\n",
        "model.add(LSTM(units = n_lstm, dropout = drop_lstm))\n",
        "\n",
        "# Add o/p layer\n",
        "model.add(Dense(1, activation = 'sigmoid'))"
      ],
      "execution_count": 0,
      "outputs": []
    },
    {
      "cell_type": "code",
      "metadata": {
        "id": "1lMyabdWP1Xl",
        "colab_type": "code",
        "outputId": "88c3f47d-8dab-46d2-84fa-77d929164dc2",
        "colab": {
          "base_uri": "https://localhost:8080/",
          "height": 311
        }
      },
      "source": [
        "# Review model\n",
        "model.summary()"
      ],
      "execution_count": 7,
      "outputs": [
        {
          "output_type": "stream",
          "text": [
            "Model: \"sequential_1\"\n",
            "_________________________________________________________________\n",
            "Layer (type)                 Output Shape              Param #   \n",
            "=================================================================\n",
            "embedding_1 (Embedding)      (None, 100, 64)           640000    \n",
            "_________________________________________________________________\n",
            "spatial_dropout1d_1 (Spatial (None, 100, 64)           0         \n",
            "_________________________________________________________________\n",
            "lstm (LSTM)                  (None, 256)               328704    \n",
            "_________________________________________________________________\n",
            "dense (Dense)                (None, 1)                 257       \n",
            "=================================================================\n",
            "Total params: 968,961\n",
            "Trainable params: 968,961\n",
            "Non-trainable params: 0\n",
            "_________________________________________________________________\n"
          ],
          "name": "stdout"
        }
      ]
    },
    {
      "cell_type": "code",
      "metadata": {
        "id": "n-A56COOP9n6",
        "colab_type": "code",
        "colab": {}
      },
      "source": [
        "# Configure model\n",
        "model.compile(optimizer='nadam', loss = 'binary_crossentropy', metrics=['accuracy'])"
      ],
      "execution_count": 0,
      "outputs": []
    },
    {
      "cell_type": "code",
      "metadata": {
        "id": "BHIEkIgKQKg6",
        "colab_type": "code",
        "colab": {}
      },
      "source": [
        "# Create model checkpoints\n",
        "modelcheckpoint = ModelCheckpoint(filepath=output_dir+\"/weights.{epoch:02d}.hdf5\")\n",
        "if not os.path.exists(output_dir):\n",
        "    os.makedirs(output_dir)"
      ],
      "execution_count": 0,
      "outputs": []
    },
    {
      "cell_type": "code",
      "metadata": {
        "id": "xCuuUaBIQPbJ",
        "colab_type": "code",
        "outputId": "7b304c5a-d507-4efc-bd2d-10164385555a",
        "colab": {
          "base_uri": "https://localhost:8080/",
          "height": 182
        }
      },
      "source": [
        "# Train model\n",
        "model.fit(x_train, y_train, batch_size=batch_size, epochs=epochs, verbose=1, validation_data=(x_valid, y_valid), callbacks=[modelcheckpoint])"
      ],
      "execution_count": 10,
      "outputs": [
        {
          "output_type": "stream",
          "text": [
            "Epoch 1/4\n",
            "196/196 [==============================] - 6s 31ms/step - loss: 0.5848 - accuracy: 0.6958 - val_loss: 0.4324 - val_accuracy: 0.8153\n",
            "Epoch 2/4\n",
            "196/196 [==============================] - 6s 29ms/step - loss: 0.3376 - accuracy: 0.8590 - val_loss: 0.3555 - val_accuracy: 0.8445\n",
            "Epoch 3/4\n",
            "196/196 [==============================] - 6s 29ms/step - loss: 0.2772 - accuracy: 0.8890 - val_loss: 0.3566 - val_accuracy: 0.8521\n",
            "Epoch 4/4\n",
            "196/196 [==============================] - 6s 29ms/step - loss: 0.2351 - accuracy: 0.9074 - val_loss: 0.3755 - val_accuracy: 0.8463\n"
          ],
          "name": "stdout"
        },
        {
          "output_type": "execute_result",
          "data": {
            "text/plain": [
              "<tensorflow.python.keras.callbacks.History at 0x7f1fc2d440f0>"
            ]
          },
          "metadata": {
            "tags": []
          },
          "execution_count": 10
        }
      ]
    },
    {
      "cell_type": "markdown",
      "metadata": {
        "id": "MbtcSE4_QX3T",
        "colab_type": "text"
      },
      "source": [
        "# Evaluate"
      ]
    },
    {
      "cell_type": "code",
      "metadata": {
        "id": "XcPkfYByQT4b",
        "colab_type": "code",
        "colab": {}
      },
      "source": [
        "# Load model with highest accuracy\n",
        "model.load_weights(output_dir+\"/weights.03.hdf5\")"
      ],
      "execution_count": 0,
      "outputs": []
    },
    {
      "cell_type": "code",
      "metadata": {
        "id": "dmEgDKSqQeIr",
        "colab_type": "code",
        "colab": {}
      },
      "source": [
        "# Make predictions using best model\n",
        "y_hat = model.predict(x_valid)"
      ],
      "execution_count": 0,
      "outputs": []
    },
    {
      "cell_type": "code",
      "metadata": {
        "id": "5hArofJ4Qr6x",
        "colab_type": "code",
        "outputId": "18b451a7-0595-454f-80ba-ccb14ce06cfd",
        "colab": {
          "base_uri": "https://localhost:8080/",
          "height": 265
        }
      },
      "source": [
        "# Plot predictions\n",
        "plt.hist(y_hat)\n",
        "_ = plt.axvline(x=0.5, color='orange')"
      ],
      "execution_count": 13,
      "outputs": [
        {
          "output_type": "display_data",
          "data": {
            "image/png": "[encoded data removed]",
            "text/plain": [
              "<Figure size 432x288 with 1 Axes>"
            ]
          },
          "metadata": {
            "tags": [],
            "needs_background": "light"
          }
        }
      ]
    },
    {
      "cell_type": "code",
      "metadata": {
        "id": "iT3pMZRkQxzb",
        "colab_type": "code",
        "outputId": "7d594f7a-d6a2-4122-96b9-18eb6cbac271",
        "colab": {
          "base_uri": "https://localhost:8080/",
          "height": 35
        }
      },
      "source": [
        "# Find AUC-ROC value\n",
        "pct_auc = roc_auc_score(y_valid, y_hat)*100.0\n",
        "print(\"AUC-ROC Value: {:0.2f}\".format(pct_auc))"
      ],
      "execution_count": 14,
      "outputs": [
        {
          "output_type": "stream",
          "text": [
            "AUC-ROC Value: 93.11\n"
          ],
          "name": "stdout"
        }
      ]
    },
    {
      "cell_type": "code",
      "metadata": {
        "id": "n8-fDjUTRh0i",
        "colab_type": "code",
        "outputId": "7f104609-7ba6-4a06-812b-484e70a9a5b5",
        "colab": {
          "base_uri": "https://localhost:8080/",
          "height": 295
        }
      },
      "source": [
        "fpr, tpr, auc = roc_curve(y_valid,  y_hat)\n",
        "plt.plot(fpr,tpr,label=\"Sentiment Classifier, auc=\"+\"{:0.2f}\".format(pct_auc))\n",
        "plt.legend(loc=4)\n",
        "plt.title('ROC Curve')\n",
        "plt.xlabel('False Postive Rate')\n",
        "plt.ylabel('True Positive Rate')\n",
        "plt.show()"
      ],
      "execution_count": 15,
      "outputs": [
        {
          "output_type": "display_data",
          "data": {
            "image/png": "[encoded data removed]",
            "text/plain": [
              "<Figure size 432x288 with 1 Axes>"
            ]
          },
          "metadata": {
            "tags": [],
            "needs_background": "light"
          }
        }
      ]
    },
    {
      "cell_type": "code",
      "metadata": {
        "id": "Xb8bIWzD_eJM",
        "colab_type": "code",
        "colab": {}
      },
      "source": [
        "# As is evident, LSTM performs much better on sentiment classification \n",
        "# than vanilla RNN networks due to it's ability to remember words that occur\n",
        "# earlier in the review.  "
      ],
      "execution_count": 0,
      "outputs": []
    }
  ]
}