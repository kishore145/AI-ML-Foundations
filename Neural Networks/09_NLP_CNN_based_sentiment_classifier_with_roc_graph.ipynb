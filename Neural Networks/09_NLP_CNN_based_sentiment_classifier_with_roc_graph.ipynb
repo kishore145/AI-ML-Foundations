{
  "nbformat": 4,
  "nbformat_minor": 0,
  "metadata": {
    "colab": {
      "name": "09-NLP CNN based sentiment classifier with roc graph.ipynb",
      "provenance": [],
      "collapsed_sections": [],
      "toc_visible": true,
      "authorship_tag": "ABX9TyNc/JG1AwMTjBPFGIvBTWbH",
      "include_colab_link": true
    },
    "kernelspec": {
      "name": "python3",
      "display_name": "Python 3"
    },
    "accelerator": "GPU"
  },
  "cells": [
    {
      "cell_type": "markdown",
      "metadata": {
        "id": "view-in-github",
        "colab_type": "text"
      },
      "source": [
        "<a href=\"https://colab.research.google.com/github/kishore145/AI-ML-Foundations/blob/master/Neural%20Networks/09_NLP_CNN_based_sentiment_classifier_with_roc_graph.ipynb\" target=\"_parent\"><img src=\"https://colab.research.google.com/assets/colab-badge.svg\" alt=\"Open In Colab\"/></a>"
      ]
    },
    {
      "cell_type": "markdown",
      "metadata": {
        "id": "0DIMwsiJ2fTx",
        "colab_type": "text"
      },
      "source": [
        "# Import dependencies and Set hyperparameters"
      ]
    },
    {
      "cell_type": "code",
      "metadata": {
        "id": "jHuloWav1AVS",
        "colab_type": "code",
        "colab": {}
      },
      "source": [
        "# Import dependencies\n",
        "import tensorflow as tf\n",
        "from tensorflow.keras.models import Sequential\n",
        "from tensorflow.keras.layers import Dense, Dropout, Embedding\n",
        "from tensorflow.keras.layers import Conv1D, SpatialDropout1D, GlobalMaxPooling1D\n",
        "from tensorflow.keras.callbacks import ModelCheckpoint\n",
        "from tensorflow.keras.datasets import imdb\n",
        "from tensorflow.keras.preprocessing.sequence import pad_sequences\n",
        "\n",
        "import os\n",
        "\n",
        "from sklearn.metrics import roc_auc_score, roc_curve\n",
        "import matplotlib.pyplot as plt\n"
      ],
      "execution_count": 0,
      "outputs": []
    },
    {
      "cell_type": "code",
      "metadata": {
        "id": "4il-3hVb2lHj",
        "colab_type": "code",
        "colab": {}
      },
      "source": [
        "# Set hyperparameters\n",
        "# Set o/p directory\n",
        "output_dir = 'model_output/conv_1'\n",
        "\n",
        "# training\n",
        "epochs = 4\n",
        "batch_size = 128\n",
        "\n",
        "# vector space embeddings\n",
        "n_dim = 64\n",
        "n_unique_words = 5000\n",
        "max_review_length = 400\n",
        "pad_type = trunc_type = 'pre'\n",
        "dropout_embed = 0.2\n",
        "\n",
        "# conv layer\n",
        "n_conv = 256 # Number of kernels/filters\n",
        "k_conv = 3 # Kernel size for identifying triplets of words\n",
        "\n",
        "# dense layer\n",
        "n_dense = 256\n",
        "dropout_dense = 0.2\n"
      ],
      "execution_count": 0,
      "outputs": []
    },
    {
      "cell_type": "markdown",
      "metadata": {
        "id": "Ac1A7gur3xZ-",
        "colab_type": "text"
      },
      "source": [
        "# Data loading and preprocessing"
      ]
    },
    {
      "cell_type": "code",
      "metadata": {
        "id": "P6Hn6hGl3ofy",
        "colab_type": "code",
        "colab": {}
      },
      "source": [
        "# Load data\n",
        "(X_train, y_train), (X_valid, y_valid) = imdb.load_data(num_words=n_unique_words)"
      ],
      "execution_count": 0,
      "outputs": []
    },
    {
      "cell_type": "code",
      "metadata": {
        "id": "oklBZBA44A0m",
        "colab_type": "code",
        "colab": {}
      },
      "source": [
        "# Preprocess Data\n",
        "X_train = pad_sequences(X_train, maxlen=max_review_length, padding=pad_type, truncating=trunc_type, value=0)\n",
        "X_valid = pad_sequences(X_valid, maxlen=max_review_length, padding=pad_type, truncating=trunc_type, value=0)"
      ],
      "execution_count": 0,
      "outputs": []
    },
    {
      "cell_type": "markdown",
      "metadata": {
        "id": "uVLAZlEP4mbT",
        "colab_type": "text"
      },
      "source": [
        "# Neural Network Section"
      ]
    },
    {
      "cell_type": "code",
      "metadata": {
        "id": "zFmtOpEJ4O8P",
        "colab_type": "code",
        "colab": {}
      },
      "source": [
        "# Create a sequential Model\n",
        "model = Sequential()\n",
        "\n",
        "# Add first hidden layer - Embed layer\n",
        "model.add(Embedding(input_dim = n_unique_words, \n",
        "                    output_dim = n_dim, \n",
        "                    input_length = max_review_length))\n",
        "model.add(SpatialDropout1D(dropout_embed))\n",
        "\n",
        "# Add second hidden layer - Conv layer\n",
        "model.add(Conv1D(filters=n_conv, \n",
        "                 kernel_size = k_conv, \n",
        "                 activation = 'relu'))\n",
        "model.add(GlobalMaxPooling1D())\n",
        "\n",
        "# Add third hiddden layer - Dense layer\n",
        "model.add(Dense(units = n_dense, \n",
        "                activation = 'relu'))\n",
        "model.add(Dropout(dropout_dense))\n",
        "\n",
        "# Add o/p layer - sigmoid activation function\n",
        "model.add(Dense(units = 1, activation = 'sigmoid'))"
      ],
      "execution_count": 0,
      "outputs": []
    },
    {
      "cell_type": "code",
      "metadata": {
        "id": "nqIq5C346F96",
        "colab_type": "code",
        "colab": {
          "base_uri": "https://localhost:8080/",
          "height": 391
        },
        "outputId": "adfffaad-5414-4e30-f5e6-47aac1f71fbc"
      },
      "source": [
        "# Review model\n",
        "model.summary()"
      ],
      "execution_count": 6,
      "outputs": [
        {
          "output_type": "stream",
          "text": [
            "Model: \"sequential\"\n",
            "_________________________________________________________________\n",
            "Layer (type)                 Output Shape              Param #   \n",
            "=================================================================\n",
            "embedding (Embedding)        (None, 400, 64)           320000    \n",
            "_________________________________________________________________\n",
            "spatial_dropout1d (SpatialDr (None, 400, 64)           0         \n",
            "_________________________________________________________________\n",
            "conv1d (Conv1D)              (None, 398, 256)          49408     \n",
            "_________________________________________________________________\n",
            "global_max_pooling1d (Global (None, 256)               0         \n",
            "_________________________________________________________________\n",
            "dense (Dense)                (None, 256)               65792     \n",
            "_________________________________________________________________\n",
            "dropout (Dropout)            (None, 256)               0         \n",
            "_________________________________________________________________\n",
            "dense_1 (Dense)              (None, 1)                 257       \n",
            "=================================================================\n",
            "Total params: 435,457\n",
            "Trainable params: 435,457\n",
            "Non-trainable params: 0\n",
            "_________________________________________________________________\n"
          ],
          "name": "stdout"
        }
      ]
    },
    {
      "cell_type": "code",
      "metadata": {
        "id": "AYUDsRNE6JN0",
        "colab_type": "code",
        "colab": {}
      },
      "source": [
        "# Compile / Configure model\n",
        "model.compile(optimizer= 'nadam', loss= 'binary_crossentropy', metrics= ['accuracy'])"
      ],
      "execution_count": 0,
      "outputs": []
    },
    {
      "cell_type": "code",
      "metadata": {
        "id": "UbScaynw6jUL",
        "colab_type": "code",
        "colab": {}
      },
      "source": [
        "# Setting model checkpoint\n",
        "modelcheckpoint = ModelCheckpoint(filepath=output_dir + '/weights.{epoch:02d}.hdf5')\n",
        "\n",
        "# Verifying o/p path exists\n",
        "if not os.path.exists(output_dir):\n",
        "  os.makedirs(output_dir)"
      ],
      "execution_count": 0,
      "outputs": []
    },
    {
      "cell_type": "code",
      "metadata": {
        "id": "36KIOMK07GKL",
        "colab_type": "code",
        "colab": {
          "base_uri": "https://localhost:8080/",
          "height": 170
        },
        "outputId": "d35aecb3-20fe-4b5c-d576-4c346dd26cc4"
      },
      "source": [
        "# Model training\n",
        "model.fit(X_train, y_train, \n",
        "          batch_size=batch_size, epochs= epochs, verbose = 1, \n",
        "          validation_data = (X_valid, y_valid), \n",
        "          callbacks = [modelcheckpoint])"
      ],
      "execution_count": 9,
      "outputs": [
        {
          "output_type": "stream",
          "text": [
            "Epoch 1/4\n",
            "196/196 [==============================] - 5s 25ms/step - loss: 0.4790 - accuracy: 0.7473 - val_loss: 0.3363 - val_accuracy: 0.8536\n",
            "Epoch 2/4\n",
            "196/196 [==============================] - 5s 24ms/step - loss: 0.2540 - accuracy: 0.8972 - val_loss: 0.3427 - val_accuracy: 0.8555\n",
            "Epoch 3/4\n",
            "196/196 [==============================] - 5s 24ms/step - loss: 0.1854 - accuracy: 0.9293 - val_loss: 0.2743 - val_accuracy: 0.8895\n",
            "Epoch 4/4\n",
            "196/196 [==============================] - 5s 24ms/step - loss: 0.1250 - accuracy: 0.9564 - val_loss: 0.2839 - val_accuracy: 0.8904\n"
          ],
          "name": "stdout"
        },
        {
          "output_type": "execute_result",
          "data": {
            "text/plain": [
              "<tensorflow.python.keras.callbacks.History at 0x7f9adf34a668>"
            ]
          },
          "metadata": {
            "tags": []
          },
          "execution_count": 9
        }
      ]
    },
    {
      "cell_type": "markdown",
      "metadata": {
        "id": "eYHe9EB08bcR",
        "colab_type": "text"
      },
      "source": [
        "# Model Evaluation"
      ]
    },
    {
      "cell_type": "code",
      "metadata": {
        "id": "bI0UtZEs8dhf",
        "colab_type": "code",
        "colab": {}
      },
      "source": [
        "# Load model with best acccuracy - In my case, it's the latest epoch\n",
        "# Still loading using load function for showing functionality\n",
        "model.load_weights(filepath = output_dir + '/weights.04.hdf5')"
      ],
      "execution_count": 0,
      "outputs": []
    },
    {
      "cell_type": "code",
      "metadata": {
        "id": "7Zw0E9m__Xb3",
        "colab_type": "code",
        "colab": {
          "base_uri": "https://localhost:8080/",
          "height": 51
        },
        "outputId": "c898a298-01fc-489a-8cfe-f8017da82c6d"
      },
      "source": [
        "model.evaluate(X_valid, y_valid)"
      ],
      "execution_count": 15,
      "outputs": [
        {
          "output_type": "stream",
          "text": [
            "782/782 [==============================] - 2s 3ms/step - loss: 0.2839 - accuracy: 0.8904\n"
          ],
          "name": "stdout"
        },
        {
          "output_type": "execute_result",
          "data": {
            "text/plain": [
              "[0.28389886021614075, 0.8903599977493286]"
            ]
          },
          "metadata": {
            "tags": []
          },
          "execution_count": 15
        }
      ]
    },
    {
      "cell_type": "code",
      "metadata": {
        "id": "yMVc3wTn9BjH",
        "colab_type": "code",
        "colab": {}
      },
      "source": [
        "# Predict y_hat\n",
        "y_hat = model.predict(X_valid)"
      ],
      "execution_count": 0,
      "outputs": []
    },
    {
      "cell_type": "code",
      "metadata": {
        "id": "QfWmbQ21_HwF",
        "colab_type": "code",
        "colab": {
          "base_uri": "https://localhost:8080/",
          "height": 34
        },
        "outputId": "faea0f9b-2b7f-416c-b3dd-f0a303c990f1"
      },
      "source": [
        "# Review len of yhat\n",
        "len(y_hat)"
      ],
      "execution_count": 13,
      "outputs": [
        {
          "output_type": "execute_result",
          "data": {
            "text/plain": [
              "25000"
            ]
          },
          "metadata": {
            "tags": []
          },
          "execution_count": 13
        }
      ]
    },
    {
      "cell_type": "code",
      "metadata": {
        "id": "hJqE9J-F_PJG",
        "colab_type": "code",
        "colab": {
          "base_uri": "https://localhost:8080/",
          "height": 265
        },
        "outputId": "92fc8138-e0f8-4c32-e697-c80235841d57"
      },
      "source": [
        "# Plot predictions\n",
        "plt.hist(y_hat)\n",
        "_ = plt.axvline(x=0.5, color='orange')"
      ],
      "execution_count": 14,
      "outputs": [
        {
          "output_type": "display_data",
          "data": {
            "image/png": "[encoded data removed]",
            "text/plain": [
              "<Figure size 432x288 with 1 Axes>"
            ]
          },
          "metadata": {
            "tags": [],
            "needs_background": "light"
          }
        }
      ]
    },
    {
      "cell_type": "code",
      "metadata": {
        "id": "I3DiY_Ci_StA",
        "colab_type": "code",
        "colab": {
          "base_uri": "https://localhost:8080/",
          "height": 34
        },
        "outputId": "dc1f0eb7-470b-4a4f-f02d-2242d10283b7"
      },
      "source": [
        "# Find AUC-ROC value\n",
        "pct_auc = roc_auc_score(y_valid, y_hat)*100.0\n",
        "print(\"AUC-ROC Value: {:0.2f}\".format(pct_auc))"
      ],
      "execution_count": 16,
      "outputs": [
        {
          "output_type": "stream",
          "text": [
            "AUC-ROC Value: 95.90\n"
          ],
          "name": "stdout"
        }
      ]
    },
    {
      "cell_type": "code",
      "metadata": {
        "id": "_iB2RCjt_o_x",
        "colab_type": "code",
        "colab": {
          "base_uri": "https://localhost:8080/",
          "height": 295
        },
        "outputId": "bb927b3f-bb7b-4375-d5a1-c6eaa4c1b37d"
      },
      "source": [
        "fpr, tpr, auc = roc_curve(y_valid,  y_hat)\n",
        "plt.plot(fpr,tpr,label=\"Sentiment Classifier, auc=\"+\"{:0.2f}\".format(pct_auc))\n",
        "plt.legend(loc=4)\n",
        "plt.title('ROC Curve')\n",
        "plt.xlabel('False Postive Rate')\n",
        "plt.ylabel('True Positive Rate')\n",
        "plt.show()"
      ],
      "execution_count": 17,
      "outputs": [
        {
          "output_type": "display_data",
          "data": {
            "image/png": "[encoded data removed]",
            "text/plain": [
              "<Figure size 432x288 with 1 Axes>"
            ]
          },
          "metadata": {
            "tags": [],
            "needs_background": "light"
          }
        }
      ]
    },
    {
      "cell_type": "code",
      "metadata": {
        "id": "mGVhRlNH_1q1",
        "colab_type": "code",
        "colab": {}
      },
      "source": [
        "# Concludes sentiment analysis based on CNN architecture"
      ],
      "execution_count": 0,
      "outputs": []
    }
  ]
}