{
  "nbformat": 4,
  "nbformat_minor": 0,
  "metadata": {
    "colab": {
      "name": "15-NLP Conv-LSTM stacked sentiment classifier.ipynb",
      "provenance": [],
      "collapsed_sections": [],
      "toc_visible": true,
      "authorship_tag": "ABX9TyN9joWG9iQUEQHYeEatsb3a",
      "include_colab_link": true
    },
    "kernelspec": {
      "name": "python3",
      "display_name": "Python 3"
    },
    "accelerator": "GPU"
  },
  "cells": [
    {
      "cell_type": "markdown",
      "metadata": {
        "id": "view-in-github",
        "colab_type": "text"
      },
      "source": [
        "<a href=\"https://colab.research.google.com/github/kishore145/AI-ML-Foundations/blob/master/Neural%20Networks/15_NLP_Conv_LSTM_stacked_sentiment_classifier.ipynb\" target=\"_parent\"><img src=\"https://colab.research.google.com/assets/colab-badge.svg\" alt=\"Open In Colab\"/></a>"
      ]
    },
    {
      "cell_type": "markdown",
      "metadata": {
        "id": "QORw9-HlNSkU",
        "colab_type": "text"
      },
      "source": [
        "# Load Dependencies and Set Hyperparameters\n"
      ]
    },
    {
      "cell_type": "code",
      "metadata": {
        "id": "JNEvlVJLMRtd",
        "colab_type": "code",
        "colab": {}
      },
      "source": [
        "# Import dependencies\n",
        "import tensorflow\n",
        "from tensorflow.keras.datasets import imdb\n",
        "from tensorflow.keras.preprocessing.sequence import pad_sequences\n",
        "from tensorflow.keras.models import Sequential\n",
        "from tensorflow.keras.layers import Dense, Dropout, Embedding, SpatialDropout1D\n",
        "from tensorflow.keras.layers import Conv1D, MaxPooling1D\n",
        "from tensorflow.keras.layers import LSTM, Bidirectional # wrapper to use with LSTM\n",
        "from tensorflow.keras.callbacks import ModelCheckpoint\n",
        "import os\n",
        "from sklearn.metrics import roc_auc_score, roc_curve\n",
        "import matplotlib.pyplot as plt"
      ],
      "execution_count": 0,
      "outputs": []
    },
    {
      "cell_type": "code",
      "metadata": {
        "id": "YufsrLjoMZQH",
        "colab_type": "code",
        "colab": {}
      },
      "source": [
        "# Set hyperparameters\n",
        "# output directory name:\n",
        "output_dir = 'model_output/cnnLSTM'\n",
        "\n",
        "# training:\n",
        "epochs = 4 \n",
        "batch_size = 128\n",
        "\n",
        "# vector-space embedding: \n",
        "n_dim = 64 \n",
        "n_unique_words = 10000 \n",
        "max_review_length = 200 # double the rate of LSTMs.\n",
        "pad_type = trunc_type = 'pre'\n",
        "drop_embed = 0.2 \n",
        "\n",
        "# CNN layer architecture:\n",
        "n_conv = 256\n",
        "n_kernel = 3\n",
        "mp_kernel = 4 # Max pooling layer kernel size\n",
        "\n",
        "# LSTM layer architecture:\n",
        "n_lstm = 64\n",
        "drop_lstm = 0.2\n",
        "\n"
      ],
      "execution_count": 0,
      "outputs": []
    },
    {
      "cell_type": "markdown",
      "metadata": {
        "id": "tznqs18wOi-D",
        "colab_type": "text"
      },
      "source": [
        "# Load and Pre-Process Data"
      ]
    },
    {
      "cell_type": "code",
      "metadata": {
        "id": "zcR0xZKJOdhm",
        "colab_type": "code",
        "outputId": "c848bffb-7b64-49fd-c9a3-68ba14752459",
        "colab": {
          "base_uri": "https://localhost:8080/",
          "height": 51
        }
      },
      "source": [
        "# Load data\n",
        "(x_train, y_train), (x_valid, y_valid) = imdb.load_data(num_words=n_unique_words)"
      ],
      "execution_count": 3,
      "outputs": [
        {
          "output_type": "stream",
          "text": [
            "Downloading data from https://storage.googleapis.com/tensorflow/tf-keras-datasets/imdb.npz\n",
            "17465344/17464789 [==============================] - 0s 0us/step\n"
          ],
          "name": "stdout"
        }
      ]
    },
    {
      "cell_type": "code",
      "metadata": {
        "id": "pF2N3fNVOr92",
        "colab_type": "code",
        "colab": {}
      },
      "source": [
        "# Preprocess data\n",
        "x_train = pad_sequences(x_train, maxlen=max_review_length, padding=pad_type, truncating=trunc_type, value=0)\n",
        "x_valid = pad_sequences(x_valid, maxlen=max_review_length, padding=pad_type, truncating=trunc_type, value=0)"
      ],
      "execution_count": 0,
      "outputs": []
    },
    {
      "cell_type": "markdown",
      "metadata": {
        "id": "YALQWPW_OzWp",
        "colab_type": "text"
      },
      "source": [
        "# Neural Network Section"
      ]
    },
    {
      "cell_type": "code",
      "metadata": {
        "id": "b96Q-LsJOxDV",
        "colab_type": "code",
        "colab": {}
      },
      "source": [
        "# Design Neural Network\n",
        "# Create model\n",
        "model = Sequential()\n",
        "\n",
        "# Add first hidden layer - embedding\n",
        "model.add(Embedding(input_dim=n_unique_words, \n",
        "                    output_dim= n_dim,\n",
        "                    input_length= max_review_length))\n",
        "model.add(SpatialDropout1D(drop_embed))\n",
        "\n",
        "# Add second hiddden layer - CNN\n",
        "model.add(Conv1D(filters=n_conv, kernel_size=n_kernel, activation='relu'))\n",
        "model.add(MaxPooling1D(pool_size=mp_kernel))\n",
        "\n",
        "# Add third hidden layer - Bi-LSTM\n",
        "model.add(Bidirectional(LSTM(units=n_lstm, dropout=drop_lstm)))\n",
        "\n",
        "# Add o/p layer\n",
        "model.add(Dense(1, activation = 'sigmoid'))"
      ],
      "execution_count": 0,
      "outputs": []
    },
    {
      "cell_type": "code",
      "metadata": {
        "id": "1lMyabdWP1Xl",
        "colab_type": "code",
        "outputId": "ceda61da-229d-45f9-9bbd-4360ecd2da43",
        "colab": {
          "base_uri": "https://localhost:8080/",
          "height": 357
        }
      },
      "source": [
        "# Review model\n",
        "model.summary()"
      ],
      "execution_count": 6,
      "outputs": [
        {
          "output_type": "stream",
          "text": [
            "Model: \"sequential\"\n",
            "_________________________________________________________________\n",
            "Layer (type)                 Output Shape              Param #   \n",
            "=================================================================\n",
            "embedding (Embedding)        (None, 200, 64)           640000    \n",
            "_________________________________________________________________\n",
            "spatial_dropout1d (SpatialDr (None, 200, 64)           0         \n",
            "_________________________________________________________________\n",
            "conv1d (Conv1D)              (None, 198, 256)          49408     \n",
            "_________________________________________________________________\n",
            "max_pooling1d (MaxPooling1D) (None, 49, 256)           0         \n",
            "_________________________________________________________________\n",
            "bidirectional (Bidirectional (None, 128)               164352    \n",
            "_________________________________________________________________\n",
            "dense (Dense)                (None, 1)                 129       \n",
            "=================================================================\n",
            "Total params: 853,889\n",
            "Trainable params: 853,889\n",
            "Non-trainable params: 0\n",
            "_________________________________________________________________\n"
          ],
          "name": "stdout"
        }
      ]
    },
    {
      "cell_type": "code",
      "metadata": {
        "id": "n-A56COOP9n6",
        "colab_type": "code",
        "colab": {}
      },
      "source": [
        "# Configure model\n",
        "model.compile(optimizer='nadam', loss = 'binary_crossentropy', metrics=['accuracy'])"
      ],
      "execution_count": 0,
      "outputs": []
    },
    {
      "cell_type": "code",
      "metadata": {
        "id": "BHIEkIgKQKg6",
        "colab_type": "code",
        "colab": {}
      },
      "source": [
        "# Create model checkpoints\n",
        "modelcheckpoint = ModelCheckpoint(filepath=output_dir+\"/weights.{epoch:02d}.hdf5\")\n",
        "if not os.path.exists(output_dir):\n",
        "    os.makedirs(output_dir)"
      ],
      "execution_count": 0,
      "outputs": []
    },
    {
      "cell_type": "code",
      "metadata": {
        "id": "xCuuUaBIQPbJ",
        "colab_type": "code",
        "outputId": "23e297a1-a36e-4ad4-9100-15dcd49800d8",
        "colab": {
          "base_uri": "https://localhost:8080/",
          "height": 170
        }
      },
      "source": [
        "# Train model\n",
        "model.fit(x_train, y_train, batch_size=batch_size, epochs=epochs, verbose=1, validation_data=(x_valid, y_valid), callbacks=[modelcheckpoint])"
      ],
      "execution_count": 9,
      "outputs": [
        {
          "output_type": "stream",
          "text": [
            "Epoch 1/4\n",
            "196/196 [==============================] - 15s 79ms/step - loss: 0.4496 - accuracy: 0.7712 - val_loss: 0.3228 - val_accuracy: 0.8645\n",
            "Epoch 2/4\n",
            "196/196 [==============================] - 12s 60ms/step - loss: 0.2501 - accuracy: 0.9028 - val_loss: 0.2990 - val_accuracy: 0.8756\n",
            "Epoch 3/4\n",
            "196/196 [==============================] - 12s 60ms/step - loss: 0.1853 - accuracy: 0.9303 - val_loss: 0.3782 - val_accuracy: 0.8467\n",
            "Epoch 4/4\n",
            "196/196 [==============================] - 12s 59ms/step - loss: 0.1399 - accuracy: 0.9506 - val_loss: 0.3655 - val_accuracy: 0.8625\n"
          ],
          "name": "stdout"
        },
        {
          "output_type": "execute_result",
          "data": {
            "text/plain": [
              "<tensorflow.python.keras.callbacks.History at 0x7fc1d561b048>"
            ]
          },
          "metadata": {
            "tags": []
          },
          "execution_count": 9
        }
      ]
    },
    {
      "cell_type": "markdown",
      "metadata": {
        "id": "MbtcSE4_QX3T",
        "colab_type": "text"
      },
      "source": [
        "# Evaluate"
      ]
    },
    {
      "cell_type": "code",
      "metadata": {
        "id": "XcPkfYByQT4b",
        "colab_type": "code",
        "colab": {}
      },
      "source": [
        "# Load model with highest accuracy\n",
        "model.load_weights(output_dir+\"/weights.02.hdf5\")"
      ],
      "execution_count": 0,
      "outputs": []
    },
    {
      "cell_type": "code",
      "metadata": {
        "id": "dmEgDKSqQeIr",
        "colab_type": "code",
        "colab": {}
      },
      "source": [
        "# Make predictions using best model\n",
        "y_hat = model.predict(x_valid)"
      ],
      "execution_count": 0,
      "outputs": []
    },
    {
      "cell_type": "code",
      "metadata": {
        "id": "5hArofJ4Qr6x",
        "colab_type": "code",
        "outputId": "f4a3218f-2129-40ba-ccaa-db790dbd0b19",
        "colab": {
          "base_uri": "https://localhost:8080/",
          "height": 268
        }
      },
      "source": [
        "# Plot predictions\n",
        "plt.hist(y_hat)\n",
        "_ = plt.axvline(x=0.5, color='orange')"
      ],
      "execution_count": 12,
      "outputs": [
        {
          "output_type": "display_data",
          "data": {
            "image/png": "[encoded data removed]",
            "text/plain": [
              "<Figure size 432x288 with 1 Axes>"
            ]
          },
          "metadata": {
            "tags": [],
            "needs_background": "light"
          }
        }
      ]
    },
    {
      "cell_type": "code",
      "metadata": {
        "id": "iT3pMZRkQxzb",
        "colab_type": "code",
        "outputId": "50ee8b78-5cd9-49f8-ac30-8674990f2fa4",
        "colab": {
          "base_uri": "https://localhost:8080/",
          "height": 34
        }
      },
      "source": [
        "# Find AUC-ROC value\n",
        "pct_auc = roc_auc_score(y_valid, y_hat)*100.0\n",
        "print(\"AUC-ROC Value: {:0.2f}\".format(pct_auc))"
      ],
      "execution_count": 13,
      "outputs": [
        {
          "output_type": "stream",
          "text": [
            "AUC-ROC Value: 94.61\n"
          ],
          "name": "stdout"
        }
      ]
    },
    {
      "cell_type": "code",
      "metadata": {
        "id": "n8-fDjUTRh0i",
        "colab_type": "code",
        "outputId": "9cf167cf-91d1-4984-f200-48753176d8a4",
        "colab": {
          "base_uri": "https://localhost:8080/",
          "height": 295
        }
      },
      "source": [
        "fpr, tpr, auc = roc_curve(y_valid,  y_hat)\n",
        "plt.plot(fpr,tpr,label=\"Sentiment Classifier, auc=\"+\"{:0.2f}\".format(pct_auc))\n",
        "plt.legend(loc=4)\n",
        "plt.title('ROC Curve')\n",
        "plt.xlabel('False Postive Rate')\n",
        "plt.ylabel('True Positive Rate')\n",
        "plt.show()"
      ],
      "execution_count": 14,
      "outputs": [
        {
          "output_type": "display_data",
          "data": {
            "image/png": "[encoded data removed]",
            "text/plain": [
              "<Figure size 432x288 with 1 Axes>"
            ]
          },
          "metadata": {
            "tags": [],
            "needs_background": "light"
          }
        }
      ]
    },
    {
      "cell_type": "code",
      "metadata": {
        "id": "Xb8bIWzD_eJM",
        "colab_type": "code",
        "colab": {}
      },
      "source": [
        "# Stacked Conv Bi-LSTM gave higher ROC score than all other RNN architecture evaluated so far.\n",
        "# Note all this applies to specific train/test set and not over arching generalization"
      ],
      "execution_count": 0,
      "outputs": []
    }
  ]
}