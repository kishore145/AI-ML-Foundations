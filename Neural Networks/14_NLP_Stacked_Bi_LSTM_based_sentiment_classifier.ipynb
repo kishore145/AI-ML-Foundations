{
  "nbformat": 4,
  "nbformat_minor": 0,
  "metadata": {
    "colab": {
      "name": "14-NLP Stacked Bi-LSTM based sentiment classifier.ipynb",
      "provenance": [],
      "collapsed_sections": [],
      "authorship_tag": "ABX9TyMdHGXWf4TY+SoxWWTw6Uk3",
      "include_colab_link": true
    },
    "kernelspec": {
      "name": "python3",
      "display_name": "Python 3"
    },
    "accelerator": "GPU"
  },
  "cells": [
    {
      "cell_type": "markdown",
      "metadata": {
        "id": "view-in-github",
        "colab_type": "text"
      },
      "source": [
        "<a href=\"https://colab.research.google.com/github/kishore145/AI-ML-Foundations/blob/master/Neural%20Networks/14_NLP_Stacked_Bi_LSTM_based_sentiment_classifier.ipynb\" target=\"_parent\"><img src=\"https://colab.research.google.com/assets/colab-badge.svg\" alt=\"Open In Colab\"/></a>"
      ]
    },
    {
      "cell_type": "markdown",
      "metadata": {
        "id": "QORw9-HlNSkU",
        "colab_type": "text"
      },
      "source": [
        "# Load Dependencies and Set Hyperparameters\n"
      ]
    },
    {
      "cell_type": "code",
      "metadata": {
        "id": "JNEvlVJLMRtd",
        "colab_type": "code",
        "colab": {}
      },
      "source": [
        "# Import dependencies\n",
        "import tensorflow\n",
        "from tensorflow.keras.datasets import imdb\n",
        "from tensorflow.keras.preprocessing.sequence import pad_sequences\n",
        "from tensorflow.keras.models import Sequential\n",
        "from tensorflow.keras.layers import Dense, Dropout, Embedding, SpatialDropout1D\n",
        "from tensorflow.keras.layers import LSTM, Bidirectional # wrapper to use with LSTM\n",
        "from tensorflow.keras.callbacks import ModelCheckpoint\n",
        "import os\n",
        "from sklearn.metrics import roc_auc_score, roc_curve\n",
        "import matplotlib.pyplot as plt"
      ],
      "execution_count": 0,
      "outputs": []
    },
    {
      "cell_type": "code",
      "metadata": {
        "id": "YufsrLjoMZQH",
        "colab_type": "code",
        "colab": {}
      },
      "source": [
        "# Set hyperparameters\n",
        "# output directory name:\n",
        "output_dir = 'model_output/stacked-bi-lstm'\n",
        "\n",
        "# training:\n",
        "epochs = 4 \n",
        "batch_size = 128\n",
        "\n",
        "# vector-space embedding: \n",
        "n_dim = 64 \n",
        "n_unique_words = 10000 \n",
        "max_review_length = 200 # double the rate of LSTMs.\n",
        "pad_type = trunc_type = 'pre'\n",
        "drop_embed = 0.2 \n",
        "\n",
        "# LSTM layer architecture:\n",
        "n_lstm_1 = 128\n",
        "n_lstm_2 = 64\n",
        "drop_lstm = 0.2\n"
      ],
      "execution_count": 0,
      "outputs": []
    },
    {
      "cell_type": "markdown",
      "metadata": {
        "id": "tznqs18wOi-D",
        "colab_type": "text"
      },
      "source": [
        "# Load and Pre-Process Data"
      ]
    },
    {
      "cell_type": "code",
      "metadata": {
        "id": "zcR0xZKJOdhm",
        "colab_type": "code",
        "outputId": "c8b717f0-641d-4221-febe-29804433b643",
        "colab": {
          "base_uri": "https://localhost:8080/",
          "height": 54
        }
      },
      "source": [
        "# Load data\n",
        "(x_train, y_train), (x_valid, y_valid) = imdb.load_data(num_words=n_unique_words)"
      ],
      "execution_count": 4,
      "outputs": [
        {
          "output_type": "stream",
          "text": [
            "Downloading data from https://storage.googleapis.com/tensorflow/tf-keras-datasets/imdb.npz\n",
            "17465344/17464789 [==============================] - 0s 0us/step\n"
          ],
          "name": "stdout"
        }
      ]
    },
    {
      "cell_type": "code",
      "metadata": {
        "id": "pF2N3fNVOr92",
        "colab_type": "code",
        "colab": {}
      },
      "source": [
        "# Preprocess data\n",
        "x_train = pad_sequences(x_train, maxlen=max_review_length, padding=pad_type, truncating=trunc_type, value=0)\n",
        "x_valid = pad_sequences(x_valid, maxlen=max_review_length, padding=pad_type, truncating=trunc_type, value=0)"
      ],
      "execution_count": 0,
      "outputs": []
    },
    {
      "cell_type": "markdown",
      "metadata": {
        "id": "YALQWPW_OzWp",
        "colab_type": "text"
      },
      "source": [
        "# Neural Network Section"
      ]
    },
    {
      "cell_type": "code",
      "metadata": {
        "id": "b96Q-LsJOxDV",
        "colab_type": "code",
        "colab": {}
      },
      "source": [
        "# Design Neural Network\n",
        "# Create model\n",
        "model = Sequential()\n",
        "\n",
        "# Add first hidden layer - embedding\n",
        "model.add(Embedding(input_dim=n_unique_words, \n",
        "                    output_dim= n_dim,\n",
        "                    input_length= max_review_length))\n",
        "model.add(SpatialDropout1D(drop_embed))\n",
        "\n",
        "# Add second hiddden layer - with return_sequence = 1 if stacking another LSTM layer\n",
        "model.add(Bidirectional(LSTM(units = n_lstm_1, dropout = drop_lstm, return_sequences=True)))\n",
        "\n",
        "# Add third hidden layer - Bi-LSTM\n",
        "model.add(Bidirectional(LSTM(units=n_lstm_2, dropout=drop_lstm)))\n",
        "\n",
        "# Add o/p layer\n",
        "model.add(Dense(1, activation = 'sigmoid'))"
      ],
      "execution_count": 0,
      "outputs": []
    },
    {
      "cell_type": "code",
      "metadata": {
        "id": "1lMyabdWP1Xl",
        "colab_type": "code",
        "outputId": "4a25b2bd-14fd-49d8-f3f5-9a053d53aca4",
        "colab": {
          "base_uri": "https://localhost:8080/",
          "height": 348
        }
      },
      "source": [
        "# Review model\n",
        "model.summary()"
      ],
      "execution_count": 7,
      "outputs": [
        {
          "output_type": "stream",
          "text": [
            "Model: \"sequential\"\n",
            "_________________________________________________________________\n",
            "Layer (type)                 Output Shape              Param #   \n",
            "=================================================================\n",
            "embedding (Embedding)        (None, 200, 64)           640000    \n",
            "_________________________________________________________________\n",
            "spatial_dropout1d (SpatialDr (None, 200, 64)           0         \n",
            "_________________________________________________________________\n",
            "bidirectional (Bidirectional (None, 200, 256)          197632    \n",
            "_________________________________________________________________\n",
            "bidirectional_1 (Bidirection (None, 128)               164352    \n",
            "_________________________________________________________________\n",
            "dense (Dense)                (None, 1)                 129       \n",
            "=================================================================\n",
            "Total params: 1,002,113\n",
            "Trainable params: 1,002,113\n",
            "Non-trainable params: 0\n",
            "_________________________________________________________________\n"
          ],
          "name": "stdout"
        }
      ]
    },
    {
      "cell_type": "code",
      "metadata": {
        "id": "n-A56COOP9n6",
        "colab_type": "code",
        "colab": {}
      },
      "source": [
        "# Configure model\n",
        "model.compile(optimizer='nadam', loss = 'binary_crossentropy', metrics=['accuracy'])"
      ],
      "execution_count": 0,
      "outputs": []
    },
    {
      "cell_type": "code",
      "metadata": {
        "id": "BHIEkIgKQKg6",
        "colab_type": "code",
        "colab": {}
      },
      "source": [
        "# Create model checkpoints\n",
        "modelcheckpoint = ModelCheckpoint(filepath=output_dir+\"/weights.{epoch:02d}.hdf5\")\n",
        "if not os.path.exists(output_dir):\n",
        "    os.makedirs(output_dir)"
      ],
      "execution_count": 0,
      "outputs": []
    },
    {
      "cell_type": "code",
      "metadata": {
        "id": "xCuuUaBIQPbJ",
        "colab_type": "code",
        "outputId": "69185eaf-1b7b-4767-a1a6-11c8f5ee0bc8",
        "colab": {
          "base_uri": "https://localhost:8080/",
          "height": 182
        }
      },
      "source": [
        "# Train model\n",
        "model.fit(x_train, y_train, batch_size=batch_size, epochs=epochs, verbose=1, validation_data=(x_valid, y_valid), callbacks=[modelcheckpoint])"
      ],
      "execution_count": 12,
      "outputs": [
        {
          "output_type": "stream",
          "text": [
            "Epoch 1/4\n",
            "196/196 [==============================] - 48s 245ms/step - loss: 0.5319 - accuracy: 0.7334 - val_loss: 0.3830 - val_accuracy: 0.8366\n",
            "Epoch 2/4\n",
            "196/196 [==============================] - 46s 235ms/step - loss: 0.4299 - accuracy: 0.8078 - val_loss: 0.3701 - val_accuracy: 0.8392\n",
            "Epoch 3/4\n",
            "196/196 [==============================] - 47s 238ms/step - loss: 0.3760 - accuracy: 0.8331 - val_loss: 0.4054 - val_accuracy: 0.8148\n",
            "Epoch 4/4\n",
            "196/196 [==============================] - 47s 239ms/step - loss: 0.3581 - accuracy: 0.8469 - val_loss: 0.3742 - val_accuracy: 0.8371\n"
          ],
          "name": "stdout"
        },
        {
          "output_type": "execute_result",
          "data": {
            "text/plain": [
              "<tensorflow.python.keras.callbacks.History at 0x7fe8372f4668>"
            ]
          },
          "metadata": {
            "tags": []
          },
          "execution_count": 12
        }
      ]
    },
    {
      "cell_type": "markdown",
      "metadata": {
        "id": "MbtcSE4_QX3T",
        "colab_type": "text"
      },
      "source": [
        "# Evaluate"
      ]
    },
    {
      "cell_type": "code",
      "metadata": {
        "id": "XcPkfYByQT4b",
        "colab_type": "code",
        "colab": {}
      },
      "source": [
        "# Load model with highest accuracy\n",
        "model.load_weights(output_dir+\"/weights.02.hdf5\")"
      ],
      "execution_count": 0,
      "outputs": []
    },
    {
      "cell_type": "code",
      "metadata": {
        "id": "dmEgDKSqQeIr",
        "colab_type": "code",
        "colab": {}
      },
      "source": [
        "# Make predictions using best model\n",
        "y_hat = model.predict(x_valid)"
      ],
      "execution_count": 0,
      "outputs": []
    },
    {
      "cell_type": "code",
      "metadata": {
        "id": "5hArofJ4Qr6x",
        "colab_type": "code",
        "outputId": "3fb68bd4-3627-48f4-e37f-e548c7c25b0d",
        "colab": {
          "base_uri": "https://localhost:8080/",
          "height": 267
        }
      },
      "source": [
        "# Plot predictions\n",
        "plt.hist(y_hat)\n",
        "_ = plt.axvline(x=0.5, color='orange')"
      ],
      "execution_count": 15,
      "outputs": [
        {
          "output_type": "display_data",
          "data": {
            "image/png": "[encoded data removed]",
            "text/plain": [
              "<Figure size 432x288 with 1 Axes>"
            ]
          },
          "metadata": {
            "tags": [],
            "needs_background": "light"
          }
        }
      ]
    },
    {
      "cell_type": "code",
      "metadata": {
        "id": "iT3pMZRkQxzb",
        "colab_type": "code",
        "outputId": "4ee969cd-213d-4800-b464-4c51d53234d1",
        "colab": {
          "base_uri": "https://localhost:8080/",
          "height": 35
        }
      },
      "source": [
        "# Find AUC-ROC value\n",
        "pct_auc = roc_auc_score(y_valid, y_hat)*100.0\n",
        "print(\"AUC-ROC Value: {:0.2f}\".format(pct_auc))"
      ],
      "execution_count": 16,
      "outputs": [
        {
          "output_type": "stream",
          "text": [
            "AUC-ROC Value: 91.79\n"
          ],
          "name": "stdout"
        }
      ]
    },
    {
      "cell_type": "code",
      "metadata": {
        "id": "n8-fDjUTRh0i",
        "colab_type": "code",
        "outputId": "3fd2291b-6fd9-47d0-9db9-2723da664a3d",
        "colab": {
          "base_uri": "https://localhost:8080/",
          "height": 295
        }
      },
      "source": [
        "fpr, tpr, auc = roc_curve(y_valid,  y_hat)\n",
        "plt.plot(fpr,tpr,label=\"Sentiment Classifier, auc=\"+\"{:0.2f}\".format(pct_auc))\n",
        "plt.legend(loc=4)\n",
        "plt.title('ROC Curve')\n",
        "plt.xlabel('False Postive Rate')\n",
        "plt.ylabel('True Positive Rate')\n",
        "plt.show()"
      ],
      "execution_count": 17,
      "outputs": [
        {
          "output_type": "display_data",
          "data": {
            "image/png": "[encoded data removed]",
            "text/plain": [
              "<Figure size 432x288 with 1 Axes>"
            ]
          },
          "metadata": {
            "tags": [],
            "needs_background": "light"
          }
        }
      ]
    },
    {
      "cell_type": "code",
      "metadata": {
        "id": "Xb8bIWzD_eJM",
        "colab_type": "code",
        "colab": {}
      },
      "source": [
        "# Stacked Bi-LSTM gave lower ROC score than Bi-LSTM could be due to hyperparameter selection"
      ],
      "execution_count": 0,
      "outputs": []
    }
  ]
}