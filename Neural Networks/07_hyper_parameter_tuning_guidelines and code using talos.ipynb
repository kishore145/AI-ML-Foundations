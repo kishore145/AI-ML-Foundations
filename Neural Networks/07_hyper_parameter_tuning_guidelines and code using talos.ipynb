{
  "nbformat": 4,
  "nbformat_minor": 0,
  "metadata": {
    "colab": {
      "name": "07 - hyper parameter tuning guidelines.ipynb",
      "provenance": [],
      "collapsed_sections": [],
      "toc_visible": true,
      "authorship_tag": "ABX9TyNr7aA/XAuS8qpoZhnWfrG1",
      "include_colab_link": true
    },
    "kernelspec": {
      "name": "python3",
      "display_name": "Python 3"
    },
    "accelerator": "GPU"
  },
  "cells": [
    {
      "cell_type": "markdown",
      "metadata": {
        "id": "view-in-github",
        "colab_type": "text"
      },
      "source": [
        "<a href=\"https://colab.research.google.com/github/kishore145/AI-ML-Foundations/blob/master/Neural%20Networks/07_hyper_parameter_tuning_guidelines%20and%20code%20using%20talos.ipynb\" target=\"_parent\"><img src=\"https://colab.research.google.com/assets/colab-badge.svg\" alt=\"Open In Colab\"/></a>"
      ]
    },
    {
      "cell_type": "markdown",
      "metadata": {
        "id": "bxP7YVk_KZRb",
        "colab_type": "text"
      },
      "source": [
        "# Different Hyper parameter tuning guidelines\n",
        "General guidelines when manually selecting hyperparameters\n",
        "\n",
        "> ### 1. Parameter Initialization\n",
        "> \n",
        ">> 1. Biases are initialized with **zeros**  \n",
        ">> 2. Weights are initialized via **glorot initializers**.  \n",
        ">> 3. ReLu and tanh are used as activation function for hidden layers.  \n",
        ">> 4. Sigmoid and softmax are used as activation function in o/p layers for binary and multiclass classification problems respectively.  \n",
        ">> 5. Linear is used as activation function in o/p layer for regression problems.\n",
        "\n",
        "\n",
        "> ### 2. Cost Function\n",
        "> \n",
        ">> 1. Classification problems use **cross entropy** cost  \n",
        ">> 2. Regression problem uses **quadratic/squared error** cost  \n",
        "\n",
        "\n",
        "> ### 3. Getting over chance\n",
        "> \n",
        "> Evaluate if the model performs better than random guessing (e.g. less than 50% accuracy in binary classification). If yes, then consider following approaches:  \n",
        "> \n",
        ">> 1. Simplify the network by reducing o/p classes for testing  \n",
        ">> 2. Simplify the network by reducing number of layers  \n",
        ">> 3. Reduce the training data set size to iterate quicker  \n",
        "\n",
        "\n",
        "> ### 4. Layers\n",
        "> \n",
        ">> 1. Add or remove layers from network  \n",
        ">> 2. Add or remove neurons from each layer(e.g. by power of 2  e.g. 8, 16.. )  \n",
        ">> 3. Change type of layers (e.g. Convolutional, maxpooling, etc for machine vision instead of dense)\n",
        "\n",
        "> ### 5. Prevent Overfitting\n",
        "> \n",
        ">> 1. Employ **Dropouts, batch normalization, data augmentation** etc.  \n",
        ">> 2. If model overfits, use weights from epoch prior to overfitting for use.  \n",
        "This can be accomplished via tensorboard and saving model checkpoints  \n",
        "\n",
        "> ### 6. Learning rate\n",
        "> \n",
        ">> 1. Tune learning rate to converge to global minima quickly  \n",
        ">> 2. With sophisticated optimizers like nadam, this approach is not usually required.  \n",
        "\n",
        "> ### 7. Batch Size\n",
        "> \n",
        ">> 1. Start with batch size of 32 and vary with powers of 2, but don't go beyond 128. This usually doesn't result in big changes in model performance.\n",
        "\n"
      ]
    },
    {
      "cell_type": "markdown",
      "metadata": {
        "id": "As5oOjvDLerT",
        "colab_type": "text"
      },
      "source": [
        "# Automated Hyper Paramter Tuning\n",
        "\n",
        "> Common libraries used are \n",
        ">> 1. Spearmint \n",
        ">> 2. Hyperopt\n",
        ">> 3. Hyperas\n",
        ">> 4. kopt\n",
        ">> 5. talos\n",
        ">\n",
        "> Code examples will be added in sections below."
      ]
    },
    {
      "cell_type": "markdown",
      "metadata": {
        "id": "yxrbCao5bGMw",
        "colab_type": "text"
      },
      "source": [
        "# Baseline CNN model for benchmarking  - fashion mnist classifier"
      ]
    },
    {
      "cell_type": "code",
      "metadata": {
        "id": "P6EYo0H8no74",
        "colab_type": "code",
        "colab": {}
      },
      "source": [
        "!pip install git+https://github.com/autonomio/talos@1.0\n",
        "# Installing talos for hyper parameter tuning"
      ],
      "execution_count": 0,
      "outputs": []
    },
    {
      "cell_type": "code",
      "metadata": {
        "id": "0O5wJSle8NoY",
        "colab_type": "code",
        "colab": {
          "base_uri": "https://localhost:8080/",
          "height": 34
        },
        "outputId": "3921b1d5-11b1-41a2-a1be-2256ea17e248"
      },
      "source": [
        "# Import Dependencies\n",
        "\n",
        "import tensorflow as tf\n",
        "\n",
        "from tensorflow.keras.models import Sequential\n",
        "from tensorflow.keras.layers import Conv2D, MaxPooling2D, Flatten, Dense\n",
        "from tensorflow.keras.layers import Dropout, BatchNormalization\n",
        "from tensorflow.keras.utils import to_categorical\n",
        "\n",
        "from tensorflow.keras.datasets import fashion_mnist\n",
        "\n",
        "import matplotlib.pyplot as plt\n",
        "tf.version"
      ],
      "execution_count": 4,
      "outputs": [
        {
          "output_type": "execute_result",
          "data": {
            "text/plain": [
              "<module 'tensorflow._api.v2.version' from '/usr/local/lib/python3.6/dist-packages/tensorflow/_api/v2/version/__init__.py'>"
            ]
          },
          "metadata": {
            "tags": []
          },
          "execution_count": 4
        }
      ]
    },
    {
      "cell_type": "code",
      "metadata": {
        "id": "Ne_G2s043e3N",
        "colab_type": "code",
        "colab": {
          "base_uri": "https://localhost:8080/",
          "height": 357
        },
        "outputId": "6e2a6363-eb1e-4eba-cee3-d5e04f4bee2d"
      },
      "source": [
        "# Testing if GPU is allocated\n",
        "# Running automated hyperparameter tuning on CPU is very slow\n",
        "# Hence need to verify GPU allocation\n",
        "gpu_info = !nvidia-smi\n",
        "gpu_info = '\\n'.join(gpu_info)\n",
        "if gpu_info.find('failed') >= 0:\n",
        "  print('Select the Runtime > \"Change runtime type\" menu to enable a GPU accelerator, ')\n",
        "  print('and then re-execute this cell.')\n",
        "else:\n",
        "  print(gpu_info)"
      ],
      "execution_count": 5,
      "outputs": [
        {
          "output_type": "stream",
          "text": [
            "Sat Jun 13 15:30:03 2020       \n",
            "+-----------------------------------------------------------------------------+\n",
            "| NVIDIA-SMI 450.36.06    Driver Version: 418.67       CUDA Version: 10.1     |\n",
            "|-------------------------------+----------------------+----------------------+\n",
            "| GPU  Name        Persistence-M| Bus-Id        Disp.A | Volatile Uncorr. ECC |\n",
            "| Fan  Temp  Perf  Pwr:Usage/Cap|         Memory-Usage | GPU-Util  Compute M. |\n",
            "|                               |                      |               MIG M. |\n",
            "|===============================+======================+======================|\n",
            "|   0  Tesla P100-PCIE...  Off  | 00000000:00:04.0 Off |                    0 |\n",
            "| N/A   35C    P0    26W / 250W |      0MiB / 16280MiB |      0%      Default |\n",
            "|                               |                      |                 ERR! |\n",
            "+-------------------------------+----------------------+----------------------+\n",
            "                                                                               \n",
            "+-----------------------------------------------------------------------------+\n",
            "| Processes:                                                                  |\n",
            "|  GPU   GI   CI        PID   Type   Process name                  GPU Memory |\n",
            "|        ID   ID                                                   Usage      |\n",
            "|=============================================================================|\n",
            "|  No running processes found                                                 |\n",
            "+-----------------------------------------------------------------------------+\n"
          ],
          "name": "stdout"
        }
      ]
    },
    {
      "cell_type": "code",
      "metadata": {
        "id": "d9gs5lTDL8am",
        "colab_type": "code",
        "colab": {
          "base_uri": "https://localhost:8080/",
          "height": 153
        },
        "outputId": "03e5d27c-acea-4710-a566-27e84af651ce"
      },
      "source": [
        "# Load dataset\n",
        "(X_train, y_train), (X_valid, y_valid) = fashion_mnist.load_data()"
      ],
      "execution_count": 6,
      "outputs": [
        {
          "output_type": "stream",
          "text": [
            "Downloading data from https://storage.googleapis.com/tensorflow/tf-keras-datasets/train-labels-idx1-ubyte.gz\n",
            "32768/29515 [=================================] - 0s 0us/step\n",
            "Downloading data from https://storage.googleapis.com/tensorflow/tf-keras-datasets/train-images-idx3-ubyte.gz\n",
            "26427392/26421880 [==============================] - 0s 0us/step\n",
            "Downloading data from https://storage.googleapis.com/tensorflow/tf-keras-datasets/t10k-labels-idx1-ubyte.gz\n",
            "8192/5148 [===============================================] - 0s 0us/step\n",
            "Downloading data from https://storage.googleapis.com/tensorflow/tf-keras-datasets/t10k-images-idx3-ubyte.gz\n",
            "4423680/4422102 [==============================] - 0s 0us/step\n"
          ],
          "name": "stdout"
        }
      ]
    },
    {
      "cell_type": "code",
      "metadata": {
        "id": "dr8sEhj8dLnT",
        "colab_type": "code",
        "colab": {
          "base_uri": "https://localhost:8080/",
          "height": 344
        },
        "outputId": "b6bf7d29-f5c6-4fbd-b7be-5237649d856c"
      },
      "source": [
        "# Review training data\n",
        "print(f'y_train: {y_train[:12]}')\n",
        "plt.figure(figsize=(5,5))\n",
        "for k in range(12):\n",
        "    plt.subplot(3, 4, k+1)\n",
        "    plt.imshow(X_train[k], cmap='Greys')\n",
        "    plt.axis('off')\n",
        "plt.tight_layout()\n",
        "plt.show()"
      ],
      "execution_count": 7,
      "outputs": [
        {
          "output_type": "stream",
          "text": [
            "y_train: [9 0 0 3 0 2 7 2 5 5 0 9]\n"
          ],
          "name": "stdout"
        },
        {
          "output_type": "display_data",
          "data": {
            "image/png": "[encoded data removed]",
            "text/plain": [
              "<Figure size 360x360 with 12 Axes>"
            ]
          },
          "metadata": {
            "tags": [],
            "needs_background": "light"
          }
        }
      ]
    },
    {
      "cell_type": "code",
      "metadata": {
        "id": "D19wZIC1dOhL",
        "colab_type": "code",
        "colab": {
          "base_uri": "https://localhost:8080/",
          "height": 299
        },
        "outputId": "c01a7166-b0f9-4e25-8e5c-4c5b3aeb96f5"
      },
      "source": [
        "# review validation set\n",
        "print(f'y_valid[0]: {y_valid[0]}')\n",
        "plt.imshow(X_valid[0], cmap='Greys')"
      ],
      "execution_count": 8,
      "outputs": [
        {
          "output_type": "stream",
          "text": [
            "y_valid[0]: 9\n"
          ],
          "name": "stdout"
        },
        {
          "output_type": "execute_result",
          "data": {
            "text/plain": [
              "<matplotlib.image.AxesImage at 0x7ff567b61a58>"
            ]
          },
          "metadata": {
            "tags": []
          },
          "execution_count": 8
        },
        {
          "output_type": "display_data",
          "data": {
            "image/png": "[encoded data removed]",
            "text/plain": [
              "<Figure size 432x288 with 1 Axes>"
            ]
          },
          "metadata": {
            "tags": [],
            "needs_background": "light"
          }
        }
      ]
    },
    {
      "cell_type": "code",
      "metadata": {
        "id": "Bc1y3zzndX4-",
        "colab_type": "code",
        "colab": {}
      },
      "source": [
        "# Preprocess data\n",
        "X_train = X_train.reshape(60000, 28, 28, 1).astype('float32')\n",
        "X_valid = X_valid.reshape(10000, 28, 28, 1).astype('float32')\n",
        "\n",
        "# do a min max scaling\n",
        "X_train /= 255\n",
        "X_valid /= 255\n",
        "\n",
        "# One hot encode labels\n",
        "n_classes = 10\n",
        "y_train = to_categorical(y_train, n_classes)\n",
        "y_valid = to_categorical(y_valid, n_classes)"
      ],
      "execution_count": 0,
      "outputs": []
    },
    {
      "cell_type": "code",
      "metadata": {
        "id": "ybKA3s80eJjC",
        "colab_type": "code",
        "colab": {}
      },
      "source": [
        "# Function to create CNN model for classifying fashion mnist data\n",
        "def cnn_classifier(X_train, y_train, X_valid, y_valid):\n",
        "  ''' Function create, fit a CNN model on data provided and returns trained model'''\n",
        "\n",
        "  # Define model\n",
        "  model = Sequential()\n",
        "  model.add(Conv2D(32, kernel_size=(3, 3), activation='relu', input_shape=(28, 28, 1)))\n",
        "\n",
        "  model.add(Conv2D(64, kernel_size=(3, 3), activation='relu'))\n",
        "  model.add(MaxPooling2D(pool_size=(2, 2)))\n",
        "  model.add(Dropout(0.25))\n",
        "  \n",
        "  model.add(Flatten())\n",
        "  \n",
        "  model.add(Dense(128, activation='relu'))\n",
        "  model.add(Dropout(0.5))\n",
        "  \n",
        "  model.add(Dense(n_classes, activation='softmax'))\n",
        "\n",
        "  # Compile model\n",
        "  model.compile(loss='categorical_crossentropy', optimizer='nadam', metrics=['accuracy'])\n",
        "\n",
        "  # Train model\n",
        "  model.fit(X_train, y_train, batch_size=128, epochs=10, verbose=1, validation_data=(X_valid, y_valid))\n",
        "\n",
        "  # Return trained model\n",
        "  return model\n"
      ],
      "execution_count": 0,
      "outputs": []
    },
    {
      "cell_type": "code",
      "metadata": {
        "id": "9pJDZmXXfn1u",
        "colab_type": "code",
        "colab": {
          "base_uri": "https://localhost:8080/",
          "height": 357
        },
        "outputId": "e8384f33-9e26-464e-f689-8c7dc4fccf1e"
      },
      "source": [
        "model = cnn_classifier(X_train, y_train, X_valid, y_valid)"
      ],
      "execution_count": 11,
      "outputs": [
        {
          "output_type": "stream",
          "text": [
            "Epoch 1/10\n",
            "469/469 [==============================] - 3s 7ms/step - loss: 0.5196 - accuracy: 0.8157 - val_loss: 0.3307 - val_accuracy: 0.8836\n",
            "Epoch 2/10\n",
            "469/469 [==============================] - 3s 7ms/step - loss: 0.3392 - accuracy: 0.8811 - val_loss: 0.2805 - val_accuracy: 0.8972\n",
            "Epoch 3/10\n",
            "469/469 [==============================] - 3s 7ms/step - loss: 0.2907 - accuracy: 0.8965 - val_loss: 0.2743 - val_accuracy: 0.8980\n",
            "Epoch 4/10\n",
            "469/469 [==============================] - 3s 7ms/step - loss: 0.2591 - accuracy: 0.9068 - val_loss: 0.2477 - val_accuracy: 0.9083\n",
            "Epoch 5/10\n",
            "469/469 [==============================] - 3s 7ms/step - loss: 0.2371 - accuracy: 0.9129 - val_loss: 0.2342 - val_accuracy: 0.9129\n",
            "Epoch 6/10\n",
            "469/469 [==============================] - 3s 7ms/step - loss: 0.2199 - accuracy: 0.9200 - val_loss: 0.2215 - val_accuracy: 0.9198\n",
            "Epoch 7/10\n",
            "469/469 [==============================] - 3s 7ms/step - loss: 0.2028 - accuracy: 0.9252 - val_loss: 0.2262 - val_accuracy: 0.9178\n",
            "Epoch 8/10\n",
            "469/469 [==============================] - 3s 7ms/step - loss: 0.1872 - accuracy: 0.9315 - val_loss: 0.2178 - val_accuracy: 0.9228\n",
            "Epoch 9/10\n",
            "469/469 [==============================] - 3s 7ms/step - loss: 0.1733 - accuracy: 0.9352 - val_loss: 0.2156 - val_accuracy: 0.9241\n",
            "Epoch 10/10\n",
            "469/469 [==============================] - 3s 7ms/step - loss: 0.1629 - accuracy: 0.9401 - val_loss: 0.2098 - val_accuracy: 0.9274\n"
          ],
          "name": "stdout"
        }
      ]
    },
    {
      "cell_type": "code",
      "metadata": {
        "id": "p7OJn8PjfzL5",
        "colab_type": "code",
        "colab": {
          "base_uri": "https://localhost:8080/",
          "height": 425
        },
        "outputId": "48bf34f4-e2cf-4976-8121-6d6636c9f251"
      },
      "source": [
        "model.summary()"
      ],
      "execution_count": 12,
      "outputs": [
        {
          "output_type": "stream",
          "text": [
            "Model: \"sequential\"\n",
            "_________________________________________________________________\n",
            "Layer (type)                 Output Shape              Param #   \n",
            "=================================================================\n",
            "conv2d (Conv2D)              (None, 26, 26, 32)        320       \n",
            "_________________________________________________________________\n",
            "conv2d_1 (Conv2D)            (None, 24, 24, 64)        18496     \n",
            "_________________________________________________________________\n",
            "max_pooling2d (MaxPooling2D) (None, 12, 12, 64)        0         \n",
            "_________________________________________________________________\n",
            "dropout (Dropout)            (None, 12, 12, 64)        0         \n",
            "_________________________________________________________________\n",
            "flatten (Flatten)            (None, 9216)              0         \n",
            "_________________________________________________________________\n",
            "dense (Dense)                (None, 128)               1179776   \n",
            "_________________________________________________________________\n",
            "dropout_1 (Dropout)          (None, 128)               0         \n",
            "_________________________________________________________________\n",
            "dense_1 (Dense)              (None, 10)                1290      \n",
            "=================================================================\n",
            "Total params: 1,199,882\n",
            "Trainable params: 1,199,882\n",
            "Non-trainable params: 0\n",
            "_________________________________________________________________\n"
          ],
          "name": "stdout"
        }
      ]
    },
    {
      "cell_type": "code",
      "metadata": {
        "id": "bpjzc70Pf8jb",
        "colab_type": "code",
        "colab": {
          "base_uri": "https://localhost:8080/",
          "height": 51
        },
        "outputId": "d9aacdd3-62a5-4b50-eb19-29a71d0e4e2f"
      },
      "source": [
        "model.evaluate(X_valid, y_valid)"
      ],
      "execution_count": 13,
      "outputs": [
        {
          "output_type": "stream",
          "text": [
            "313/313 [==============================] - 1s 2ms/step - loss: 0.2098 - accuracy: 0.9274\n"
          ],
          "name": "stdout"
        },
        {
          "output_type": "execute_result",
          "data": {
            "text/plain": [
              "[0.2097911834716797, 0.9273999929428101]"
            ]
          },
          "metadata": {
            "tags": []
          },
          "execution_count": 13
        }
      ]
    },
    {
      "cell_type": "markdown",
      "metadata": {
        "id": "tReJG27XgZ5O",
        "colab_type": "text"
      },
      "source": [
        "# Hyperparameter optimization using talos"
      ]
    },
    {
      "cell_type": "code",
      "metadata": {
        "id": "nFDuTVI6ggzJ",
        "colab_type": "code",
        "colab": {}
      },
      "source": [
        "\n",
        "import talos\n",
        "\n",
        "# Define dictionary of parameters that needs to be tuned\n",
        "# Please note that the higher the number of options, the higher the time it takes to train\n",
        "# Hence, removing unwanted combination options. \n",
        "p = {\n",
        "    'first_conv_neurons': [64, 128],\n",
        "    'first_conv_activation': ['relu'], # alternate option 'sigmoid' \n",
        "    'first_conv_kernel': [(3,3)], # (2,2)\n",
        "    'second_conv_neurons': [64, 128],\n",
        "    'second_conv_activation': ['relu'], # alternate option 'sigmoid'\n",
        "    'second_conv_kernel': [(3,3)], # alternate option (2,2) \n",
        "    'first_max_pool_size': [(2,2)], # alternate option (3,3)\n",
        "    'first_dropout': [0.25, 0.5],\n",
        "    'first_dense_neurons': [128, 256],\n",
        "    'second_dropout' : [0.5, 0.75],\n",
        "    'optimizer': ['nadam'], # alternate option 'adam'\n",
        "    'epochs' : [10], # alternate option 20\n",
        "    'batch_size': [64, 128]\n",
        "}\n",
        "\n"
      ],
      "execution_count": 0,
      "outputs": []
    },
    {
      "cell_type": "code",
      "metadata": {
        "id": "14AKMCAikHLr",
        "colab_type": "code",
        "colab": {}
      },
      "source": [
        "# Create keras model for use with talos model\n",
        "# Works just like regular model creation, but replace hyperparameters with params args\n",
        "def cnn_classifier_talos(X_train, y_train, X_valid, y_valid, params):\n",
        "  ''' Function create, fit a CNN model on data provided and returns trained model'''\n",
        "\n",
        "  # Define model\n",
        "  model = Sequential()\n",
        "  model.add(Conv2D(params['first_conv_neurons'], \n",
        "                   kernel_size=params['first_conv_kernel'],\n",
        "                   activation=params['first_conv_activation'], \n",
        "                   input_shape=(28, 28, 1)))\n",
        "\n",
        "  model.add(Conv2D(params['second_conv_neurons'], \n",
        "                   kernel_size=params['second_conv_kernel'],\n",
        "                   activation=params['second_conv_activation']))\n",
        "  \n",
        "  model.add(MaxPooling2D(pool_size=params['first_max_pool_size']))\n",
        "  model.add(Dropout(params['first_dropout']))\n",
        "  \n",
        "  model.add(Flatten())\n",
        "  \n",
        "  model.add(Dense(params['first_dense_neurons'],\n",
        "                  activation='relu'))\n",
        "  model.add(Dropout(params['second_dropout']))\n",
        "  \n",
        "  model.add(Dense(n_classes, activation='softmax'))\n",
        "\n",
        "  # Compile model\n",
        "  model.compile(loss='categorical_crossentropy', \n",
        "                optimizer=params['optimizer'], \n",
        "                metrics=['accuracy'])\n",
        "\n",
        "  # Train model\n",
        "  # make sure history object is returned by model.fit()\n",
        "  history = model.fit(X_train, y_train, \n",
        "            batch_size=params['batch_size'], \n",
        "            epochs=params['epochs'], \n",
        "            verbose=1, \n",
        "            validation_data=(X_valid, y_valid))\n",
        "\n",
        "  # Return trained model\n",
        "  return history, model\n"
      ],
      "execution_count": 0,
      "outputs": []
    },
    {
      "cell_type": "code",
      "metadata": {
        "id": "ZUJ4yxfYorKu",
        "colab_type": "code",
        "colab": {
          "base_uri": "https://localhost:8080/",
          "height": 1000
        },
        "outputId": "3868ab78-f751-4383-932c-0f1670b030a5"
      },
      "source": [
        "t = talos.Scan(x=X_train, y=y_train, params=p, model=cnn_classifier_talos,\n",
        "               x_val = X_valid, y_val = y_valid,\n",
        "               experiment_name='fashion_mnist')"
      ],
      "execution_count": 19,
      "outputs": [
        {
          "output_type": "stream",
          "text": [
            "\n",
            "  0%|          | 0/64 [00:00<?, ?it/s]\u001b[A"
          ],
          "name": "stderr"
        },
        {
          "output_type": "stream",
          "text": [
            "Epoch 1/10\n",
            "938/938 [==============================] - 6s 6ms/step - loss: 0.4908 - accuracy: 0.8265 - val_loss: 0.3125 - val_accuracy: 0.8849\n",
            "Epoch 2/10\n",
            "938/938 [==============================] - 5s 6ms/step - loss: 0.3188 - accuracy: 0.8855 - val_loss: 0.2709 - val_accuracy: 0.9000\n",
            "Epoch 3/10\n",
            "938/938 [==============================] - 5s 6ms/step - loss: 0.2700 - accuracy: 0.9032 - val_loss: 0.2626 - val_accuracy: 0.9020\n",
            "Epoch 4/10\n",
            "938/938 [==============================] - 5s 6ms/step - loss: 0.2354 - accuracy: 0.9141 - val_loss: 0.2216 - val_accuracy: 0.9159\n",
            "Epoch 5/10\n",
            "938/938 [==============================] - 5s 6ms/step - loss: 0.2159 - accuracy: 0.9211 - val_loss: 0.2373 - val_accuracy: 0.9124\n",
            "Epoch 6/10\n",
            "938/938 [==============================] - 5s 6ms/step - loss: 0.1931 - accuracy: 0.9273 - val_loss: 0.2153 - val_accuracy: 0.9262\n",
            "Epoch 7/10\n",
            "938/938 [==============================] - 5s 6ms/step - loss: 0.1791 - accuracy: 0.9328 - val_loss: 0.2105 - val_accuracy: 0.9266\n",
            "Epoch 8/10\n",
            "938/938 [==============================] - 5s 6ms/step - loss: 0.1673 - accuracy: 0.9379 - val_loss: 0.2123 - val_accuracy: 0.9266\n",
            "Epoch 9/10\n",
            "938/938 [==============================] - 5s 6ms/step - loss: 0.1552 - accuracy: 0.9420 - val_loss: 0.2121 - val_accuracy: 0.9287\n",
            "Epoch 10/10\n",
            "938/938 [==============================] - 5s 6ms/step - loss: 0.1460 - accuracy: 0.9446 - val_loss: 0.2228 - val_accuracy: 0.9263\n"
          ],
          "name": "stdout"
        },
        {
          "output_type": "stream",
          "text": [
            "\n",
            "  2%|▏         | 1/64 [00:55<57:59, 55.23s/it]\u001b[A"
          ],
          "name": "stderr"
        },
        {
          "output_type": "stream",
          "text": [
            "Epoch 1/10\n",
            "938/938 [==============================] - 5s 6ms/step - loss: 0.6559 - accuracy: 0.7678 - val_loss: 0.3617 - val_accuracy: 0.8719\n",
            "Epoch 2/10\n",
            "938/938 [==============================] - 5s 6ms/step - loss: 0.4507 - accuracy: 0.8403 - val_loss: 0.3062 - val_accuracy: 0.8893\n",
            "Epoch 3/10\n",
            "938/938 [==============================] - 5s 6ms/step - loss: 0.3888 - accuracy: 0.8614 - val_loss: 0.2764 - val_accuracy: 0.8975\n",
            "Epoch 4/10\n",
            "938/938 [==============================] - 5s 6ms/step - loss: 0.3514 - accuracy: 0.8741 - val_loss: 0.2658 - val_accuracy: 0.9040\n",
            "Epoch 5/10\n",
            "938/938 [==============================] - 5s 6ms/step - loss: 0.3229 - accuracy: 0.8827 - val_loss: 0.2846 - val_accuracy: 0.8951\n",
            "Epoch 6/10\n",
            "938/938 [==============================] - 5s 6ms/step - loss: 0.3052 - accuracy: 0.8897 - val_loss: 0.2478 - val_accuracy: 0.9102\n",
            "Epoch 7/10\n",
            "938/938 [==============================] - 6s 6ms/step - loss: 0.2897 - accuracy: 0.8948 - val_loss: 0.2380 - val_accuracy: 0.9125\n",
            "Epoch 8/10\n",
            "938/938 [==============================] - 5s 6ms/step - loss: 0.2754 - accuracy: 0.8995 - val_loss: 0.2293 - val_accuracy: 0.9182\n",
            "Epoch 9/10\n",
            "938/938 [==============================] - 5s 6ms/step - loss: 0.2587 - accuracy: 0.9048 - val_loss: 0.2343 - val_accuracy: 0.9154\n",
            "Epoch 10/10\n",
            "938/938 [==============================] - 5s 6ms/step - loss: 0.2512 - accuracy: 0.9071 - val_loss: 0.2314 - val_accuracy: 0.9192\n"
          ],
          "name": "stdout"
        },
        {
          "output_type": "stream",
          "text": [
            "\n",
            "  3%|▎         | 2/64 [01:50<57:05, 55.24s/it]\u001b[A"
          ],
          "name": "stderr"
        },
        {
          "output_type": "stream",
          "text": [
            "Epoch 1/10\n",
            "938/938 [==============================] - 7s 7ms/step - loss: 0.4646 - accuracy: 0.8350 - val_loss: 0.2998 - val_accuracy: 0.8891\n",
            "Epoch 2/10\n",
            "938/938 [==============================] - 7s 7ms/step - loss: 0.3024 - accuracy: 0.8914 - val_loss: 0.2461 - val_accuracy: 0.9100\n",
            "Epoch 3/10\n",
            "938/938 [==============================] - 7s 7ms/step - loss: 0.2566 - accuracy: 0.9063 - val_loss: 0.2358 - val_accuracy: 0.9135\n",
            "Epoch 4/10\n",
            "938/938 [==============================] - 7s 7ms/step - loss: 0.2242 - accuracy: 0.9184 - val_loss: 0.2280 - val_accuracy: 0.9163\n",
            "Epoch 5/10\n",
            "938/938 [==============================] - 7s 7ms/step - loss: 0.2023 - accuracy: 0.9248 - val_loss: 0.2222 - val_accuracy: 0.9188\n",
            "Epoch 6/10\n",
            "938/938 [==============================] - 7s 7ms/step - loss: 0.1811 - accuracy: 0.9334 - val_loss: 0.2149 - val_accuracy: 0.9240\n",
            "Epoch 7/10\n",
            "938/938 [==============================] - 7s 7ms/step - loss: 0.1628 - accuracy: 0.9392 - val_loss: 0.2300 - val_accuracy: 0.9216\n",
            "Epoch 8/10\n",
            "938/938 [==============================] - 7s 7ms/step - loss: 0.1484 - accuracy: 0.9437 - val_loss: 0.2179 - val_accuracy: 0.9279\n",
            "Epoch 9/10\n",
            "938/938 [==============================] - 7s 7ms/step - loss: 0.1359 - accuracy: 0.9491 - val_loss: 0.2181 - val_accuracy: 0.9280\n",
            "Epoch 10/10\n",
            "938/938 [==============================] - 7s 7ms/step - loss: 0.1248 - accuracy: 0.9531 - val_loss: 0.2234 - val_accuracy: 0.9302\n"
          ],
          "name": "stdout"
        },
        {
          "output_type": "stream",
          "text": [
            "\n",
            "  5%|▍         | 3/64 [03:00<1:00:30, 59.52s/it]\u001b[A"
          ],
          "name": "stderr"
        },
        {
          "output_type": "stream",
          "text": [
            "Epoch 1/10\n",
            "938/938 [==============================] - 7s 7ms/step - loss: 0.6165 - accuracy: 0.7859 - val_loss: 0.3431 - val_accuracy: 0.8775\n",
            "Epoch 2/10\n",
            "938/938 [==============================] - 7s 7ms/step - loss: 0.4135 - accuracy: 0.8541 - val_loss: 0.2814 - val_accuracy: 0.8958\n",
            "Epoch 3/10\n",
            "938/938 [==============================] - 7s 8ms/step - loss: 0.3590 - accuracy: 0.8710 - val_loss: 0.2641 - val_accuracy: 0.9055\n",
            "Epoch 4/10\n",
            "938/938 [==============================] - 7s 8ms/step - loss: 0.3257 - accuracy: 0.8838 - val_loss: 0.2479 - val_accuracy: 0.9078\n",
            "Epoch 5/10\n",
            "938/938 [==============================] - 7s 7ms/step - loss: 0.3029 - accuracy: 0.8928 - val_loss: 0.2494 - val_accuracy: 0.9098\n",
            "Epoch 6/10\n",
            "938/938 [==============================] - 7s 7ms/step - loss: 0.2818 - accuracy: 0.8989 - val_loss: 0.2346 - val_accuracy: 0.9143\n",
            "Epoch 7/10\n",
            "938/938 [==============================] - 7s 7ms/step - loss: 0.2628 - accuracy: 0.9045 - val_loss: 0.2325 - val_accuracy: 0.9197\n",
            "Epoch 8/10\n",
            "938/938 [==============================] - 7s 7ms/step - loss: 0.2495 - accuracy: 0.9100 - val_loss: 0.2257 - val_accuracy: 0.9201\n",
            "Epoch 9/10\n",
            "938/938 [==============================] - 7s 7ms/step - loss: 0.2416 - accuracy: 0.9116 - val_loss: 0.2150 - val_accuracy: 0.9246\n",
            "Epoch 10/10\n",
            "938/938 [==============================] - 7s 7ms/step - loss: 0.2319 - accuracy: 0.9158 - val_loss: 0.2232 - val_accuracy: 0.9227\n"
          ],
          "name": "stdout"
        },
        {
          "output_type": "stream",
          "text": [
            "\n",
            "  6%|▋         | 4/64 [04:09<1:02:38, 62.64s/it]\u001b[A"
          ],
          "name": "stderr"
        },
        {
          "output_type": "stream",
          "text": [
            "Epoch 1/10\n",
            "938/938 [==============================] - 5s 6ms/step - loss: 0.4873 - accuracy: 0.8258 - val_loss: 0.3580 - val_accuracy: 0.8654\n",
            "Epoch 2/10\n",
            "938/938 [==============================] - 5s 6ms/step - loss: 0.3322 - accuracy: 0.8815 - val_loss: 0.2751 - val_accuracy: 0.9021\n",
            "Epoch 3/10\n",
            "938/938 [==============================] - 5s 6ms/step - loss: 0.2895 - accuracy: 0.8947 - val_loss: 0.2476 - val_accuracy: 0.9085\n",
            "Epoch 4/10\n",
            "938/938 [==============================] - 5s 6ms/step - loss: 0.2649 - accuracy: 0.9029 - val_loss: 0.2366 - val_accuracy: 0.9124\n",
            "Epoch 5/10\n",
            "938/938 [==============================] - 5s 6ms/step - loss: 0.2422 - accuracy: 0.9110 - val_loss: 0.2259 - val_accuracy: 0.9189\n",
            "Epoch 6/10\n",
            "938/938 [==============================] - 5s 6ms/step - loss: 0.2260 - accuracy: 0.9174 - val_loss: 0.2200 - val_accuracy: 0.9209\n",
            "Epoch 7/10\n",
            "938/938 [==============================] - 5s 6ms/step - loss: 0.2141 - accuracy: 0.9204 - val_loss: 0.2214 - val_accuracy: 0.9210\n",
            "Epoch 8/10\n",
            "938/938 [==============================] - 5s 6ms/step - loss: 0.2046 - accuracy: 0.9246 - val_loss: 0.2128 - val_accuracy: 0.9239\n",
            "Epoch 9/10\n",
            "938/938 [==============================] - 5s 6ms/step - loss: 0.1950 - accuracy: 0.9275 - val_loss: 0.2058 - val_accuracy: 0.9256\n",
            "Epoch 10/10\n",
            "938/938 [==============================] - 5s 6ms/step - loss: 0.1847 - accuracy: 0.9310 - val_loss: 0.2059 - val_accuracy: 0.9271\n"
          ],
          "name": "stdout"
        },
        {
          "output_type": "stream",
          "text": [
            "\n",
            "  8%|▊         | 5/64 [05:05<59:23, 60.39s/it]  \u001b[A"
          ],
          "name": "stderr"
        },
        {
          "output_type": "stream",
          "text": [
            "Epoch 1/10\n",
            "938/938 [==============================] - 5s 6ms/step - loss: 0.6584 - accuracy: 0.7706 - val_loss: 0.3709 - val_accuracy: 0.8662\n",
            "Epoch 2/10\n",
            "938/938 [==============================] - 5s 6ms/step - loss: 0.4517 - accuracy: 0.8388 - val_loss: 0.3085 - val_accuracy: 0.8867\n",
            "Epoch 3/10\n",
            "938/938 [==============================] - 5s 6ms/step - loss: 0.3995 - accuracy: 0.8571 - val_loss: 0.2737 - val_accuracy: 0.8990\n",
            "Epoch 4/10\n",
            "938/938 [==============================] - 5s 6ms/step - loss: 0.3633 - accuracy: 0.8687 - val_loss: 0.2635 - val_accuracy: 0.9046\n",
            "Epoch 5/10\n",
            "938/938 [==============================] - 5s 6ms/step - loss: 0.3408 - accuracy: 0.8776 - val_loss: 0.2508 - val_accuracy: 0.9080\n",
            "Epoch 6/10\n",
            "938/938 [==============================] - 5s 6ms/step - loss: 0.3222 - accuracy: 0.8841 - val_loss: 0.2409 - val_accuracy: 0.9130\n",
            "Epoch 7/10\n",
            "938/938 [==============================] - 5s 6ms/step - loss: 0.3077 - accuracy: 0.8888 - val_loss: 0.2403 - val_accuracy: 0.9139\n",
            "Epoch 8/10\n",
            "938/938 [==============================] - 5s 6ms/step - loss: 0.2987 - accuracy: 0.8917 - val_loss: 0.2402 - val_accuracy: 0.9135\n",
            "Epoch 9/10\n",
            "938/938 [==============================] - 5s 6ms/step - loss: 0.2915 - accuracy: 0.8960 - val_loss: 0.2323 - val_accuracy: 0.9156\n",
            "Epoch 10/10\n",
            "938/938 [==============================] - 5s 6ms/step - loss: 0.2832 - accuracy: 0.8968 - val_loss: 0.2314 - val_accuracy: 0.9132\n"
          ],
          "name": "stdout"
        },
        {
          "output_type": "stream",
          "text": [
            "\n",
            "  9%|▉         | 6/64 [06:00<56:48, 58.77s/it]\u001b[A"
          ],
          "name": "stderr"
        },
        {
          "output_type": "stream",
          "text": [
            "Epoch 1/10\n",
            "938/938 [==============================] - 7s 7ms/step - loss: 0.4641 - accuracy: 0.8362 - val_loss: 0.3082 - val_accuracy: 0.8860\n",
            "Epoch 2/10\n",
            "938/938 [==============================] - 7s 7ms/step - loss: 0.3123 - accuracy: 0.8866 - val_loss: 0.2680 - val_accuracy: 0.8996\n",
            "Epoch 3/10\n",
            "938/938 [==============================] - 7s 7ms/step - loss: 0.2671 - accuracy: 0.9009 - val_loss: 0.2368 - val_accuracy: 0.9134\n",
            "Epoch 4/10\n",
            "938/938 [==============================] - 7s 7ms/step - loss: 0.2414 - accuracy: 0.9120 - val_loss: 0.2251 - val_accuracy: 0.9161\n",
            "Epoch 5/10\n",
            "938/938 [==============================] - 7s 7ms/step - loss: 0.2195 - accuracy: 0.9196 - val_loss: 0.2272 - val_accuracy: 0.9160\n",
            "Epoch 6/10\n",
            "938/938 [==============================] - 7s 7ms/step - loss: 0.2051 - accuracy: 0.9244 - val_loss: 0.2132 - val_accuracy: 0.9214\n",
            "Epoch 7/10\n",
            "938/938 [==============================] - 7s 7ms/step - loss: 0.1911 - accuracy: 0.9296 - val_loss: 0.2047 - val_accuracy: 0.9251\n",
            "Epoch 8/10\n",
            "938/938 [==============================] - 7s 7ms/step - loss: 0.1787 - accuracy: 0.9337 - val_loss: 0.2045 - val_accuracy: 0.9296\n",
            "Epoch 9/10\n",
            "938/938 [==============================] - 7s 7ms/step - loss: 0.1702 - accuracy: 0.9364 - val_loss: 0.2070 - val_accuracy: 0.9276\n",
            "Epoch 10/10\n",
            "938/938 [==============================] - 7s 7ms/step - loss: 0.1575 - accuracy: 0.9408 - val_loss: 0.2093 - val_accuracy: 0.9266\n"
          ],
          "name": "stdout"
        },
        {
          "output_type": "stream",
          "text": [
            "\n",
            " 11%|█         | 7/64 [07:09<58:51, 61.96s/it]\u001b[A"
          ],
          "name": "stderr"
        },
        {
          "output_type": "stream",
          "text": [
            "Epoch 1/10\n",
            "938/938 [==============================] - 7s 7ms/step - loss: 0.6180 - accuracy: 0.7829 - val_loss: 0.3477 - val_accuracy: 0.8722\n",
            "Epoch 2/10\n",
            "938/938 [==============================] - 7s 7ms/step - loss: 0.4240 - accuracy: 0.8487 - val_loss: 0.2915 - val_accuracy: 0.8949\n",
            "Epoch 3/10\n",
            "938/938 [==============================] - 7s 7ms/step - loss: 0.3733 - accuracy: 0.8654 - val_loss: 0.2659 - val_accuracy: 0.9027\n",
            "Epoch 4/10\n",
            "938/938 [==============================] - 7s 7ms/step - loss: 0.3420 - accuracy: 0.8767 - val_loss: 0.2559 - val_accuracy: 0.9055\n",
            "Epoch 5/10\n",
            "938/938 [==============================] - 7s 7ms/step - loss: 0.3196 - accuracy: 0.8844 - val_loss: 0.2363 - val_accuracy: 0.9132\n",
            "Epoch 6/10\n",
            "938/938 [==============================] - 7s 7ms/step - loss: 0.2993 - accuracy: 0.8924 - val_loss: 0.2304 - val_accuracy: 0.9167\n",
            "Epoch 7/10\n",
            "938/938 [==============================] - 7s 7ms/step - loss: 0.2879 - accuracy: 0.8966 - val_loss: 0.2262 - val_accuracy: 0.9179\n",
            "Epoch 8/10\n",
            "938/938 [==============================] - 7s 7ms/step - loss: 0.2758 - accuracy: 0.9004 - val_loss: 0.2320 - val_accuracy: 0.9153\n",
            "Epoch 9/10\n",
            "938/938 [==============================] - 7s 7ms/step - loss: 0.2654 - accuracy: 0.9040 - val_loss: 0.2248 - val_accuracy: 0.9210\n",
            "Epoch 10/10\n",
            "938/938 [==============================] - 7s 7ms/step - loss: 0.2596 - accuracy: 0.9053 - val_loss: 0.2214 - val_accuracy: 0.9203\n"
          ],
          "name": "stdout"
        },
        {
          "output_type": "stream",
          "text": [
            "\n",
            " 12%|█▎        | 8/64 [08:18<59:51, 64.14s/it]\u001b[A"
          ],
          "name": "stderr"
        },
        {
          "output_type": "stream",
          "text": [
            "Epoch 1/10\n",
            "938/938 [==============================] - 6s 6ms/step - loss: 0.4344 - accuracy: 0.8455 - val_loss: 0.3086 - val_accuracy: 0.8879\n",
            "Epoch 2/10\n",
            "938/938 [==============================] - 6s 6ms/step - loss: 0.2854 - accuracy: 0.8955 - val_loss: 0.2537 - val_accuracy: 0.9055\n",
            "Epoch 3/10\n",
            "938/938 [==============================] - 6s 6ms/step - loss: 0.2372 - accuracy: 0.9127 - val_loss: 0.2429 - val_accuracy: 0.9101\n",
            "Epoch 4/10\n",
            "938/938 [==============================] - 6s 6ms/step - loss: 0.2062 - accuracy: 0.9238 - val_loss: 0.2342 - val_accuracy: 0.9124\n",
            "Epoch 5/10\n",
            "938/938 [==============================] - 6s 6ms/step - loss: 0.1821 - accuracy: 0.9331 - val_loss: 0.2225 - val_accuracy: 0.9199\n",
            "Epoch 6/10\n",
            "938/938 [==============================] - 6s 6ms/step - loss: 0.1591 - accuracy: 0.9403 - val_loss: 0.2082 - val_accuracy: 0.9254\n",
            "Epoch 7/10\n",
            "938/938 [==============================] - 6s 6ms/step - loss: 0.1436 - accuracy: 0.9461 - val_loss: 0.2256 - val_accuracy: 0.9258\n",
            "Epoch 8/10\n",
            "938/938 [==============================] - 6s 6ms/step - loss: 0.1305 - accuracy: 0.9515 - val_loss: 0.2264 - val_accuracy: 0.9260\n",
            "Epoch 9/10\n",
            "938/938 [==============================] - 6s 6ms/step - loss: 0.1206 - accuracy: 0.9546 - val_loss: 0.2288 - val_accuracy: 0.9271\n",
            "Epoch 10/10\n",
            "938/938 [==============================] - 6s 6ms/step - loss: 0.1102 - accuracy: 0.9589 - val_loss: 0.2098 - val_accuracy: 0.9316\n"
          ],
          "name": "stdout"
        },
        {
          "output_type": "stream",
          "text": [
            "\n",
            " 14%|█▍        | 9/64 [09:18<57:29, 62.72s/it]\u001b[A"
          ],
          "name": "stderr"
        },
        {
          "output_type": "stream",
          "text": [
            "Epoch 1/10\n",
            "938/938 [==============================] - 6s 6ms/step - loss: 0.5219 - accuracy: 0.8171 - val_loss: 0.3113 - val_accuracy: 0.8891\n",
            "Epoch 2/10\n",
            "938/938 [==============================] - 6s 6ms/step - loss: 0.3455 - accuracy: 0.8767 - val_loss: 0.2736 - val_accuracy: 0.8986\n",
            "Epoch 3/10\n",
            "938/938 [==============================] - 6s 6ms/step - loss: 0.2989 - accuracy: 0.8936 - val_loss: 0.2467 - val_accuracy: 0.9114\n",
            "Epoch 4/10\n",
            "938/938 [==============================] - 6s 6ms/step - loss: 0.2699 - accuracy: 0.9038 - val_loss: 0.2506 - val_accuracy: 0.9078\n",
            "Epoch 5/10\n",
            "938/938 [==============================] - 6s 6ms/step - loss: 0.2485 - accuracy: 0.9111 - val_loss: 0.2287 - val_accuracy: 0.9164\n",
            "Epoch 6/10\n",
            "938/938 [==============================] - 6s 6ms/step - loss: 0.2315 - accuracy: 0.9153 - val_loss: 0.2302 - val_accuracy: 0.9179\n",
            "Epoch 7/10\n",
            "938/938 [==============================] - 6s 6ms/step - loss: 0.2178 - accuracy: 0.9215 - val_loss: 0.2187 - val_accuracy: 0.9210\n",
            "Epoch 8/10\n",
            "938/938 [==============================] - 6s 6ms/step - loss: 0.2060 - accuracy: 0.9241 - val_loss: 0.2141 - val_accuracy: 0.9215\n",
            "Epoch 9/10\n",
            "938/938 [==============================] - 6s 6ms/step - loss: 0.1946 - accuracy: 0.9286 - val_loss: 0.2152 - val_accuracy: 0.9246\n",
            "Epoch 10/10\n",
            "938/938 [==============================] - 6s 6ms/step - loss: 0.1852 - accuracy: 0.9313 - val_loss: 0.2094 - val_accuracy: 0.9290\n"
          ],
          "name": "stdout"
        },
        {
          "output_type": "stream",
          "text": [
            "\n",
            " 16%|█▌        | 10/64 [10:17<55:25, 61.58s/it]\u001b[A"
          ],
          "name": "stderr"
        },
        {
          "output_type": "stream",
          "text": [
            "Epoch 1/10\n",
            "938/938 [==============================] - 8s 8ms/step - loss: 0.4212 - accuracy: 0.8508 - val_loss: 0.2944 - val_accuracy: 0.8934\n",
            "Epoch 2/10\n",
            "938/938 [==============================] - 8s 8ms/step - loss: 0.2699 - accuracy: 0.9026 - val_loss: 0.2526 - val_accuracy: 0.9070\n",
            "Epoch 3/10\n",
            "938/938 [==============================] - 8s 8ms/step - loss: 0.2222 - accuracy: 0.9177 - val_loss: 0.2225 - val_accuracy: 0.9188\n",
            "Epoch 4/10\n",
            "938/938 [==============================] - 8s 8ms/step - loss: 0.1899 - accuracy: 0.9295 - val_loss: 0.2234 - val_accuracy: 0.9175\n",
            "Epoch 5/10\n",
            "938/938 [==============================] - 8s 8ms/step - loss: 0.1638 - accuracy: 0.9393 - val_loss: 0.2287 - val_accuracy: 0.9223\n",
            "Epoch 6/10\n",
            "938/938 [==============================] - 8s 8ms/step - loss: 0.1446 - accuracy: 0.9452 - val_loss: 0.2106 - val_accuracy: 0.9274\n",
            "Epoch 7/10\n",
            "938/938 [==============================] - 8s 8ms/step - loss: 0.1249 - accuracy: 0.9521 - val_loss: 0.2301 - val_accuracy: 0.9246\n",
            "Epoch 8/10\n",
            "938/938 [==============================] - 8s 8ms/step - loss: 0.1104 - accuracy: 0.9595 - val_loss: 0.2339 - val_accuracy: 0.9271\n",
            "Epoch 9/10\n",
            "938/938 [==============================] - 8s 8ms/step - loss: 0.0999 - accuracy: 0.9621 - val_loss: 0.2304 - val_accuracy: 0.9277\n",
            "Epoch 10/10\n",
            "938/938 [==============================] - 8s 8ms/step - loss: 0.0843 - accuracy: 0.9677 - val_loss: 0.2426 - val_accuracy: 0.9298\n"
          ],
          "name": "stdout"
        },
        {
          "output_type": "stream",
          "text": [
            "\n",
            " 17%|█▋        | 11/64 [11:34<58:31, 66.26s/it]\u001b[A"
          ],
          "name": "stderr"
        },
        {
          "output_type": "stream",
          "text": [
            "Epoch 1/10\n",
            "938/938 [==============================] - 8s 8ms/step - loss: 0.5144 - accuracy: 0.8176 - val_loss: 0.3102 - val_accuracy: 0.8886\n",
            "Epoch 2/10\n",
            "938/938 [==============================] - 8s 8ms/step - loss: 0.3422 - accuracy: 0.8779 - val_loss: 0.2639 - val_accuracy: 0.9002\n",
            "Epoch 3/10\n",
            "938/938 [==============================] - 8s 8ms/step - loss: 0.2919 - accuracy: 0.8963 - val_loss: 0.2538 - val_accuracy: 0.9114\n",
            "Epoch 4/10\n",
            "938/938 [==============================] - 8s 8ms/step - loss: 0.2608 - accuracy: 0.9068 - val_loss: 0.2303 - val_accuracy: 0.9157\n",
            "Epoch 5/10\n",
            "938/938 [==============================] - 8s 8ms/step - loss: 0.2404 - accuracy: 0.9126 - val_loss: 0.2175 - val_accuracy: 0.9200\n",
            "Epoch 6/10\n",
            "938/938 [==============================] - 8s 8ms/step - loss: 0.2203 - accuracy: 0.9204 - val_loss: 0.2194 - val_accuracy: 0.9223\n",
            "Epoch 7/10\n",
            "938/938 [==============================] - 8s 8ms/step - loss: 0.2031 - accuracy: 0.9262 - val_loss: 0.2198 - val_accuracy: 0.9196\n",
            "Epoch 8/10\n",
            "938/938 [==============================] - 8s 8ms/step - loss: 0.1917 - accuracy: 0.9298 - val_loss: 0.2149 - val_accuracy: 0.9223\n",
            "Epoch 9/10\n",
            "938/938 [==============================] - 8s 8ms/step - loss: 0.1807 - accuracy: 0.9328 - val_loss: 0.2182 - val_accuracy: 0.9295\n",
            "Epoch 10/10\n",
            "938/938 [==============================] - 8s 8ms/step - loss: 0.1709 - accuracy: 0.9367 - val_loss: 0.2158 - val_accuracy: 0.9256\n"
          ],
          "name": "stdout"
        },
        {
          "output_type": "stream",
          "text": [
            "\n",
            " 19%|█▉        | 12/64 [12:51<1:00:15, 69.54s/it]\u001b[A"
          ],
          "name": "stderr"
        },
        {
          "output_type": "stream",
          "text": [
            "Epoch 1/10\n",
            "938/938 [==============================] - 6s 6ms/step - loss: 0.4553 - accuracy: 0.8358 - val_loss: 0.3071 - val_accuracy: 0.8899\n",
            "Epoch 2/10\n",
            "938/938 [==============================] - 6s 6ms/step - loss: 0.2999 - accuracy: 0.8905 - val_loss: 0.2678 - val_accuracy: 0.9026\n",
            "Epoch 3/10\n",
            "938/938 [==============================] - 6s 6ms/step - loss: 0.2604 - accuracy: 0.9050 - val_loss: 0.2372 - val_accuracy: 0.9120\n",
            "Epoch 4/10\n",
            "938/938 [==============================] - 6s 6ms/step - loss: 0.2317 - accuracy: 0.9141 - val_loss: 0.2251 - val_accuracy: 0.9168\n",
            "Epoch 5/10\n",
            "938/938 [==============================] - 6s 6ms/step - loss: 0.2103 - accuracy: 0.9230 - val_loss: 0.2177 - val_accuracy: 0.9197\n",
            "Epoch 6/10\n",
            "938/938 [==============================] - 6s 6ms/step - loss: 0.1944 - accuracy: 0.9281 - val_loss: 0.2202 - val_accuracy: 0.9239\n",
            "Epoch 7/10\n",
            "938/938 [==============================] - 6s 6ms/step - loss: 0.1797 - accuracy: 0.9327 - val_loss: 0.2152 - val_accuracy: 0.9226\n",
            "Epoch 8/10\n",
            "938/938 [==============================] - 6s 6ms/step - loss: 0.1684 - accuracy: 0.9375 - val_loss: 0.2043 - val_accuracy: 0.9277\n",
            "Epoch 9/10\n",
            "938/938 [==============================] - 6s 6ms/step - loss: 0.1575 - accuracy: 0.9410 - val_loss: 0.2024 - val_accuracy: 0.9254\n",
            "Epoch 10/10\n",
            "938/938 [==============================] - 6s 6ms/step - loss: 0.1490 - accuracy: 0.9437 - val_loss: 0.2090 - val_accuracy: 0.9276\n"
          ],
          "name": "stdout"
        },
        {
          "output_type": "stream",
          "text": [
            "\n",
            " 20%|██        | 13/64 [13:50<56:27, 66.42s/it]  \u001b[A"
          ],
          "name": "stderr"
        },
        {
          "output_type": "stream",
          "text": [
            "Epoch 1/10\n",
            "938/938 [==============================] - 6s 6ms/step - loss: 0.5551 - accuracy: 0.8039 - val_loss: 0.3367 - val_accuracy: 0.8771\n",
            "Epoch 2/10\n",
            "938/938 [==============================] - 6s 6ms/step - loss: 0.3782 - accuracy: 0.8657 - val_loss: 0.2889 - val_accuracy: 0.8957\n",
            "Epoch 3/10\n",
            "938/938 [==============================] - 6s 6ms/step - loss: 0.3272 - accuracy: 0.8833 - val_loss: 0.2644 - val_accuracy: 0.9033\n",
            "Epoch 4/10\n",
            "938/938 [==============================] - 6s 6ms/step - loss: 0.3016 - accuracy: 0.8898 - val_loss: 0.2541 - val_accuracy: 0.9060\n",
            "Epoch 5/10\n",
            "938/938 [==============================] - 6s 6ms/step - loss: 0.2806 - accuracy: 0.8989 - val_loss: 0.2360 - val_accuracy: 0.9145\n",
            "Epoch 6/10\n",
            "938/938 [==============================] - 6s 6ms/step - loss: 0.2653 - accuracy: 0.9042 - val_loss: 0.2234 - val_accuracy: 0.9147\n",
            "Epoch 7/10\n",
            "938/938 [==============================] - 6s 6ms/step - loss: 0.2534 - accuracy: 0.9079 - val_loss: 0.2225 - val_accuracy: 0.9182\n",
            "Epoch 8/10\n",
            "938/938 [==============================] - 6s 6ms/step - loss: 0.2443 - accuracy: 0.9120 - val_loss: 0.2160 - val_accuracy: 0.9210\n",
            "Epoch 9/10\n",
            "938/938 [==============================] - 6s 6ms/step - loss: 0.2357 - accuracy: 0.9148 - val_loss: 0.2125 - val_accuracy: 0.9229\n",
            "Epoch 10/10\n",
            "938/938 [==============================] - 6s 6ms/step - loss: 0.2295 - accuracy: 0.9167 - val_loss: 0.2117 - val_accuracy: 0.9239\n"
          ],
          "name": "stdout"
        },
        {
          "output_type": "stream",
          "text": [
            "\n",
            " 22%|██▏       | 14/64 [14:49<53:25, 64.11s/it]\u001b[A"
          ],
          "name": "stderr"
        },
        {
          "output_type": "stream",
          "text": [
            "Epoch 1/10\n",
            "938/938 [==============================] - 8s 8ms/step - loss: 0.4224 - accuracy: 0.8485 - val_loss: 0.3315 - val_accuracy: 0.8769\n",
            "Epoch 2/10\n",
            "938/938 [==============================] - 8s 8ms/step - loss: 0.2793 - accuracy: 0.8979 - val_loss: 0.2446 - val_accuracy: 0.9109\n",
            "Epoch 3/10\n",
            "938/938 [==============================] - 8s 8ms/step - loss: 0.2346 - accuracy: 0.9134 - val_loss: 0.2324 - val_accuracy: 0.9124\n",
            "Epoch 4/10\n",
            "938/938 [==============================] - 8s 8ms/step - loss: 0.2047 - accuracy: 0.9237 - val_loss: 0.2173 - val_accuracy: 0.9196\n",
            "Epoch 5/10\n",
            "938/938 [==============================] - 8s 8ms/step - loss: 0.1876 - accuracy: 0.9311 - val_loss: 0.2135 - val_accuracy: 0.9261\n",
            "Epoch 6/10\n",
            "938/938 [==============================] - 8s 8ms/step - loss: 0.1682 - accuracy: 0.9380 - val_loss: 0.2271 - val_accuracy: 0.9224\n",
            "Epoch 7/10\n",
            "938/938 [==============================] - 8s 8ms/step - loss: 0.1531 - accuracy: 0.9431 - val_loss: 0.2122 - val_accuracy: 0.9289\n",
            "Epoch 8/10\n",
            "938/938 [==============================] - 8s 8ms/step - loss: 0.1417 - accuracy: 0.9466 - val_loss: 0.2085 - val_accuracy: 0.9305\n",
            "Epoch 9/10\n",
            "938/938 [==============================] - 8s 8ms/step - loss: 0.1312 - accuracy: 0.9507 - val_loss: 0.2126 - val_accuracy: 0.9320\n",
            "Epoch 10/10\n",
            "938/938 [==============================] - 8s 8ms/step - loss: 0.1212 - accuracy: 0.9536 - val_loss: 0.2264 - val_accuracy: 0.9283\n"
          ],
          "name": "stdout"
        },
        {
          "output_type": "stream",
          "text": [
            "\n",
            " 23%|██▎       | 15/64 [16:06<55:29, 67.95s/it]\u001b[A"
          ],
          "name": "stderr"
        },
        {
          "output_type": "stream",
          "text": [
            "Epoch 1/10\n",
            "938/938 [==============================] - 8s 8ms/step - loss: 0.5306 - accuracy: 0.8151 - val_loss: 0.3555 - val_accuracy: 0.8717\n",
            "Epoch 2/10\n",
            "938/938 [==============================] - 8s 8ms/step - loss: 0.3528 - accuracy: 0.8741 - val_loss: 0.2687 - val_accuracy: 0.9019\n",
            "Epoch 3/10\n",
            "938/938 [==============================] - 8s 8ms/step - loss: 0.3081 - accuracy: 0.8901 - val_loss: 0.2570 - val_accuracy: 0.9033\n",
            "Epoch 4/10\n",
            "938/938 [==============================] - 8s 8ms/step - loss: 0.2753 - accuracy: 0.8998 - val_loss: 0.2434 - val_accuracy: 0.9109\n",
            "Epoch 5/10\n",
            "938/938 [==============================] - 8s 8ms/step - loss: 0.2580 - accuracy: 0.9061 - val_loss: 0.2314 - val_accuracy: 0.9164\n",
            "Epoch 6/10\n",
            "938/938 [==============================] - 8s 8ms/step - loss: 0.2437 - accuracy: 0.9107 - val_loss: 0.2233 - val_accuracy: 0.9161\n",
            "Epoch 7/10\n",
            "938/938 [==============================] - 8s 8ms/step - loss: 0.2257 - accuracy: 0.9183 - val_loss: 0.2171 - val_accuracy: 0.9195\n",
            "Epoch 8/10\n",
            "938/938 [==============================] - 8s 8ms/step - loss: 0.2186 - accuracy: 0.9209 - val_loss: 0.2042 - val_accuracy: 0.9252\n",
            "Epoch 9/10\n",
            "938/938 [==============================] - 8s 8ms/step - loss: 0.2100 - accuracy: 0.9235 - val_loss: 0.2235 - val_accuracy: 0.9164\n",
            "Epoch 10/10\n",
            "938/938 [==============================] - 8s 8ms/step - loss: 0.1972 - accuracy: 0.9286 - val_loss: 0.2086 - val_accuracy: 0.9262\n"
          ],
          "name": "stdout"
        },
        {
          "output_type": "stream",
          "text": [
            "\n",
            " 25%|██▌       | 16/64 [17:23<56:33, 70.70s/it]\u001b[A"
          ],
          "name": "stderr"
        },
        {
          "output_type": "stream",
          "text": [
            "Epoch 1/10\n",
            "938/938 [==============================] - 6s 7ms/step - loss: 0.4714 - accuracy: 0.8322 - val_loss: 0.3076 - val_accuracy: 0.8874\n",
            "Epoch 2/10\n",
            "938/938 [==============================] - 6s 7ms/step - loss: 0.3117 - accuracy: 0.8882 - val_loss: 0.2623 - val_accuracy: 0.9041\n",
            "Epoch 3/10\n",
            "938/938 [==============================] - 6s 7ms/step - loss: 0.2655 - accuracy: 0.9031 - val_loss: 0.2531 - val_accuracy: 0.9089\n",
            "Epoch 4/10\n",
            "938/938 [==============================] - 6s 7ms/step - loss: 0.2388 - accuracy: 0.9127 - val_loss: 0.2237 - val_accuracy: 0.9197\n",
            "Epoch 5/10\n",
            "938/938 [==============================] - 6s 7ms/step - loss: 0.2129 - accuracy: 0.9213 - val_loss: 0.2203 - val_accuracy: 0.9170\n",
            "Epoch 6/10\n",
            "938/938 [==============================] - 6s 6ms/step - loss: 0.1961 - accuracy: 0.9279 - val_loss: 0.2088 - val_accuracy: 0.9259\n",
            "Epoch 7/10\n",
            "938/938 [==============================] - 6s 6ms/step - loss: 0.1785 - accuracy: 0.9347 - val_loss: 0.2211 - val_accuracy: 0.9204\n",
            "Epoch 8/10\n",
            "938/938 [==============================] - 6s 7ms/step - loss: 0.1669 - accuracy: 0.9372 - val_loss: 0.2104 - val_accuracy: 0.9240\n",
            "Epoch 9/10\n",
            "938/938 [==============================] - 6s 6ms/step - loss: 0.1525 - accuracy: 0.9423 - val_loss: 0.2247 - val_accuracy: 0.9227\n",
            "Epoch 10/10\n",
            "938/938 [==============================] - 6s 7ms/step - loss: 0.1421 - accuracy: 0.9464 - val_loss: 0.2271 - val_accuracy: 0.9261\n"
          ],
          "name": "stdout"
        },
        {
          "output_type": "stream",
          "text": [
            "\n",
            " 27%|██▋       | 17/64 [18:25<53:24, 68.17s/it]\u001b[A"
          ],
          "name": "stderr"
        },
        {
          "output_type": "stream",
          "text": [
            "Epoch 1/10\n",
            "938/938 [==============================] - 6s 7ms/step - loss: 0.6227 - accuracy: 0.7783 - val_loss: 0.3415 - val_accuracy: 0.8797\n",
            "Epoch 2/10\n",
            "938/938 [==============================] - 6s 7ms/step - loss: 0.4271 - accuracy: 0.8469 - val_loss: 0.3069 - val_accuracy: 0.8896\n",
            "Epoch 3/10\n",
            "938/938 [==============================] - 6s 7ms/step - loss: 0.3734 - accuracy: 0.8664 - val_loss: 0.2696 - val_accuracy: 0.9025\n",
            "Epoch 4/10\n",
            "938/938 [==============================] - 6s 7ms/step - loss: 0.3421 - accuracy: 0.8767 - val_loss: 0.2687 - val_accuracy: 0.9020\n",
            "Epoch 5/10\n",
            "938/938 [==============================] - 6s 7ms/step - loss: 0.3205 - accuracy: 0.8844 - val_loss: 0.2539 - val_accuracy: 0.9075\n",
            "Epoch 6/10\n",
            "938/938 [==============================] - 6s 7ms/step - loss: 0.3030 - accuracy: 0.8922 - val_loss: 0.2409 - val_accuracy: 0.9141\n",
            "Epoch 7/10\n",
            "938/938 [==============================] - 6s 7ms/step - loss: 0.2843 - accuracy: 0.8956 - val_loss: 0.2435 - val_accuracy: 0.9108\n",
            "Epoch 8/10\n",
            "938/938 [==============================] - 6s 7ms/step - loss: 0.2731 - accuracy: 0.9009 - val_loss: 0.2353 - val_accuracy: 0.9141\n",
            "Epoch 9/10\n",
            "938/938 [==============================] - 6s 7ms/step - loss: 0.2614 - accuracy: 0.9045 - val_loss: 0.2307 - val_accuracy: 0.9177\n",
            "Epoch 10/10\n",
            "938/938 [==============================] - 6s 7ms/step - loss: 0.2492 - accuracy: 0.9084 - val_loss: 0.2278 - val_accuracy: 0.9219\n"
          ],
          "name": "stdout"
        },
        {
          "output_type": "stream",
          "text": [
            "\n",
            " 28%|██▊       | 18/64 [19:28<51:02, 66.57s/it]\u001b[A"
          ],
          "name": "stderr"
        },
        {
          "output_type": "stream",
          "text": [
            "Epoch 1/10\n",
            "938/938 [==============================] - 8s 8ms/step - loss: 0.4498 - accuracy: 0.8429 - val_loss: 0.2891 - val_accuracy: 0.8965\n",
            "Epoch 2/10\n",
            "938/938 [==============================] - 8s 8ms/step - loss: 0.2909 - accuracy: 0.8948 - val_loss: 0.2555 - val_accuracy: 0.9064\n",
            "Epoch 3/10\n",
            "938/938 [==============================] - 8s 8ms/step - loss: 0.2451 - accuracy: 0.9103 - val_loss: 0.2401 - val_accuracy: 0.9137\n",
            "Epoch 4/10\n",
            "938/938 [==============================] - 8s 8ms/step - loss: 0.2156 - accuracy: 0.9209 - val_loss: 0.2283 - val_accuracy: 0.9188\n",
            "Epoch 5/10\n",
            "938/938 [==============================] - 8s 8ms/step - loss: 0.1891 - accuracy: 0.9293 - val_loss: 0.2125 - val_accuracy: 0.9244\n",
            "Epoch 6/10\n",
            "938/938 [==============================] - 8s 8ms/step - loss: 0.1708 - accuracy: 0.9365 - val_loss: 0.2137 - val_accuracy: 0.9229\n",
            "Epoch 7/10\n",
            "938/938 [==============================] - 8s 8ms/step - loss: 0.1534 - accuracy: 0.9429 - val_loss: 0.2157 - val_accuracy: 0.9266\n",
            "Epoch 8/10\n",
            "938/938 [==============================] - 8s 8ms/step - loss: 0.1409 - accuracy: 0.9460 - val_loss: 0.2106 - val_accuracy: 0.9300\n",
            "Epoch 9/10\n",
            "938/938 [==============================] - 8s 8ms/step - loss: 0.1292 - accuracy: 0.9505 - val_loss: 0.2260 - val_accuracy: 0.9278\n",
            "Epoch 10/10\n",
            "938/938 [==============================] - 8s 8ms/step - loss: 0.1133 - accuracy: 0.9567 - val_loss: 0.2271 - val_accuracy: 0.9293\n"
          ],
          "name": "stdout"
        },
        {
          "output_type": "stream",
          "text": [
            "\n",
            " 30%|██▉       | 19/64 [20:46<52:36, 70.14s/it]\u001b[A"
          ],
          "name": "stderr"
        },
        {
          "output_type": "stream",
          "text": [
            "Epoch 1/10\n",
            "938/938 [==============================] - 8s 8ms/step - loss: 0.6056 - accuracy: 0.7873 - val_loss: 0.3359 - val_accuracy: 0.8807\n",
            "Epoch 2/10\n",
            "938/938 [==============================] - 8s 8ms/step - loss: 0.4122 - accuracy: 0.8535 - val_loss: 0.2885 - val_accuracy: 0.8963\n",
            "Epoch 3/10\n",
            "938/938 [==============================] - 8s 8ms/step - loss: 0.3563 - accuracy: 0.8733 - val_loss: 0.2715 - val_accuracy: 0.8992\n",
            "Epoch 4/10\n",
            "938/938 [==============================] - 8s 8ms/step - loss: 0.3292 - accuracy: 0.8834 - val_loss: 0.2529 - val_accuracy: 0.9072\n",
            "Epoch 5/10\n",
            "938/938 [==============================] - 8s 8ms/step - loss: 0.3046 - accuracy: 0.8912 - val_loss: 0.2393 - val_accuracy: 0.9131\n",
            "Epoch 6/10\n",
            "938/938 [==============================] - 8s 8ms/step - loss: 0.2836 - accuracy: 0.8978 - val_loss: 0.2331 - val_accuracy: 0.9151\n",
            "Epoch 7/10\n",
            "938/938 [==============================] - 8s 8ms/step - loss: 0.2683 - accuracy: 0.9031 - val_loss: 0.2236 - val_accuracy: 0.9215\n",
            "Epoch 8/10\n",
            "938/938 [==============================] - 8s 8ms/step - loss: 0.2565 - accuracy: 0.9070 - val_loss: 0.2265 - val_accuracy: 0.9169\n",
            "Epoch 9/10\n",
            "938/938 [==============================] - 8s 8ms/step - loss: 0.2441 - accuracy: 0.9117 - val_loss: 0.2273 - val_accuracy: 0.9220\n",
            "Epoch 10/10\n",
            "938/938 [==============================] - 8s 8ms/step - loss: 0.2299 - accuracy: 0.9150 - val_loss: 0.2351 - val_accuracy: 0.9183\n"
          ],
          "name": "stdout"
        },
        {
          "output_type": "stream",
          "text": [
            "\n",
            " 31%|███▏      | 20/64 [22:05<53:19, 72.72s/it]\u001b[A"
          ],
          "name": "stderr"
        },
        {
          "output_type": "stream",
          "text": [
            "Epoch 1/10\n",
            "938/938 [==============================] - 6s 7ms/step - loss: 0.4819 - accuracy: 0.8283 - val_loss: 0.3284 - val_accuracy: 0.8805\n",
            "Epoch 2/10\n",
            "938/938 [==============================] - 6s 7ms/step - loss: 0.3324 - accuracy: 0.8802 - val_loss: 0.2628 - val_accuracy: 0.9028\n",
            "Epoch 3/10\n",
            "938/938 [==============================] - 6s 7ms/step - loss: 0.2857 - accuracy: 0.8960 - val_loss: 0.2472 - val_accuracy: 0.9089\n",
            "Epoch 4/10\n",
            "938/938 [==============================] - 6s 7ms/step - loss: 0.2580 - accuracy: 0.9049 - val_loss: 0.2339 - val_accuracy: 0.9172\n",
            "Epoch 5/10\n",
            "938/938 [==============================] - 6s 7ms/step - loss: 0.2360 - accuracy: 0.9128 - val_loss: 0.2198 - val_accuracy: 0.9193\n",
            "Epoch 6/10\n",
            "938/938 [==============================] - 6s 6ms/step - loss: 0.2231 - accuracy: 0.9181 - val_loss: 0.2085 - val_accuracy: 0.9223\n",
            "Epoch 7/10\n",
            "938/938 [==============================] - 6s 7ms/step - loss: 0.2097 - accuracy: 0.9221 - val_loss: 0.2103 - val_accuracy: 0.9237\n",
            "Epoch 8/10\n",
            "938/938 [==============================] - 6s 7ms/step - loss: 0.1973 - accuracy: 0.9265 - val_loss: 0.2069 - val_accuracy: 0.9282\n",
            "Epoch 9/10\n",
            "938/938 [==============================] - 6s 7ms/step - loss: 0.1890 - accuracy: 0.9301 - val_loss: 0.2008 - val_accuracy: 0.9261\n",
            "Epoch 10/10\n",
            "938/938 [==============================] - 6s 7ms/step - loss: 0.1825 - accuracy: 0.9317 - val_loss: 0.1997 - val_accuracy: 0.9293\n"
          ],
          "name": "stdout"
        },
        {
          "output_type": "stream",
          "text": [
            "\n",
            " 33%|███▎      | 21/64 [23:07<49:52, 69.59s/it]\u001b[A"
          ],
          "name": "stderr"
        },
        {
          "output_type": "stream",
          "text": [
            "Epoch 1/10\n",
            "938/938 [==============================] - 6s 7ms/step - loss: 0.6332 - accuracy: 0.7766 - val_loss: 0.3600 - val_accuracy: 0.8715\n",
            "Epoch 2/10\n",
            "938/938 [==============================] - 6s 7ms/step - loss: 0.4436 - accuracy: 0.8405 - val_loss: 0.3083 - val_accuracy: 0.8874\n",
            "Epoch 3/10\n",
            "938/938 [==============================] - 6s 7ms/step - loss: 0.3919 - accuracy: 0.8602 - val_loss: 0.2926 - val_accuracy: 0.8917\n",
            "Epoch 4/10\n",
            "938/938 [==============================] - 6s 7ms/step - loss: 0.3588 - accuracy: 0.8703 - val_loss: 0.2669 - val_accuracy: 0.9036\n",
            "Epoch 5/10\n",
            "938/938 [==============================] - 6s 7ms/step - loss: 0.3369 - accuracy: 0.8806 - val_loss: 0.2568 - val_accuracy: 0.9074\n",
            "Epoch 6/10\n",
            "938/938 [==============================] - 6s 7ms/step - loss: 0.3174 - accuracy: 0.8866 - val_loss: 0.2507 - val_accuracy: 0.9113\n",
            "Epoch 7/10\n",
            "938/938 [==============================] - 6s 7ms/step - loss: 0.3094 - accuracy: 0.8873 - val_loss: 0.2404 - val_accuracy: 0.9126\n",
            "Epoch 8/10\n",
            "938/938 [==============================] - 6s 7ms/step - loss: 0.2964 - accuracy: 0.8923 - val_loss: 0.2323 - val_accuracy: 0.9154\n",
            "Epoch 9/10\n",
            "938/938 [==============================] - 6s 7ms/step - loss: 0.2855 - accuracy: 0.8962 - val_loss: 0.2249 - val_accuracy: 0.9165\n",
            "Epoch 10/10\n",
            "938/938 [==============================] - 6s 7ms/step - loss: 0.2801 - accuracy: 0.8988 - val_loss: 0.2283 - val_accuracy: 0.9181\n"
          ],
          "name": "stdout"
        },
        {
          "output_type": "stream",
          "text": [
            "\n",
            " 34%|███▍      | 22/64 [24:10<47:17, 67.55s/it]\u001b[A"
          ],
          "name": "stderr"
        },
        {
          "output_type": "stream",
          "text": [
            "Epoch 1/10\n",
            "938/938 [==============================] - 8s 8ms/step - loss: 0.4529 - accuracy: 0.8392 - val_loss: 0.2990 - val_accuracy: 0.8869\n",
            "Epoch 2/10\n",
            "938/938 [==============================] - 8s 8ms/step - loss: 0.3081 - accuracy: 0.8897 - val_loss: 0.2666 - val_accuracy: 0.9007\n",
            "Epoch 3/10\n",
            "938/938 [==============================] - 8s 8ms/step - loss: 0.2638 - accuracy: 0.9032 - val_loss: 0.2400 - val_accuracy: 0.9112\n",
            "Epoch 4/10\n",
            "938/938 [==============================] - 8s 8ms/step - loss: 0.2360 - accuracy: 0.9133 - val_loss: 0.2253 - val_accuracy: 0.9147\n",
            "Epoch 5/10\n",
            "938/938 [==============================] - 8s 8ms/step - loss: 0.2169 - accuracy: 0.9201 - val_loss: 0.2205 - val_accuracy: 0.9212\n",
            "Epoch 6/10\n",
            "938/938 [==============================] - 8s 8ms/step - loss: 0.2009 - accuracy: 0.9256 - val_loss: 0.2207 - val_accuracy: 0.9202\n",
            "Epoch 7/10\n",
            "938/938 [==============================] - 8s 8ms/step - loss: 0.1902 - accuracy: 0.9288 - val_loss: 0.2057 - val_accuracy: 0.9255\n",
            "Epoch 8/10\n",
            "938/938 [==============================] - 8s 8ms/step - loss: 0.1785 - accuracy: 0.9340 - val_loss: 0.2077 - val_accuracy: 0.9264\n",
            "Epoch 9/10\n",
            "938/938 [==============================] - 8s 8ms/step - loss: 0.1664 - accuracy: 0.9374 - val_loss: 0.2090 - val_accuracy: 0.9277\n",
            "Epoch 10/10\n",
            "938/938 [==============================] - 8s 8ms/step - loss: 0.1575 - accuracy: 0.9398 - val_loss: 0.2206 - val_accuracy: 0.9280\n"
          ],
          "name": "stdout"
        },
        {
          "output_type": "stream",
          "text": [
            "\n",
            " 36%|███▌      | 23/64 [25:29<48:23, 70.81s/it]\u001b[A"
          ],
          "name": "stderr"
        },
        {
          "output_type": "stream",
          "text": [
            "Epoch 1/10\n",
            "938/938 [==============================] - 8s 8ms/step - loss: 0.6361 - accuracy: 0.7814 - val_loss: 0.3397 - val_accuracy: 0.8800\n",
            "Epoch 2/10\n",
            "938/938 [==============================] - 8s 8ms/step - loss: 0.4313 - accuracy: 0.8483 - val_loss: 0.2940 - val_accuracy: 0.8959\n",
            "Epoch 3/10\n",
            "938/938 [==============================] - 8s 8ms/step - loss: 0.3752 - accuracy: 0.8667 - val_loss: 0.2696 - val_accuracy: 0.9020\n",
            "Epoch 4/10\n",
            "938/938 [==============================] - 8s 8ms/step - loss: 0.3497 - accuracy: 0.8754 - val_loss: 0.2613 - val_accuracy: 0.9077\n",
            "Epoch 5/10\n",
            "938/938 [==============================] - 8s 8ms/step - loss: 0.3266 - accuracy: 0.8833 - val_loss: 0.2492 - val_accuracy: 0.9103\n",
            "Epoch 6/10\n",
            "938/938 [==============================] - 8s 8ms/step - loss: 0.3085 - accuracy: 0.8888 - val_loss: 0.2469 - val_accuracy: 0.9108\n",
            "Epoch 7/10\n",
            "938/938 [==============================] - 8s 8ms/step - loss: 0.2943 - accuracy: 0.8941 - val_loss: 0.2356 - val_accuracy: 0.9128\n",
            "Epoch 8/10\n",
            "938/938 [==============================] - 8s 8ms/step - loss: 0.2812 - accuracy: 0.9001 - val_loss: 0.2339 - val_accuracy: 0.9153\n",
            "Epoch 9/10\n",
            "938/938 [==============================] - 8s 8ms/step - loss: 0.2684 - accuracy: 0.9025 - val_loss: 0.2328 - val_accuracy: 0.9174\n",
            "Epoch 10/10\n",
            "938/938 [==============================] - 8s 8ms/step - loss: 0.2618 - accuracy: 0.9051 - val_loss: 0.2256 - val_accuracy: 0.9202\n"
          ],
          "name": "stdout"
        },
        {
          "output_type": "stream",
          "text": [
            "\n",
            " 38%|███▊      | 24/64 [26:47<48:41, 73.04s/it]\u001b[A"
          ],
          "name": "stderr"
        },
        {
          "output_type": "stream",
          "text": [
            "Epoch 1/10\n",
            "938/938 [==============================] - 7s 7ms/step - loss: 0.4246 - accuracy: 0.8482 - val_loss: 0.2947 - val_accuracy: 0.8953\n",
            "Epoch 2/10\n",
            "938/938 [==============================] - 7s 7ms/step - loss: 0.2762 - accuracy: 0.8996 - val_loss: 0.2561 - val_accuracy: 0.9047\n",
            "Epoch 3/10\n",
            "938/938 [==============================] - 6s 7ms/step - loss: 0.2316 - accuracy: 0.9155 - val_loss: 0.2379 - val_accuracy: 0.9131\n",
            "Epoch 4/10\n",
            "938/938 [==============================] - 7s 7ms/step - loss: 0.2025 - accuracy: 0.9251 - val_loss: 0.2195 - val_accuracy: 0.9197\n",
            "Epoch 5/10\n",
            "938/938 [==============================] - 7s 7ms/step - loss: 0.1789 - accuracy: 0.9335 - val_loss: 0.2098 - val_accuracy: 0.9227\n",
            "Epoch 6/10\n",
            "938/938 [==============================] - 7s 7ms/step - loss: 0.1576 - accuracy: 0.9418 - val_loss: 0.2084 - val_accuracy: 0.9273\n",
            "Epoch 7/10\n",
            "938/938 [==============================] - 6s 7ms/step - loss: 0.1408 - accuracy: 0.9466 - val_loss: 0.2100 - val_accuracy: 0.9270\n",
            "Epoch 8/10\n",
            "938/938 [==============================] - 7s 7ms/step - loss: 0.1285 - accuracy: 0.9519 - val_loss: 0.2139 - val_accuracy: 0.9267\n",
            "Epoch 9/10\n",
            "938/938 [==============================] - 7s 7ms/step - loss: 0.1168 - accuracy: 0.9557 - val_loss: 0.2157 - val_accuracy: 0.9278\n",
            "Epoch 10/10\n",
            "938/938 [==============================] - 7s 7ms/step - loss: 0.1066 - accuracy: 0.9604 - val_loss: 0.2167 - val_accuracy: 0.9333\n"
          ],
          "name": "stdout"
        },
        {
          "output_type": "stream",
          "text": [
            "\n",
            " 39%|███▉      | 25/64 [27:53<46:11, 71.07s/it]\u001b[A"
          ],
          "name": "stderr"
        },
        {
          "output_type": "stream",
          "text": [
            "Epoch 1/10\n",
            "938/938 [==============================] - 7s 7ms/step - loss: 0.5237 - accuracy: 0.8158 - val_loss: 0.3227 - val_accuracy: 0.8865\n",
            "Epoch 2/10\n",
            "938/938 [==============================] - 7s 7ms/step - loss: 0.3501 - accuracy: 0.8756 - val_loss: 0.2714 - val_accuracy: 0.8994\n",
            "Epoch 3/10\n",
            "938/938 [==============================] - 7s 7ms/step - loss: 0.3006 - accuracy: 0.8927 - val_loss: 0.2559 - val_accuracy: 0.9040\n",
            "Epoch 4/10\n",
            "938/938 [==============================] - 7s 7ms/step - loss: 0.2729 - accuracy: 0.9020 - val_loss: 0.2374 - val_accuracy: 0.9101\n",
            "Epoch 5/10\n",
            "938/938 [==============================] - 7s 7ms/step - loss: 0.2524 - accuracy: 0.9089 - val_loss: 0.2259 - val_accuracy: 0.9169\n",
            "Epoch 6/10\n",
            "938/938 [==============================] - 7s 7ms/step - loss: 0.2328 - accuracy: 0.9144 - val_loss: 0.2304 - val_accuracy: 0.9149\n",
            "Epoch 7/10\n",
            "938/938 [==============================] - 7s 7ms/step - loss: 0.2197 - accuracy: 0.9185 - val_loss: 0.2209 - val_accuracy: 0.9197\n",
            "Epoch 8/10\n",
            "938/938 [==============================] - 7s 7ms/step - loss: 0.2049 - accuracy: 0.9246 - val_loss: 0.2214 - val_accuracy: 0.9236\n",
            "Epoch 9/10\n",
            "938/938 [==============================] - 6s 7ms/step - loss: 0.1989 - accuracy: 0.9271 - val_loss: 0.2042 - val_accuracy: 0.9268\n",
            "Epoch 10/10\n",
            "938/938 [==============================] - 7s 7ms/step - loss: 0.1858 - accuracy: 0.9318 - val_loss: 0.2052 - val_accuracy: 0.9253\n"
          ],
          "name": "stdout"
        },
        {
          "output_type": "stream",
          "text": [
            "\n",
            " 41%|████      | 26/64 [29:00<44:08, 69.70s/it]\u001b[A"
          ],
          "name": "stderr"
        },
        {
          "output_type": "stream",
          "text": [
            "Epoch 1/10\n",
            "938/938 [==============================] - 9s 9ms/step - loss: 0.4187 - accuracy: 0.8493 - val_loss: 0.2928 - val_accuracy: 0.8929\n",
            "Epoch 2/10\n",
            "938/938 [==============================] - 9s 9ms/step - loss: 0.2681 - accuracy: 0.9021 - val_loss: 0.2424 - val_accuracy: 0.9106\n",
            "Epoch 3/10\n",
            "938/938 [==============================] - 9s 9ms/step - loss: 0.2220 - accuracy: 0.9184 - val_loss: 0.2245 - val_accuracy: 0.9185\n",
            "Epoch 4/10\n",
            "938/938 [==============================] - 9s 9ms/step - loss: 0.1911 - accuracy: 0.9290 - val_loss: 0.2058 - val_accuracy: 0.9235\n",
            "Epoch 5/10\n",
            "938/938 [==============================] - 9s 9ms/step - loss: 0.1658 - accuracy: 0.9386 - val_loss: 0.2065 - val_accuracy: 0.9262\n",
            "Epoch 6/10\n",
            "938/938 [==============================] - 9s 9ms/step - loss: 0.1425 - accuracy: 0.9467 - val_loss: 0.2093 - val_accuracy: 0.9274\n",
            "Epoch 7/10\n",
            "938/938 [==============================] - 9s 9ms/step - loss: 0.1265 - accuracy: 0.9530 - val_loss: 0.2169 - val_accuracy: 0.9285\n",
            "Epoch 8/10\n",
            "938/938 [==============================] - 9s 9ms/step - loss: 0.1132 - accuracy: 0.9584 - val_loss: 0.2259 - val_accuracy: 0.9314\n",
            "Epoch 9/10\n",
            "938/938 [==============================] - 9s 9ms/step - loss: 0.1000 - accuracy: 0.9622 - val_loss: 0.2270 - val_accuracy: 0.9292\n",
            "Epoch 10/10\n",
            "938/938 [==============================] - 9s 9ms/step - loss: 0.0900 - accuracy: 0.9662 - val_loss: 0.2447 - val_accuracy: 0.9273\n"
          ],
          "name": "stdout"
        },
        {
          "output_type": "stream",
          "text": [
            "\n",
            " 42%|████▏     | 27/64 [30:26<46:07, 74.80s/it]\u001b[A"
          ],
          "name": "stderr"
        },
        {
          "output_type": "stream",
          "text": [
            "Epoch 1/10\n",
            "938/938 [==============================] - 9s 9ms/step - loss: 0.5127 - accuracy: 0.8212 - val_loss: 0.3232 - val_accuracy: 0.8802\n",
            "Epoch 2/10\n",
            "938/938 [==============================] - 9s 9ms/step - loss: 0.3347 - accuracy: 0.8811 - val_loss: 0.2686 - val_accuracy: 0.9006\n",
            "Epoch 3/10\n",
            "938/938 [==============================] - 8s 9ms/step - loss: 0.2888 - accuracy: 0.8974 - val_loss: 0.2443 - val_accuracy: 0.9072\n",
            "Epoch 4/10\n",
            "938/938 [==============================] - 9s 9ms/step - loss: 0.2591 - accuracy: 0.9074 - val_loss: 0.2242 - val_accuracy: 0.9153\n",
            "Epoch 5/10\n",
            "938/938 [==============================] - 9s 9ms/step - loss: 0.2357 - accuracy: 0.9149 - val_loss: 0.2188 - val_accuracy: 0.9170\n",
            "Epoch 6/10\n",
            "938/938 [==============================] - 9s 9ms/step - loss: 0.2165 - accuracy: 0.9222 - val_loss: 0.2106 - val_accuracy: 0.9269\n",
            "Epoch 7/10\n",
            "938/938 [==============================] - 9s 9ms/step - loss: 0.2005 - accuracy: 0.9262 - val_loss: 0.2131 - val_accuracy: 0.9235\n",
            "Epoch 8/10\n",
            "938/938 [==============================] - 9s 9ms/step - loss: 0.1861 - accuracy: 0.9332 - val_loss: 0.2306 - val_accuracy: 0.9187\n",
            "Epoch 9/10\n",
            "938/938 [==============================] - 8s 9ms/step - loss: 0.1782 - accuracy: 0.9359 - val_loss: 0.2186 - val_accuracy: 0.9241\n",
            "Epoch 10/10\n",
            "938/938 [==============================] - 8s 9ms/step - loss: 0.1673 - accuracy: 0.9386 - val_loss: 0.2114 - val_accuracy: 0.9261\n"
          ],
          "name": "stdout"
        },
        {
          "output_type": "stream",
          "text": [
            "\n",
            " 44%|████▍     | 28/64 [31:53<46:56, 78.24s/it]\u001b[A"
          ],
          "name": "stderr"
        },
        {
          "output_type": "stream",
          "text": [
            "Epoch 1/10\n",
            "938/938 [==============================] - 7s 7ms/step - loss: 0.4439 - accuracy: 0.8393 - val_loss: 0.3041 - val_accuracy: 0.8888\n",
            "Epoch 2/10\n",
            "938/938 [==============================] - 7s 7ms/step - loss: 0.2960 - accuracy: 0.8917 - val_loss: 0.2628 - val_accuracy: 0.9029\n",
            "Epoch 3/10\n",
            "938/938 [==============================] - 6s 7ms/step - loss: 0.2528 - accuracy: 0.9070 - val_loss: 0.2438 - val_accuracy: 0.9104\n",
            "Epoch 4/10\n",
            "938/938 [==============================] - 7s 7ms/step - loss: 0.2297 - accuracy: 0.9146 - val_loss: 0.2179 - val_accuracy: 0.9189\n",
            "Epoch 5/10\n",
            "938/938 [==============================] - 6s 7ms/step - loss: 0.2072 - accuracy: 0.9223 - val_loss: 0.2193 - val_accuracy: 0.9217\n",
            "Epoch 6/10\n",
            "938/938 [==============================] - 7s 7ms/step - loss: 0.1934 - accuracy: 0.9287 - val_loss: 0.2092 - val_accuracy: 0.9251\n",
            "Epoch 7/10\n",
            "938/938 [==============================] - 7s 7ms/step - loss: 0.1777 - accuracy: 0.9343 - val_loss: 0.2140 - val_accuracy: 0.9244\n",
            "Epoch 8/10\n",
            "938/938 [==============================] - 7s 7ms/step - loss: 0.1695 - accuracy: 0.9376 - val_loss: 0.1984 - val_accuracy: 0.9296\n",
            "Epoch 9/10\n",
            "938/938 [==============================] - 7s 7ms/step - loss: 0.1567 - accuracy: 0.9402 - val_loss: 0.1993 - val_accuracy: 0.9309\n",
            "Epoch 10/10\n",
            "938/938 [==============================] - 7s 7ms/step - loss: 0.1515 - accuracy: 0.9434 - val_loss: 0.1997 - val_accuracy: 0.9304\n"
          ],
          "name": "stdout"
        },
        {
          "output_type": "stream",
          "text": [
            "\n",
            " 45%|████▌     | 29/64 [32:59<43:33, 74.67s/it]\u001b[A"
          ],
          "name": "stderr"
        },
        {
          "output_type": "stream",
          "text": [
            "Epoch 1/10\n",
            "938/938 [==============================] - 7s 7ms/step - loss: 0.5376 - accuracy: 0.8105 - val_loss: 0.3314 - val_accuracy: 0.8786\n",
            "Epoch 2/10\n",
            "938/938 [==============================] - 7s 7ms/step - loss: 0.3635 - accuracy: 0.8700 - val_loss: 0.2831 - val_accuracy: 0.8976\n",
            "Epoch 3/10\n",
            "938/938 [==============================] - 7s 7ms/step - loss: 0.3194 - accuracy: 0.8849 - val_loss: 0.2577 - val_accuracy: 0.9065\n",
            "Epoch 4/10\n",
            "938/938 [==============================] - 7s 7ms/step - loss: 0.2938 - accuracy: 0.8940 - val_loss: 0.2419 - val_accuracy: 0.9090\n",
            "Epoch 5/10\n",
            "938/938 [==============================] - 7s 7ms/step - loss: 0.2757 - accuracy: 0.9014 - val_loss: 0.2292 - val_accuracy: 0.9160\n",
            "Epoch 6/10\n",
            "938/938 [==============================] - 6s 7ms/step - loss: 0.2624 - accuracy: 0.9048 - val_loss: 0.2223 - val_accuracy: 0.9203\n",
            "Epoch 7/10\n",
            "938/938 [==============================] - 6s 7ms/step - loss: 0.2468 - accuracy: 0.9099 - val_loss: 0.2252 - val_accuracy: 0.9165\n",
            "Epoch 8/10\n",
            "938/938 [==============================] - 6s 7ms/step - loss: 0.2404 - accuracy: 0.9121 - val_loss: 0.2345 - val_accuracy: 0.9144\n",
            "Epoch 9/10\n",
            "938/938 [==============================] - 7s 7ms/step - loss: 0.2323 - accuracy: 0.9147 - val_loss: 0.2245 - val_accuracy: 0.9177\n",
            "Epoch 10/10\n",
            "938/938 [==============================] - 7s 7ms/step - loss: 0.2225 - accuracy: 0.9186 - val_loss: 0.2086 - val_accuracy: 0.9241\n"
          ],
          "name": "stdout"
        },
        {
          "output_type": "stream",
          "text": [
            "\n",
            " 47%|████▋     | 30/64 [34:05<40:52, 72.14s/it]\u001b[A"
          ],
          "name": "stderr"
        },
        {
          "output_type": "stream",
          "text": [
            "Epoch 1/10\n",
            "938/938 [==============================] - 9s 9ms/step - loss: 0.4221 - accuracy: 0.8493 - val_loss: 0.2844 - val_accuracy: 0.8964\n",
            "Epoch 2/10\n",
            "938/938 [==============================] - 9s 9ms/step - loss: 0.2771 - accuracy: 0.8981 - val_loss: 0.2490 - val_accuracy: 0.9072\n",
            "Epoch 3/10\n",
            "938/938 [==============================] - 9s 9ms/step - loss: 0.2375 - accuracy: 0.9127 - val_loss: 0.2284 - val_accuracy: 0.9137\n",
            "Epoch 4/10\n",
            "938/938 [==============================] - 8s 9ms/step - loss: 0.2106 - accuracy: 0.9221 - val_loss: 0.2188 - val_accuracy: 0.9180\n",
            "Epoch 5/10\n",
            "938/938 [==============================] - 9s 9ms/step - loss: 0.1914 - accuracy: 0.9287 - val_loss: 0.2092 - val_accuracy: 0.9248\n",
            "Epoch 6/10\n",
            "938/938 [==============================] - 8s 9ms/step - loss: 0.1730 - accuracy: 0.9359 - val_loss: 0.2137 - val_accuracy: 0.9250\n",
            "Epoch 7/10\n",
            "938/938 [==============================] - 9s 9ms/step - loss: 0.1583 - accuracy: 0.9416 - val_loss: 0.2120 - val_accuracy: 0.9276\n",
            "Epoch 8/10\n",
            "938/938 [==============================] - 9s 9ms/step - loss: 0.1439 - accuracy: 0.9463 - val_loss: 0.2082 - val_accuracy: 0.9301\n",
            "Epoch 9/10\n",
            "938/938 [==============================] - 9s 9ms/step - loss: 0.1332 - accuracy: 0.9499 - val_loss: 0.2077 - val_accuracy: 0.9295\n",
            "Epoch 10/10\n",
            "938/938 [==============================] - 9s 9ms/step - loss: 0.1223 - accuracy: 0.9538 - val_loss: 0.2130 - val_accuracy: 0.9322\n"
          ],
          "name": "stdout"
        },
        {
          "output_type": "stream",
          "text": [
            "\n",
            " 48%|████▊     | 31/64 [35:32<42:04, 76.51s/it]\u001b[A"
          ],
          "name": "stderr"
        },
        {
          "output_type": "stream",
          "text": [
            "Epoch 1/10\n",
            "938/938 [==============================] - 9s 9ms/step - loss: 0.5219 - accuracy: 0.8159 - val_loss: 0.3194 - val_accuracy: 0.8867\n",
            "Epoch 2/10\n",
            "938/938 [==============================] - 9s 9ms/step - loss: 0.3540 - accuracy: 0.8732 - val_loss: 0.2712 - val_accuracy: 0.9008\n",
            "Epoch 3/10\n",
            "938/938 [==============================] - 9s 9ms/step - loss: 0.3105 - accuracy: 0.8886 - val_loss: 0.2468 - val_accuracy: 0.9079\n",
            "Epoch 4/10\n",
            "938/938 [==============================] - 8s 9ms/step - loss: 0.2809 - accuracy: 0.8984 - val_loss: 0.2389 - val_accuracy: 0.9094\n",
            "Epoch 5/10\n",
            "938/938 [==============================] - 9s 9ms/step - loss: 0.2601 - accuracy: 0.9061 - val_loss: 0.2356 - val_accuracy: 0.9124\n",
            "Epoch 6/10\n",
            "938/938 [==============================] - 8s 9ms/step - loss: 0.2423 - accuracy: 0.9110 - val_loss: 0.2216 - val_accuracy: 0.9192\n",
            "Epoch 7/10\n",
            "938/938 [==============================] - 8s 9ms/step - loss: 0.2319 - accuracy: 0.9149 - val_loss: 0.2203 - val_accuracy: 0.9197\n",
            "Epoch 8/10\n",
            "938/938 [==============================] - 9s 9ms/step - loss: 0.2201 - accuracy: 0.9193 - val_loss: 0.2125 - val_accuracy: 0.9235\n",
            "Epoch 9/10\n",
            "938/938 [==============================] - 9s 9ms/step - loss: 0.2148 - accuracy: 0.9210 - val_loss: 0.2091 - val_accuracy: 0.9227\n",
            "Epoch 10/10\n",
            "938/938 [==============================] - 8s 9ms/step - loss: 0.2059 - accuracy: 0.9240 - val_loss: 0.2165 - val_accuracy: 0.9204\n"
          ],
          "name": "stdout"
        },
        {
          "output_type": "stream",
          "text": [
            "\n",
            " 50%|█████     | 32/64 [36:58<42:21, 79.42s/it]\u001b[A"
          ],
          "name": "stderr"
        },
        {
          "output_type": "stream",
          "text": [
            "Epoch 1/10\n",
            "469/469 [==============================] - 4s 8ms/step - loss: 0.5034 - accuracy: 0.8242 - val_loss: 0.3235 - val_accuracy: 0.8862\n",
            "Epoch 2/10\n",
            "469/469 [==============================] - 4s 8ms/step - loss: 0.3267 - accuracy: 0.8828 - val_loss: 0.2786 - val_accuracy: 0.9010\n",
            "Epoch 3/10\n",
            "469/469 [==============================] - 4s 8ms/step - loss: 0.2799 - accuracy: 0.8979 - val_loss: 0.2526 - val_accuracy: 0.9083\n",
            "Epoch 4/10\n",
            "469/469 [==============================] - 4s 8ms/step - loss: 0.2487 - accuracy: 0.9100 - val_loss: 0.2344 - val_accuracy: 0.9149\n",
            "Epoch 5/10\n",
            "469/469 [==============================] - 4s 8ms/step - loss: 0.2246 - accuracy: 0.9184 - val_loss: 0.2236 - val_accuracy: 0.9174\n",
            "Epoch 6/10\n",
            "469/469 [==============================] - 4s 8ms/step - loss: 0.2059 - accuracy: 0.9228 - val_loss: 0.2259 - val_accuracy: 0.9184\n",
            "Epoch 7/10\n",
            "469/469 [==============================] - 4s 8ms/step - loss: 0.1880 - accuracy: 0.9305 - val_loss: 0.2111 - val_accuracy: 0.9232\n",
            "Epoch 8/10\n",
            "469/469 [==============================] - 4s 8ms/step - loss: 0.1746 - accuracy: 0.9353 - val_loss: 0.2360 - val_accuracy: 0.9126\n",
            "Epoch 9/10\n",
            "469/469 [==============================] - 4s 8ms/step - loss: 0.1623 - accuracy: 0.9390 - val_loss: 0.2181 - val_accuracy: 0.9246\n",
            "Epoch 10/10\n",
            "469/469 [==============================] - 4s 8ms/step - loss: 0.1501 - accuracy: 0.9438 - val_loss: 0.2132 - val_accuracy: 0.9280\n"
          ],
          "name": "stdout"
        },
        {
          "output_type": "stream",
          "text": [
            "\n",
            " 52%|█████▏    | 33/64 [37:36<34:32, 66.87s/it]\u001b[A"
          ],
          "name": "stderr"
        },
        {
          "output_type": "stream",
          "text": [
            "Epoch 1/10\n",
            "469/469 [==============================] - 4s 8ms/step - loss: 0.6740 - accuracy: 0.7634 - val_loss: 0.3706 - val_accuracy: 0.8702\n",
            "Epoch 2/10\n",
            "469/469 [==============================] - 4s 8ms/step - loss: 0.4532 - accuracy: 0.8396 - val_loss: 0.3087 - val_accuracy: 0.8908\n",
            "Epoch 3/10\n",
            "469/469 [==============================] - 4s 8ms/step - loss: 0.3949 - accuracy: 0.8596 - val_loss: 0.3013 - val_accuracy: 0.8915\n",
            "Epoch 4/10\n",
            "469/469 [==============================] - 4s 8ms/step - loss: 0.3546 - accuracy: 0.8741 - val_loss: 0.2683 - val_accuracy: 0.9034\n",
            "Epoch 5/10\n",
            "469/469 [==============================] - 4s 8ms/step - loss: 0.3273 - accuracy: 0.8823 - val_loss: 0.2544 - val_accuracy: 0.9118\n",
            "Epoch 6/10\n",
            "469/469 [==============================] - 4s 8ms/step - loss: 0.3123 - accuracy: 0.8889 - val_loss: 0.2444 - val_accuracy: 0.9134\n",
            "Epoch 7/10\n",
            "469/469 [==============================] - 4s 8ms/step - loss: 0.2896 - accuracy: 0.8958 - val_loss: 0.2377 - val_accuracy: 0.9177\n",
            "Epoch 8/10\n",
            "469/469 [==============================] - 4s 8ms/step - loss: 0.2762 - accuracy: 0.8995 - val_loss: 0.2302 - val_accuracy: 0.9170\n",
            "Epoch 9/10\n",
            "469/469 [==============================] - 4s 8ms/step - loss: 0.2656 - accuracy: 0.9040 - val_loss: 0.2233 - val_accuracy: 0.9196\n",
            "Epoch 10/10\n",
            "469/469 [==============================] - 4s 8ms/step - loss: 0.2564 - accuracy: 0.9051 - val_loss: 0.2266 - val_accuracy: 0.9172\n"
          ],
          "name": "stdout"
        },
        {
          "output_type": "stream",
          "text": [
            "\n",
            " 53%|█████▎    | 34/64 [38:13<29:00, 58.03s/it]\u001b[A"
          ],
          "name": "stderr"
        },
        {
          "output_type": "stream",
          "text": [
            "Epoch 1/10\n",
            "469/469 [==============================] - 5s 11ms/step - loss: 0.4874 - accuracy: 0.8280 - val_loss: 0.3010 - val_accuracy: 0.8923\n",
            "Epoch 2/10\n",
            "469/469 [==============================] - 5s 10ms/step - loss: 0.3088 - accuracy: 0.8903 - val_loss: 0.2768 - val_accuracy: 0.8965\n",
            "Epoch 3/10\n",
            "469/469 [==============================] - 5s 10ms/step - loss: 0.2605 - accuracy: 0.9063 - val_loss: 0.2527 - val_accuracy: 0.9073\n",
            "Epoch 4/10\n",
            "469/469 [==============================] - 5s 10ms/step - loss: 0.2259 - accuracy: 0.9175 - val_loss: 0.2325 - val_accuracy: 0.9170\n",
            "Epoch 5/10\n",
            "469/469 [==============================] - 5s 10ms/step - loss: 0.2014 - accuracy: 0.9256 - val_loss: 0.2198 - val_accuracy: 0.9214\n",
            "Epoch 6/10\n",
            "469/469 [==============================] - 5s 10ms/step - loss: 0.1809 - accuracy: 0.9330 - val_loss: 0.2134 - val_accuracy: 0.9250\n",
            "Epoch 7/10\n",
            "469/469 [==============================] - 5s 10ms/step - loss: 0.1648 - accuracy: 0.9390 - val_loss: 0.2153 - val_accuracy: 0.9236\n",
            "Epoch 8/10\n",
            "469/469 [==============================] - 5s 10ms/step - loss: 0.1465 - accuracy: 0.9458 - val_loss: 0.2237 - val_accuracy: 0.9235\n",
            "Epoch 9/10\n",
            "469/469 [==============================] - 5s 10ms/step - loss: 0.1342 - accuracy: 0.9506 - val_loss: 0.2133 - val_accuracy: 0.9285\n",
            "Epoch 10/10\n",
            "469/469 [==============================] - 5s 10ms/step - loss: 0.1253 - accuracy: 0.9531 - val_loss: 0.2227 - val_accuracy: 0.9272\n"
          ],
          "name": "stdout"
        },
        {
          "output_type": "stream",
          "text": [
            "\n",
            " 55%|█████▍    | 35/64 [39:03<26:47, 55.43s/it]\u001b[A"
          ],
          "name": "stderr"
        },
        {
          "output_type": "stream",
          "text": [
            "Epoch 1/10\n",
            "469/469 [==============================] - 5s 10ms/step - loss: 0.6206 - accuracy: 0.7836 - val_loss: 0.3398 - val_accuracy: 0.8785\n",
            "Epoch 2/10\n",
            "469/469 [==============================] - 5s 10ms/step - loss: 0.4116 - accuracy: 0.8544 - val_loss: 0.2954 - val_accuracy: 0.8939\n",
            "Epoch 3/10\n",
            "469/469 [==============================] - 5s 10ms/step - loss: 0.3528 - accuracy: 0.8749 - val_loss: 0.2743 - val_accuracy: 0.9007\n",
            "Epoch 4/10\n",
            "469/469 [==============================] - 5s 10ms/step - loss: 0.3198 - accuracy: 0.8846 - val_loss: 0.2518 - val_accuracy: 0.9080\n",
            "Epoch 5/10\n",
            "469/469 [==============================] - 5s 10ms/step - loss: 0.2938 - accuracy: 0.8939 - val_loss: 0.2415 - val_accuracy: 0.9122\n",
            "Epoch 6/10\n",
            "469/469 [==============================] - 5s 10ms/step - loss: 0.2742 - accuracy: 0.9016 - val_loss: 0.2356 - val_accuracy: 0.9137\n",
            "Epoch 7/10\n",
            "469/469 [==============================] - 5s 11ms/step - loss: 0.2569 - accuracy: 0.9071 - val_loss: 0.2232 - val_accuracy: 0.9194\n",
            "Epoch 8/10\n",
            "469/469 [==============================] - 5s 10ms/step - loss: 0.2427 - accuracy: 0.9122 - val_loss: 0.2200 - val_accuracy: 0.9231\n",
            "Epoch 9/10\n",
            "469/469 [==============================] - 5s 10ms/step - loss: 0.2352 - accuracy: 0.9140 - val_loss: 0.2161 - val_accuracy: 0.9234\n",
            "Epoch 10/10\n",
            "469/469 [==============================] - 5s 10ms/step - loss: 0.2186 - accuracy: 0.9200 - val_loss: 0.2154 - val_accuracy: 0.9256\n"
          ],
          "name": "stdout"
        },
        {
          "output_type": "stream",
          "text": [
            "\n",
            " 56%|█████▋    | 36/64 [39:52<25:04, 53.72s/it]\u001b[A"
          ],
          "name": "stderr"
        },
        {
          "output_type": "stream",
          "text": [
            "Epoch 1/10\n",
            "469/469 [==============================] - 4s 8ms/step - loss: 0.5206 - accuracy: 0.8173 - val_loss: 0.3379 - val_accuracy: 0.8793\n",
            "Epoch 2/10\n",
            "469/469 [==============================] - 4s 8ms/step - loss: 0.3447 - accuracy: 0.8762 - val_loss: 0.2926 - val_accuracy: 0.8901\n",
            "Epoch 3/10\n",
            "469/469 [==============================] - 4s 8ms/step - loss: 0.2994 - accuracy: 0.8920 - val_loss: 0.2645 - val_accuracy: 0.9003\n",
            "Epoch 4/10\n",
            "469/469 [==============================] - 4s 8ms/step - loss: 0.2715 - accuracy: 0.9010 - val_loss: 0.2612 - val_accuracy: 0.9022\n",
            "Epoch 5/10\n",
            "469/469 [==============================] - 4s 8ms/step - loss: 0.2476 - accuracy: 0.9085 - val_loss: 0.2346 - val_accuracy: 0.9182\n",
            "Epoch 6/10\n",
            "469/469 [==============================] - 4s 8ms/step - loss: 0.2336 - accuracy: 0.9141 - val_loss: 0.2354 - val_accuracy: 0.9120\n",
            "Epoch 7/10\n",
            "469/469 [==============================] - 4s 8ms/step - loss: 0.2189 - accuracy: 0.9196 - val_loss: 0.2230 - val_accuracy: 0.9168\n",
            "Epoch 8/10\n",
            "469/469 [==============================] - 4s 8ms/step - loss: 0.2109 - accuracy: 0.9220 - val_loss: 0.2184 - val_accuracy: 0.9211\n",
            "Epoch 9/10\n",
            "469/469 [==============================] - 4s 8ms/step - loss: 0.1976 - accuracy: 0.9254 - val_loss: 0.2161 - val_accuracy: 0.9207\n",
            "Epoch 10/10\n",
            "469/469 [==============================] - 4s 8ms/step - loss: 0.1858 - accuracy: 0.9317 - val_loss: 0.2153 - val_accuracy: 0.9212\n"
          ],
          "name": "stdout"
        },
        {
          "output_type": "stream",
          "text": [
            "\n",
            " 58%|█████▊    | 37/64 [40:30<21:58, 48.82s/it]\u001b[A"
          ],
          "name": "stderr"
        },
        {
          "output_type": "stream",
          "text": [
            "Epoch 1/10\n",
            "469/469 [==============================] - 4s 8ms/step - loss: 0.6907 - accuracy: 0.7556 - val_loss: 0.3940 - val_accuracy: 0.8562\n",
            "Epoch 2/10\n",
            "469/469 [==============================] - 4s 8ms/step - loss: 0.4777 - accuracy: 0.8301 - val_loss: 0.3329 - val_accuracy: 0.8807\n",
            "Epoch 3/10\n",
            "469/469 [==============================] - 4s 8ms/step - loss: 0.4207 - accuracy: 0.8500 - val_loss: 0.3208 - val_accuracy: 0.8819\n",
            "Epoch 4/10\n",
            "469/469 [==============================] - 4s 8ms/step - loss: 0.3819 - accuracy: 0.8622 - val_loss: 0.2727 - val_accuracy: 0.9025\n",
            "Epoch 5/10\n",
            "469/469 [==============================] - 4s 8ms/step - loss: 0.3570 - accuracy: 0.8726 - val_loss: 0.2784 - val_accuracy: 0.9016\n",
            "Epoch 6/10\n",
            "469/469 [==============================] - 4s 8ms/step - loss: 0.3347 - accuracy: 0.8787 - val_loss: 0.2512 - val_accuracy: 0.9085\n",
            "Epoch 7/10\n",
            "469/469 [==============================] - 4s 8ms/step - loss: 0.3230 - accuracy: 0.8835 - val_loss: 0.2423 - val_accuracy: 0.9108\n",
            "Epoch 8/10\n",
            "469/469 [==============================] - 4s 8ms/step - loss: 0.3089 - accuracy: 0.8873 - val_loss: 0.2388 - val_accuracy: 0.9109\n",
            "Epoch 9/10\n",
            "469/469 [==============================] - 4s 8ms/step - loss: 0.2936 - accuracy: 0.8927 - val_loss: 0.2290 - val_accuracy: 0.9178\n",
            "Epoch 10/10\n",
            "469/469 [==============================] - 4s 8ms/step - loss: 0.2874 - accuracy: 0.8961 - val_loss: 0.2336 - val_accuracy: 0.9150\n"
          ],
          "name": "stdout"
        },
        {
          "output_type": "stream",
          "text": [
            "\n",
            " 59%|█████▉    | 38/64 [41:07<19:40, 45.41s/it]\u001b[A"
          ],
          "name": "stderr"
        },
        {
          "output_type": "stream",
          "text": [
            "Epoch 1/10\n",
            "469/469 [==============================] - 5s 10ms/step - loss: 0.5031 - accuracy: 0.8257 - val_loss: 0.3509 - val_accuracy: 0.8705\n",
            "Epoch 2/10\n",
            "469/469 [==============================] - 5s 10ms/step - loss: 0.3291 - accuracy: 0.8824 - val_loss: 0.2692 - val_accuracy: 0.9023\n",
            "Epoch 3/10\n",
            "469/469 [==============================] - 5s 10ms/step - loss: 0.2830 - accuracy: 0.8988 - val_loss: 0.2549 - val_accuracy: 0.9047\n",
            "Epoch 4/10\n",
            "469/469 [==============================] - 5s 10ms/step - loss: 0.2534 - accuracy: 0.9080 - val_loss: 0.2367 - val_accuracy: 0.9139\n",
            "Epoch 5/10\n",
            "469/469 [==============================] - 5s 10ms/step - loss: 0.2273 - accuracy: 0.9168 - val_loss: 0.2267 - val_accuracy: 0.9179\n",
            "Epoch 6/10\n",
            "469/469 [==============================] - 5s 10ms/step - loss: 0.2091 - accuracy: 0.9222 - val_loss: 0.2213 - val_accuracy: 0.9219\n",
            "Epoch 7/10\n",
            "469/469 [==============================] - 5s 10ms/step - loss: 0.1934 - accuracy: 0.9284 - val_loss: 0.2233 - val_accuracy: 0.9184\n",
            "Epoch 8/10\n",
            "469/469 [==============================] - 5s 10ms/step - loss: 0.1793 - accuracy: 0.9332 - val_loss: 0.2113 - val_accuracy: 0.9238\n",
            "Epoch 9/10\n",
            "469/469 [==============================] - 5s 10ms/step - loss: 0.1697 - accuracy: 0.9362 - val_loss: 0.2065 - val_accuracy: 0.9275\n",
            "Epoch 10/10\n",
            "469/469 [==============================] - 5s 10ms/step - loss: 0.1593 - accuracy: 0.9401 - val_loss: 0.2043 - val_accuracy: 0.9294\n"
          ],
          "name": "stdout"
        },
        {
          "output_type": "stream",
          "text": [
            "\n",
            " 61%|██████    | 39/64 [41:57<19:24, 46.60s/it]\u001b[A"
          ],
          "name": "stderr"
        },
        {
          "output_type": "stream",
          "text": [
            "Epoch 1/10\n",
            "469/469 [==============================] - 5s 11ms/step - loss: 0.6731 - accuracy: 0.7659 - val_loss: 0.3619 - val_accuracy: 0.8692\n",
            "Epoch 2/10\n",
            "469/469 [==============================] - 5s 10ms/step - loss: 0.4522 - accuracy: 0.8405 - val_loss: 0.3042 - val_accuracy: 0.8902\n",
            "Epoch 3/10\n",
            "469/469 [==============================] - 5s 10ms/step - loss: 0.3900 - accuracy: 0.8636 - val_loss: 0.2753 - val_accuracy: 0.9020\n",
            "Epoch 4/10\n",
            "469/469 [==============================] - 5s 10ms/step - loss: 0.3556 - accuracy: 0.8731 - val_loss: 0.2696 - val_accuracy: 0.9022\n",
            "Epoch 5/10\n",
            "469/469 [==============================] - 5s 10ms/step - loss: 0.3302 - accuracy: 0.8826 - val_loss: 0.2563 - val_accuracy: 0.9082\n",
            "Epoch 6/10\n",
            "469/469 [==============================] - 5s 10ms/step - loss: 0.3092 - accuracy: 0.8892 - val_loss: 0.2427 - val_accuracy: 0.9116\n",
            "Epoch 7/10\n",
            "469/469 [==============================] - 5s 10ms/step - loss: 0.2931 - accuracy: 0.8943 - val_loss: 0.2341 - val_accuracy: 0.9171\n",
            "Epoch 8/10\n",
            "469/469 [==============================] - 5s 10ms/step - loss: 0.2809 - accuracy: 0.8991 - val_loss: 0.2241 - val_accuracy: 0.9191\n",
            "Epoch 9/10\n",
            "469/469 [==============================] - 5s 10ms/step - loss: 0.2675 - accuracy: 0.9022 - val_loss: 0.2211 - val_accuracy: 0.9206\n",
            "Epoch 10/10\n",
            "469/469 [==============================] - 5s 10ms/step - loss: 0.2653 - accuracy: 0.9044 - val_loss: 0.2180 - val_accuracy: 0.9207\n"
          ],
          "name": "stdout"
        },
        {
          "output_type": "stream",
          "text": [
            "\n",
            " 62%|██████▎   | 40/64 [42:46<18:59, 47.47s/it]\u001b[A"
          ],
          "name": "stderr"
        },
        {
          "output_type": "stream",
          "text": [
            "Epoch 1/10\n",
            "469/469 [==============================] - 4s 9ms/step - loss: 0.4606 - accuracy: 0.8382 - val_loss: 0.3162 - val_accuracy: 0.8839\n",
            "Epoch 2/10\n",
            "469/469 [==============================] - 4s 8ms/step - loss: 0.2910 - accuracy: 0.8945 - val_loss: 0.2586 - val_accuracy: 0.9041\n",
            "Epoch 3/10\n",
            "469/469 [==============================] - 4s 8ms/step - loss: 0.2421 - accuracy: 0.9113 - val_loss: 0.2383 - val_accuracy: 0.9103\n",
            "Epoch 4/10\n",
            "469/469 [==============================] - 4s 8ms/step - loss: 0.2102 - accuracy: 0.9232 - val_loss: 0.2414 - val_accuracy: 0.9114\n",
            "Epoch 5/10\n",
            "469/469 [==============================] - 4s 8ms/step - loss: 0.1852 - accuracy: 0.9315 - val_loss: 0.2186 - val_accuracy: 0.9212\n",
            "Epoch 6/10\n",
            "469/469 [==============================] - 4s 8ms/step - loss: 0.1639 - accuracy: 0.9403 - val_loss: 0.2104 - val_accuracy: 0.9233\n",
            "Epoch 7/10\n",
            "469/469 [==============================] - 4s 8ms/step - loss: 0.1465 - accuracy: 0.9445 - val_loss: 0.2126 - val_accuracy: 0.9245\n",
            "Epoch 8/10\n",
            "469/469 [==============================] - 4s 8ms/step - loss: 0.1306 - accuracy: 0.9507 - val_loss: 0.2167 - val_accuracy: 0.9249\n",
            "Epoch 9/10\n",
            "469/469 [==============================] - 4s 8ms/step - loss: 0.1177 - accuracy: 0.9557 - val_loss: 0.2236 - val_accuracy: 0.9270\n",
            "Epoch 10/10\n",
            "469/469 [==============================] - 4s 8ms/step - loss: 0.1064 - accuracy: 0.9599 - val_loss: 0.2233 - val_accuracy: 0.9291\n"
          ],
          "name": "stdout"
        },
        {
          "output_type": "stream",
          "text": [
            "\n",
            " 64%|██████▍   | 41/64 [43:27<17:23, 45.37s/it]\u001b[A"
          ],
          "name": "stderr"
        },
        {
          "output_type": "stream",
          "text": [
            "Epoch 1/10\n",
            "469/469 [==============================] - 4s 9ms/step - loss: 0.5485 - accuracy: 0.8065 - val_loss: 0.3267 - val_accuracy: 0.8810\n",
            "Epoch 2/10\n",
            "469/469 [==============================] - 4s 8ms/step - loss: 0.3619 - accuracy: 0.8723 - val_loss: 0.2767 - val_accuracy: 0.9008\n",
            "Epoch 3/10\n",
            "469/469 [==============================] - 4s 8ms/step - loss: 0.3112 - accuracy: 0.8889 - val_loss: 0.2546 - val_accuracy: 0.9062\n",
            "Epoch 4/10\n",
            "469/469 [==============================] - 4s 8ms/step - loss: 0.2826 - accuracy: 0.8994 - val_loss: 0.2370 - val_accuracy: 0.9118\n",
            "Epoch 5/10\n",
            "469/469 [==============================] - 4s 8ms/step - loss: 0.2550 - accuracy: 0.9074 - val_loss: 0.2292 - val_accuracy: 0.9182\n",
            "Epoch 6/10\n",
            "469/469 [==============================] - 4s 8ms/step - loss: 0.2384 - accuracy: 0.9137 - val_loss: 0.2168 - val_accuracy: 0.9213\n",
            "Epoch 7/10\n",
            "469/469 [==============================] - 4s 8ms/step - loss: 0.2202 - accuracy: 0.9194 - val_loss: 0.2189 - val_accuracy: 0.9204\n",
            "Epoch 8/10\n",
            "469/469 [==============================] - 4s 8ms/step - loss: 0.2073 - accuracy: 0.9237 - val_loss: 0.2105 - val_accuracy: 0.9221\n",
            "Epoch 9/10\n",
            "469/469 [==============================] - 4s 8ms/step - loss: 0.1978 - accuracy: 0.9268 - val_loss: 0.2073 - val_accuracy: 0.9267\n",
            "Epoch 10/10\n",
            "469/469 [==============================] - 4s 8ms/step - loss: 0.1896 - accuracy: 0.9304 - val_loss: 0.2100 - val_accuracy: 0.9250\n"
          ],
          "name": "stdout"
        },
        {
          "output_type": "stream",
          "text": [
            "\n",
            " 66%|██████▌   | 42/64 [44:07<16:05, 43.89s/it]\u001b[A"
          ],
          "name": "stderr"
        },
        {
          "output_type": "stream",
          "text": [
            "Epoch 1/10\n",
            "469/469 [==============================] - 5s 12ms/step - loss: 0.4534 - accuracy: 0.8384 - val_loss: 0.3061 - val_accuracy: 0.8876\n",
            "Epoch 2/10\n",
            "469/469 [==============================] - 5s 12ms/step - loss: 0.2779 - accuracy: 0.9000 - val_loss: 0.2706 - val_accuracy: 0.8977\n",
            "Epoch 3/10\n",
            "469/469 [==============================] - 5s 12ms/step - loss: 0.2303 - accuracy: 0.9153 - val_loss: 0.2232 - val_accuracy: 0.9168\n",
            "Epoch 4/10\n",
            "469/469 [==============================] - 5s 12ms/step - loss: 0.1973 - accuracy: 0.9265 - val_loss: 0.2185 - val_accuracy: 0.9213\n",
            "Epoch 5/10\n",
            "469/469 [==============================] - 5s 12ms/step - loss: 0.1717 - accuracy: 0.9360 - val_loss: 0.2193 - val_accuracy: 0.9237\n",
            "Epoch 6/10\n",
            "469/469 [==============================] - 5s 12ms/step - loss: 0.1490 - accuracy: 0.9444 - val_loss: 0.2008 - val_accuracy: 0.9275\n",
            "Epoch 7/10\n",
            "469/469 [==============================] - 6s 12ms/step - loss: 0.1305 - accuracy: 0.9517 - val_loss: 0.2100 - val_accuracy: 0.9311\n",
            "Epoch 8/10\n",
            "469/469 [==============================] - 6s 12ms/step - loss: 0.1169 - accuracy: 0.9558 - val_loss: 0.2160 - val_accuracy: 0.9300\n",
            "Epoch 9/10\n",
            "469/469 [==============================] - 5s 11ms/step - loss: 0.1038 - accuracy: 0.9615 - val_loss: 0.2220 - val_accuracy: 0.9315\n",
            "Epoch 10/10\n",
            "469/469 [==============================] - 5s 11ms/step - loss: 0.0911 - accuracy: 0.9658 - val_loss: 0.2298 - val_accuracy: 0.9326\n"
          ],
          "name": "stdout"
        },
        {
          "output_type": "stream",
          "text": [
            "\n",
            " 67%|██████▋   | 43/64 [45:03<16:35, 47.39s/it]\u001b[A"
          ],
          "name": "stderr"
        },
        {
          "output_type": "stream",
          "text": [
            "Epoch 1/10\n",
            "469/469 [==============================] - 5s 12ms/step - loss: 0.5605 - accuracy: 0.8060 - val_loss: 0.3356 - val_accuracy: 0.8801\n",
            "Epoch 2/10\n",
            "469/469 [==============================] - 5s 12ms/step - loss: 0.3566 - accuracy: 0.8743 - val_loss: 0.2737 - val_accuracy: 0.8997\n",
            "Epoch 3/10\n",
            "469/469 [==============================] - 5s 12ms/step - loss: 0.3059 - accuracy: 0.8916 - val_loss: 0.2484 - val_accuracy: 0.9087\n",
            "Epoch 4/10\n",
            "469/469 [==============================] - 5s 12ms/step - loss: 0.2661 - accuracy: 0.9049 - val_loss: 0.2330 - val_accuracy: 0.9157\n",
            "Epoch 5/10\n",
            "469/469 [==============================] - 5s 12ms/step - loss: 0.2469 - accuracy: 0.9118 - val_loss: 0.2226 - val_accuracy: 0.9174\n",
            "Epoch 6/10\n",
            "469/469 [==============================] - 5s 12ms/step - loss: 0.2226 - accuracy: 0.9197 - val_loss: 0.2207 - val_accuracy: 0.9215\n",
            "Epoch 7/10\n",
            "469/469 [==============================] - 5s 12ms/step - loss: 0.2092 - accuracy: 0.9235 - val_loss: 0.2135 - val_accuracy: 0.9226\n",
            "Epoch 8/10\n",
            "469/469 [==============================] - 5s 12ms/step - loss: 0.1948 - accuracy: 0.9287 - val_loss: 0.2085 - val_accuracy: 0.9287\n",
            "Epoch 9/10\n",
            "469/469 [==============================] - 5s 12ms/step - loss: 0.1829 - accuracy: 0.9334 - val_loss: 0.2030 - val_accuracy: 0.9282\n",
            "Epoch 10/10\n",
            "469/469 [==============================] - 5s 12ms/step - loss: 0.1696 - accuracy: 0.9373 - val_loss: 0.2114 - val_accuracy: 0.9299\n"
          ],
          "name": "stdout"
        },
        {
          "output_type": "stream",
          "text": [
            "\n",
            " 69%|██████▉   | 44/64 [45:58<16:35, 49.79s/it]\u001b[A"
          ],
          "name": "stderr"
        },
        {
          "output_type": "stream",
          "text": [
            "Epoch 1/10\n",
            "469/469 [==============================] - 4s 9ms/step - loss: 0.4820 - accuracy: 0.8278 - val_loss: 0.3089 - val_accuracy: 0.8890\n",
            "Epoch 2/10\n",
            "469/469 [==============================] - 4s 8ms/step - loss: 0.3126 - accuracy: 0.8859 - val_loss: 0.2662 - val_accuracy: 0.9023\n",
            "Epoch 3/10\n",
            "469/469 [==============================] - 4s 8ms/step - loss: 0.2686 - accuracy: 0.9021 - val_loss: 0.2469 - val_accuracy: 0.9112\n",
            "Epoch 4/10\n",
            "469/469 [==============================] - 4s 8ms/step - loss: 0.2382 - accuracy: 0.9126 - val_loss: 0.2264 - val_accuracy: 0.9182\n",
            "Epoch 5/10\n",
            "469/469 [==============================] - 4s 8ms/step - loss: 0.2141 - accuracy: 0.9203 - val_loss: 0.2170 - val_accuracy: 0.9223\n",
            "Epoch 6/10\n",
            "469/469 [==============================] - 4s 8ms/step - loss: 0.1980 - accuracy: 0.9277 - val_loss: 0.2102 - val_accuracy: 0.9220\n",
            "Epoch 7/10\n",
            "469/469 [==============================] - 4s 8ms/step - loss: 0.1828 - accuracy: 0.9315 - val_loss: 0.2019 - val_accuracy: 0.9266\n",
            "Epoch 8/10\n",
            "469/469 [==============================] - 4s 8ms/step - loss: 0.1712 - accuracy: 0.9358 - val_loss: 0.2049 - val_accuracy: 0.9271\n",
            "Epoch 9/10\n",
            "469/469 [==============================] - 4s 8ms/step - loss: 0.1610 - accuracy: 0.9400 - val_loss: 0.1940 - val_accuracy: 0.9304\n",
            "Epoch 10/10\n",
            "469/469 [==============================] - 4s 8ms/step - loss: 0.1507 - accuracy: 0.9427 - val_loss: 0.1992 - val_accuracy: 0.9320\n"
          ],
          "name": "stdout"
        },
        {
          "output_type": "stream",
          "text": [
            "\n",
            " 70%|███████   | 45/64 [46:38<14:52, 46.96s/it]\u001b[A"
          ],
          "name": "stderr"
        },
        {
          "output_type": "stream",
          "text": [
            "Epoch 1/10\n",
            "469/469 [==============================] - 4s 9ms/step - loss: 0.5750 - accuracy: 0.7962 - val_loss: 0.3432 - val_accuracy: 0.8771\n",
            "Epoch 2/10\n",
            "469/469 [==============================] - 4s 8ms/step - loss: 0.3860 - accuracy: 0.8640 - val_loss: 0.3008 - val_accuracy: 0.8910\n",
            "Epoch 3/10\n",
            "469/469 [==============================] - 4s 8ms/step - loss: 0.3335 - accuracy: 0.8812 - val_loss: 0.2608 - val_accuracy: 0.9060\n",
            "Epoch 4/10\n",
            "469/469 [==============================] - 4s 8ms/step - loss: 0.3065 - accuracy: 0.8907 - val_loss: 0.2512 - val_accuracy: 0.9089\n",
            "Epoch 5/10\n",
            "469/469 [==============================] - 4s 8ms/step - loss: 0.2842 - accuracy: 0.8979 - val_loss: 0.2474 - val_accuracy: 0.9062\n",
            "Epoch 6/10\n",
            "469/469 [==============================] - 4s 8ms/step - loss: 0.2688 - accuracy: 0.9032 - val_loss: 0.2320 - val_accuracy: 0.9131\n",
            "Epoch 7/10\n",
            "469/469 [==============================] - 4s 8ms/step - loss: 0.2525 - accuracy: 0.9070 - val_loss: 0.2341 - val_accuracy: 0.9143\n",
            "Epoch 8/10\n",
            "469/469 [==============================] - 4s 8ms/step - loss: 0.2442 - accuracy: 0.9115 - val_loss: 0.2212 - val_accuracy: 0.9168\n",
            "Epoch 9/10\n",
            "469/469 [==============================] - 4s 8ms/step - loss: 0.2361 - accuracy: 0.9137 - val_loss: 0.2129 - val_accuracy: 0.9228\n",
            "Epoch 10/10\n",
            "469/469 [==============================] - 4s 9ms/step - loss: 0.2264 - accuracy: 0.9173 - val_loss: 0.2154 - val_accuracy: 0.9182\n"
          ],
          "name": "stdout"
        },
        {
          "output_type": "stream",
          "text": [
            "\n",
            " 72%|███████▏  | 46/64 [47:19<13:29, 45.00s/it]\u001b[A"
          ],
          "name": "stderr"
        },
        {
          "output_type": "stream",
          "text": [
            "Epoch 1/10\n",
            "469/469 [==============================] - 6s 12ms/step - loss: 0.4602 - accuracy: 0.8358 - val_loss: 0.3071 - val_accuracy: 0.8871\n",
            "Epoch 2/10\n",
            "469/469 [==============================] - 5s 12ms/step - loss: 0.2902 - accuracy: 0.8938 - val_loss: 0.2584 - val_accuracy: 0.9048\n",
            "Epoch 3/10\n",
            "469/469 [==============================] - 5s 12ms/step - loss: 0.2460 - accuracy: 0.9090 - val_loss: 0.2422 - val_accuracy: 0.9096\n",
            "Epoch 4/10\n",
            "469/469 [==============================] - 5s 12ms/step - loss: 0.2157 - accuracy: 0.9200 - val_loss: 0.2208 - val_accuracy: 0.9185\n",
            "Epoch 5/10\n",
            "469/469 [==============================] - 5s 12ms/step - loss: 0.1906 - accuracy: 0.9292 - val_loss: 0.2188 - val_accuracy: 0.9213\n",
            "Epoch 6/10\n",
            "469/469 [==============================] - 5s 12ms/step - loss: 0.1714 - accuracy: 0.9364 - val_loss: 0.2160 - val_accuracy: 0.9239\n",
            "Epoch 7/10\n",
            "469/469 [==============================] - 5s 12ms/step - loss: 0.1574 - accuracy: 0.9426 - val_loss: 0.2023 - val_accuracy: 0.9269\n",
            "Epoch 8/10\n",
            "469/469 [==============================] - 5s 12ms/step - loss: 0.1437 - accuracy: 0.9457 - val_loss: 0.2121 - val_accuracy: 0.9299\n",
            "Epoch 9/10\n",
            "469/469 [==============================] - 5s 12ms/step - loss: 0.1300 - accuracy: 0.9508 - val_loss: 0.2042 - val_accuracy: 0.9321\n",
            "Epoch 10/10\n",
            "469/469 [==============================] - 5s 12ms/step - loss: 0.1208 - accuracy: 0.9543 - val_loss: 0.2048 - val_accuracy: 0.9318\n"
          ],
          "name": "stdout"
        },
        {
          "output_type": "stream",
          "text": [
            "\n",
            " 73%|███████▎  | 47/64 [48:14<13:38, 48.12s/it]\u001b[A"
          ],
          "name": "stderr"
        },
        {
          "output_type": "stream",
          "text": [
            "Epoch 1/10\n",
            "469/469 [==============================] - 6s 12ms/step - loss: 0.5555 - accuracy: 0.8034 - val_loss: 0.3405 - val_accuracy: 0.8761\n",
            "Epoch 2/10\n",
            "469/469 [==============================] - 5s 12ms/step - loss: 0.3714 - accuracy: 0.8672 - val_loss: 0.2840 - val_accuracy: 0.8967\n",
            "Epoch 3/10\n",
            "469/469 [==============================] - 5s 12ms/step - loss: 0.3205 - accuracy: 0.8850 - val_loss: 0.2607 - val_accuracy: 0.9025\n",
            "Epoch 4/10\n",
            "469/469 [==============================] - 5s 12ms/step - loss: 0.2893 - accuracy: 0.8953 - val_loss: 0.2436 - val_accuracy: 0.9090\n",
            "Epoch 5/10\n",
            "469/469 [==============================] - 5s 12ms/step - loss: 0.2689 - accuracy: 0.9039 - val_loss: 0.2390 - val_accuracy: 0.9125\n",
            "Epoch 6/10\n",
            "469/469 [==============================] - 5s 12ms/step - loss: 0.2544 - accuracy: 0.9084 - val_loss: 0.2238 - val_accuracy: 0.9179\n",
            "Epoch 7/10\n",
            "469/469 [==============================] - 5s 12ms/step - loss: 0.2347 - accuracy: 0.9149 - val_loss: 0.2207 - val_accuracy: 0.9198\n",
            "Epoch 8/10\n",
            "469/469 [==============================] - 5s 12ms/step - loss: 0.2260 - accuracy: 0.9179 - val_loss: 0.2096 - val_accuracy: 0.9207\n",
            "Epoch 9/10\n",
            "469/469 [==============================] - 5s 12ms/step - loss: 0.2120 - accuracy: 0.9210 - val_loss: 0.2111 - val_accuracy: 0.9245\n",
            "Epoch 10/10\n",
            "469/469 [==============================] - 5s 12ms/step - loss: 0.2043 - accuracy: 0.9247 - val_loss: 0.2023 - val_accuracy: 0.9267\n"
          ],
          "name": "stdout"
        },
        {
          "output_type": "stream",
          "text": [
            "\n",
            " 75%|███████▌  | 48/64 [49:09<13:24, 50.29s/it]\u001b[A"
          ],
          "name": "stderr"
        },
        {
          "output_type": "stream",
          "text": [
            "Epoch 1/10\n",
            "469/469 [==============================] - 4s 10ms/step - loss: 0.5045 - accuracy: 0.8237 - val_loss: 0.3106 - val_accuracy: 0.8885\n",
            "Epoch 2/10\n",
            "469/469 [==============================] - 4s 9ms/step - loss: 0.3215 - accuracy: 0.8849 - val_loss: 0.2631 - val_accuracy: 0.9043\n",
            "Epoch 3/10\n",
            "469/469 [==============================] - 4s 9ms/step - loss: 0.2768 - accuracy: 0.8996 - val_loss: 0.2530 - val_accuracy: 0.9078\n",
            "Epoch 4/10\n",
            "469/469 [==============================] - 4s 9ms/step - loss: 0.2446 - accuracy: 0.9117 - val_loss: 0.2528 - val_accuracy: 0.9075\n",
            "Epoch 5/10\n",
            "469/469 [==============================] - 4s 9ms/step - loss: 0.2223 - accuracy: 0.9192 - val_loss: 0.2217 - val_accuracy: 0.9174\n",
            "Epoch 6/10\n",
            "469/469 [==============================] - 4s 9ms/step - loss: 0.2070 - accuracy: 0.9237 - val_loss: 0.2200 - val_accuracy: 0.9209\n",
            "Epoch 7/10\n",
            "469/469 [==============================] - 4s 9ms/step - loss: 0.1900 - accuracy: 0.9299 - val_loss: 0.2175 - val_accuracy: 0.9232\n",
            "Epoch 8/10\n",
            "469/469 [==============================] - 4s 9ms/step - loss: 0.1729 - accuracy: 0.9354 - val_loss: 0.2079 - val_accuracy: 0.9260\n",
            "Epoch 9/10\n",
            "469/469 [==============================] - 4s 9ms/step - loss: 0.1623 - accuracy: 0.9401 - val_loss: 0.2150 - val_accuracy: 0.9252\n",
            "Epoch 10/10\n",
            "469/469 [==============================] - 4s 9ms/step - loss: 0.1519 - accuracy: 0.9423 - val_loss: 0.2161 - val_accuracy: 0.9281\n"
          ],
          "name": "stdout"
        },
        {
          "output_type": "stream",
          "text": [
            "\n",
            " 77%|███████▋  | 49/64 [49:54<12:08, 48.60s/it]\u001b[A"
          ],
          "name": "stderr"
        },
        {
          "output_type": "stream",
          "text": [
            "Epoch 1/10\n",
            "469/469 [==============================] - 5s 10ms/step - loss: 0.6632 - accuracy: 0.7691 - val_loss: 0.3606 - val_accuracy: 0.8703\n",
            "Epoch 2/10\n",
            "469/469 [==============================] - 4s 9ms/step - loss: 0.4404 - accuracy: 0.8452 - val_loss: 0.3017 - val_accuracy: 0.8951\n",
            "Epoch 3/10\n",
            "469/469 [==============================] - 4s 9ms/step - loss: 0.3832 - accuracy: 0.8654 - val_loss: 0.2915 - val_accuracy: 0.8950\n",
            "Epoch 4/10\n",
            "469/469 [==============================] - 4s 9ms/step - loss: 0.3524 - accuracy: 0.8745 - val_loss: 0.2654 - val_accuracy: 0.9037\n",
            "Epoch 5/10\n",
            "469/469 [==============================] - 4s 9ms/step - loss: 0.3242 - accuracy: 0.8850 - val_loss: 0.2500 - val_accuracy: 0.9081\n",
            "Epoch 6/10\n",
            "469/469 [==============================] - 4s 9ms/step - loss: 0.3043 - accuracy: 0.8900 - val_loss: 0.2357 - val_accuracy: 0.9147\n",
            "Epoch 7/10\n",
            "469/469 [==============================] - 4s 9ms/step - loss: 0.2875 - accuracy: 0.8968 - val_loss: 0.2360 - val_accuracy: 0.9161\n",
            "Epoch 8/10\n",
            "469/469 [==============================] - 4s 9ms/step - loss: 0.2736 - accuracy: 0.9003 - val_loss: 0.2382 - val_accuracy: 0.9177\n",
            "Epoch 9/10\n",
            "469/469 [==============================] - 4s 9ms/step - loss: 0.2647 - accuracy: 0.9041 - val_loss: 0.2272 - val_accuracy: 0.9194\n",
            "Epoch 10/10\n",
            "469/469 [==============================] - 4s 9ms/step - loss: 0.2542 - accuracy: 0.9078 - val_loss: 0.2215 - val_accuracy: 0.9214\n"
          ],
          "name": "stdout"
        },
        {
          "output_type": "stream",
          "text": [
            "\n",
            " 78%|███████▊  | 50/64 [50:39<11:04, 47.44s/it]\u001b[A"
          ],
          "name": "stderr"
        },
        {
          "output_type": "stream",
          "text": [
            "Epoch 1/10\n",
            "469/469 [==============================] - 6s 12ms/step - loss: 0.4822 - accuracy: 0.8293 - val_loss: 0.3126 - val_accuracy: 0.8897\n",
            "Epoch 2/10\n",
            "469/469 [==============================] - 6s 12ms/step - loss: 0.3071 - accuracy: 0.8893 - val_loss: 0.2558 - val_accuracy: 0.9058\n",
            "Epoch 3/10\n",
            "469/469 [==============================] - 6s 12ms/step - loss: 0.2593 - accuracy: 0.9064 - val_loss: 0.2376 - val_accuracy: 0.9100\n",
            "Epoch 4/10\n",
            "469/469 [==============================] - 6s 12ms/step - loss: 0.2278 - accuracy: 0.9167 - val_loss: 0.2334 - val_accuracy: 0.9164\n",
            "Epoch 5/10\n",
            "469/469 [==============================] - 6s 12ms/step - loss: 0.2038 - accuracy: 0.9244 - val_loss: 0.2183 - val_accuracy: 0.9216\n",
            "Epoch 6/10\n",
            "469/469 [==============================] - 6s 12ms/step - loss: 0.1838 - accuracy: 0.9317 - val_loss: 0.2135 - val_accuracy: 0.9249\n",
            "Epoch 7/10\n",
            "469/469 [==============================] - 6s 12ms/step - loss: 0.1686 - accuracy: 0.9372 - val_loss: 0.2156 - val_accuracy: 0.9220\n",
            "Epoch 8/10\n",
            "469/469 [==============================] - 6s 12ms/step - loss: 0.1528 - accuracy: 0.9434 - val_loss: 0.2098 - val_accuracy: 0.9303\n",
            "Epoch 9/10\n",
            "469/469 [==============================] - 6s 12ms/step - loss: 0.1393 - accuracy: 0.9476 - val_loss: 0.2233 - val_accuracy: 0.9277\n",
            "Epoch 10/10\n",
            "469/469 [==============================] - 6s 12ms/step - loss: 0.1312 - accuracy: 0.9514 - val_loss: 0.2130 - val_accuracy: 0.9281\n"
          ],
          "name": "stdout"
        },
        {
          "output_type": "stream",
          "text": [
            "\n",
            " 80%|███████▉  | 51/64 [51:37<10:59, 50.72s/it]\u001b[A"
          ],
          "name": "stderr"
        },
        {
          "output_type": "stream",
          "text": [
            "Epoch 1/10\n",
            "469/469 [==============================] - 6s 12ms/step - loss: 0.6403 - accuracy: 0.7778 - val_loss: 0.3501 - val_accuracy: 0.8710\n",
            "Epoch 2/10\n",
            "469/469 [==============================] - 6s 12ms/step - loss: 0.4261 - accuracy: 0.8485 - val_loss: 0.3105 - val_accuracy: 0.8866\n",
            "Epoch 3/10\n",
            "469/469 [==============================] - 6s 12ms/step - loss: 0.3649 - accuracy: 0.8697 - val_loss: 0.2796 - val_accuracy: 0.8996\n",
            "Epoch 4/10\n",
            "469/469 [==============================] - 6s 12ms/step - loss: 0.3311 - accuracy: 0.8821 - val_loss: 0.2585 - val_accuracy: 0.9056\n",
            "Epoch 5/10\n",
            "469/469 [==============================] - 6s 12ms/step - loss: 0.3048 - accuracy: 0.8909 - val_loss: 0.2378 - val_accuracy: 0.9160\n",
            "Epoch 6/10\n",
            "469/469 [==============================] - 6s 12ms/step - loss: 0.2837 - accuracy: 0.8964 - val_loss: 0.2303 - val_accuracy: 0.9168\n",
            "Epoch 7/10\n",
            "469/469 [==============================] - 6s 12ms/step - loss: 0.2666 - accuracy: 0.9032 - val_loss: 0.2326 - val_accuracy: 0.9208\n",
            "Epoch 8/10\n",
            "469/469 [==============================] - 6s 12ms/step - loss: 0.2472 - accuracy: 0.9103 - val_loss: 0.2260 - val_accuracy: 0.9212\n",
            "Epoch 9/10\n",
            "469/469 [==============================] - 6s 12ms/step - loss: 0.2394 - accuracy: 0.9116 - val_loss: 0.2216 - val_accuracy: 0.9244\n",
            "Epoch 10/10\n",
            "469/469 [==============================] - 6s 12ms/step - loss: 0.2248 - accuracy: 0.9168 - val_loss: 0.2245 - val_accuracy: 0.9211\n"
          ],
          "name": "stdout"
        },
        {
          "output_type": "stream",
          "text": [
            "\n",
            " 81%|████████▏ | 52/64 [52:35<10:35, 52.95s/it]\u001b[A"
          ],
          "name": "stderr"
        },
        {
          "output_type": "stream",
          "text": [
            "Epoch 1/10\n",
            "469/469 [==============================] - 4s 9ms/step - loss: 0.5075 - accuracy: 0.8213 - val_loss: 0.3338 - val_accuracy: 0.8786\n",
            "Epoch 2/10\n",
            "469/469 [==============================] - 4s 9ms/step - loss: 0.3400 - accuracy: 0.8787 - val_loss: 0.2762 - val_accuracy: 0.8957\n",
            "Epoch 3/10\n",
            "469/469 [==============================] - 4s 9ms/step - loss: 0.2933 - accuracy: 0.8940 - val_loss: 0.2561 - val_accuracy: 0.9048\n",
            "Epoch 4/10\n",
            "469/469 [==============================] - 4s 9ms/step - loss: 0.2646 - accuracy: 0.9034 - val_loss: 0.2463 - val_accuracy: 0.9098\n",
            "Epoch 5/10\n",
            "469/469 [==============================] - 4s 9ms/step - loss: 0.2419 - accuracy: 0.9103 - val_loss: 0.2258 - val_accuracy: 0.9165\n",
            "Epoch 6/10\n",
            "469/469 [==============================] - 4s 9ms/step - loss: 0.2262 - accuracy: 0.9174 - val_loss: 0.2226 - val_accuracy: 0.9191\n",
            "Epoch 7/10\n",
            "469/469 [==============================] - 4s 9ms/step - loss: 0.2118 - accuracy: 0.9219 - val_loss: 0.2181 - val_accuracy: 0.9201\n",
            "Epoch 8/10\n",
            "469/469 [==============================] - 4s 9ms/step - loss: 0.2028 - accuracy: 0.9245 - val_loss: 0.2045 - val_accuracy: 0.9278\n",
            "Epoch 9/10\n",
            "469/469 [==============================] - 4s 9ms/step - loss: 0.1899 - accuracy: 0.9296 - val_loss: 0.2053 - val_accuracy: 0.9265\n",
            "Epoch 10/10\n",
            "469/469 [==============================] - 4s 9ms/step - loss: 0.1835 - accuracy: 0.9324 - val_loss: 0.2079 - val_accuracy: 0.9263\n"
          ],
          "name": "stdout"
        },
        {
          "output_type": "stream",
          "text": [
            "\n",
            " 83%|████████▎ | 53/64 [53:20<09:14, 50.42s/it]\u001b[A"
          ],
          "name": "stderr"
        },
        {
          "output_type": "stream",
          "text": [
            "Epoch 1/10\n",
            "469/469 [==============================] - 4s 10ms/step - loss: 0.6667 - accuracy: 0.7648 - val_loss: 0.3712 - val_accuracy: 0.8613\n",
            "Epoch 2/10\n",
            "469/469 [==============================] - 4s 9ms/step - loss: 0.4535 - accuracy: 0.8394 - val_loss: 0.3165 - val_accuracy: 0.8897\n",
            "Epoch 3/10\n",
            "469/469 [==============================] - 4s 9ms/step - loss: 0.3952 - accuracy: 0.8583 - val_loss: 0.2928 - val_accuracy: 0.8925\n",
            "Epoch 4/10\n",
            "469/469 [==============================] - 4s 9ms/step - loss: 0.3630 - accuracy: 0.8684 - val_loss: 0.2743 - val_accuracy: 0.9018\n",
            "Epoch 5/10\n",
            "469/469 [==============================] - 4s 9ms/step - loss: 0.3390 - accuracy: 0.8785 - val_loss: 0.2503 - val_accuracy: 0.9097\n",
            "Epoch 6/10\n",
            "469/469 [==============================] - 4s 9ms/step - loss: 0.3239 - accuracy: 0.8836 - val_loss: 0.2489 - val_accuracy: 0.9085\n",
            "Epoch 7/10\n",
            "469/469 [==============================] - 4s 9ms/step - loss: 0.3093 - accuracy: 0.8897 - val_loss: 0.2395 - val_accuracy: 0.9122\n",
            "Epoch 8/10\n",
            "469/469 [==============================] - 4s 9ms/step - loss: 0.2968 - accuracy: 0.8939 - val_loss: 0.2301 - val_accuracy: 0.9144\n",
            "Epoch 9/10\n",
            "469/469 [==============================] - 4s 9ms/step - loss: 0.2864 - accuracy: 0.8967 - val_loss: 0.2296 - val_accuracy: 0.9164\n",
            "Epoch 10/10\n",
            "469/469 [==============================] - 4s 9ms/step - loss: 0.2783 - accuracy: 0.8989 - val_loss: 0.2256 - val_accuracy: 0.9176\n"
          ],
          "name": "stdout"
        },
        {
          "output_type": "stream",
          "text": [
            "\n",
            " 84%|████████▍ | 54/64 [54:04<08:06, 48.67s/it]\u001b[A"
          ],
          "name": "stderr"
        },
        {
          "output_type": "stream",
          "text": [
            "Epoch 1/10\n",
            "469/469 [==============================] - 6s 12ms/step - loss: 0.4891 - accuracy: 0.8284 - val_loss: 0.3233 - val_accuracy: 0.8840\n",
            "Epoch 2/10\n",
            "469/469 [==============================] - 6s 12ms/step - loss: 0.3232 - accuracy: 0.8846 - val_loss: 0.2759 - val_accuracy: 0.9023\n",
            "Epoch 3/10\n",
            "469/469 [==============================] - 6s 12ms/step - loss: 0.2774 - accuracy: 0.8986 - val_loss: 0.2452 - val_accuracy: 0.9100\n",
            "Epoch 4/10\n",
            "469/469 [==============================] - 6s 12ms/step - loss: 0.2460 - accuracy: 0.9104 - val_loss: 0.2404 - val_accuracy: 0.9105\n",
            "Epoch 5/10\n",
            "469/469 [==============================] - 6s 12ms/step - loss: 0.2246 - accuracy: 0.9167 - val_loss: 0.2174 - val_accuracy: 0.9192\n",
            "Epoch 6/10\n",
            "469/469 [==============================] - 6s 12ms/step - loss: 0.2094 - accuracy: 0.9220 - val_loss: 0.2218 - val_accuracy: 0.9221\n",
            "Epoch 7/10\n",
            "469/469 [==============================] - 6s 12ms/step - loss: 0.1948 - accuracy: 0.9282 - val_loss: 0.2151 - val_accuracy: 0.9247\n",
            "Epoch 8/10\n",
            "469/469 [==============================] - 6s 12ms/step - loss: 0.1825 - accuracy: 0.9322 - val_loss: 0.2109 - val_accuracy: 0.9233\n",
            "Epoch 9/10\n",
            "469/469 [==============================] - 6s 12ms/step - loss: 0.1711 - accuracy: 0.9360 - val_loss: 0.2193 - val_accuracy: 0.9231\n",
            "Epoch 10/10\n",
            "469/469 [==============================] - 6s 12ms/step - loss: 0.1576 - accuracy: 0.9398 - val_loss: 0.2140 - val_accuracy: 0.9278\n"
          ],
          "name": "stdout"
        },
        {
          "output_type": "stream",
          "text": [
            "\n",
            " 86%|████████▌ | 55/64 [55:03<07:43, 51.51s/it]\u001b[A"
          ],
          "name": "stderr"
        },
        {
          "output_type": "stream",
          "text": [
            "Epoch 1/10\n",
            "469/469 [==============================] - 6s 13ms/step - loss: 0.6280 - accuracy: 0.7798 - val_loss: 0.3517 - val_accuracy: 0.8709\n",
            "Epoch 2/10\n",
            "469/469 [==============================] - 6s 12ms/step - loss: 0.4221 - accuracy: 0.8507 - val_loss: 0.3002 - val_accuracy: 0.8942\n",
            "Epoch 3/10\n",
            "469/469 [==============================] - 6s 12ms/step - loss: 0.3746 - accuracy: 0.8671 - val_loss: 0.2748 - val_accuracy: 0.9000\n",
            "Epoch 4/10\n",
            "469/469 [==============================] - 6s 12ms/step - loss: 0.3409 - accuracy: 0.8770 - val_loss: 0.2565 - val_accuracy: 0.9082\n",
            "Epoch 5/10\n",
            "469/469 [==============================] - 6s 12ms/step - loss: 0.3127 - accuracy: 0.8881 - val_loss: 0.2527 - val_accuracy: 0.9062\n",
            "Epoch 6/10\n",
            "469/469 [==============================] - 6s 12ms/step - loss: 0.2943 - accuracy: 0.8942 - val_loss: 0.2354 - val_accuracy: 0.9129\n",
            "Epoch 7/10\n",
            "469/469 [==============================] - 6s 12ms/step - loss: 0.2815 - accuracy: 0.8996 - val_loss: 0.2409 - val_accuracy: 0.9120\n",
            "Epoch 8/10\n",
            "469/469 [==============================] - 6s 12ms/step - loss: 0.2692 - accuracy: 0.9033 - val_loss: 0.2267 - val_accuracy: 0.9175\n",
            "Epoch 9/10\n",
            "469/469 [==============================] - 6s 12ms/step - loss: 0.2613 - accuracy: 0.9046 - val_loss: 0.2174 - val_accuracy: 0.9213\n",
            "Epoch 10/10\n",
            "469/469 [==============================] - 6s 12ms/step - loss: 0.2537 - accuracy: 0.9081 - val_loss: 0.2194 - val_accuracy: 0.9212\n"
          ],
          "name": "stdout"
        },
        {
          "output_type": "stream",
          "text": [
            "\n",
            " 88%|████████▊ | 56/64 [56:01<07:08, 53.62s/it]\u001b[A"
          ],
          "name": "stderr"
        },
        {
          "output_type": "stream",
          "text": [
            "Epoch 1/10\n",
            "469/469 [==============================] - 5s 10ms/step - loss: 0.4654 - accuracy: 0.8346 - val_loss: 0.3181 - val_accuracy: 0.8845\n",
            "Epoch 2/10\n",
            "469/469 [==============================] - 5s 10ms/step - loss: 0.2952 - accuracy: 0.8918 - val_loss: 0.2694 - val_accuracy: 0.9015\n",
            "Epoch 3/10\n",
            "469/469 [==============================] - 5s 10ms/step - loss: 0.2482 - accuracy: 0.9093 - val_loss: 0.2555 - val_accuracy: 0.9054\n",
            "Epoch 4/10\n",
            "469/469 [==============================] - 5s 10ms/step - loss: 0.2173 - accuracy: 0.9196 - val_loss: 0.2243 - val_accuracy: 0.9181\n",
            "Epoch 5/10\n",
            "469/469 [==============================] - 5s 10ms/step - loss: 0.1920 - accuracy: 0.9287 - val_loss: 0.2134 - val_accuracy: 0.9230\n",
            "Epoch 6/10\n",
            "469/469 [==============================] - 5s 10ms/step - loss: 0.1718 - accuracy: 0.9360 - val_loss: 0.2125 - val_accuracy: 0.9265\n",
            "Epoch 7/10\n",
            "469/469 [==============================] - 5s 10ms/step - loss: 0.1543 - accuracy: 0.9419 - val_loss: 0.2077 - val_accuracy: 0.9266\n",
            "Epoch 8/10\n",
            "469/469 [==============================] - 5s 10ms/step - loss: 0.1403 - accuracy: 0.9477 - val_loss: 0.2137 - val_accuracy: 0.9270\n",
            "Epoch 9/10\n",
            "469/469 [==============================] - 5s 10ms/step - loss: 0.1268 - accuracy: 0.9517 - val_loss: 0.2131 - val_accuracy: 0.9274\n",
            "Epoch 10/10\n",
            "469/469 [==============================] - 5s 10ms/step - loss: 0.1168 - accuracy: 0.9550 - val_loss: 0.2250 - val_accuracy: 0.9281\n"
          ],
          "name": "stdout"
        },
        {
          "output_type": "stream",
          "text": [
            "\n",
            " 89%|████████▉ | 57/64 [56:49<06:02, 51.76s/it]\u001b[A"
          ],
          "name": "stderr"
        },
        {
          "output_type": "stream",
          "text": [
            "Epoch 1/10\n",
            "469/469 [==============================] - 5s 10ms/step - loss: 0.5503 - accuracy: 0.8046 - val_loss: 0.3392 - val_accuracy: 0.8766\n",
            "Epoch 2/10\n",
            "469/469 [==============================] - 5s 10ms/step - loss: 0.3663 - accuracy: 0.8697 - val_loss: 0.2857 - val_accuracy: 0.8951\n",
            "Epoch 3/10\n",
            "469/469 [==============================] - 5s 10ms/step - loss: 0.3167 - accuracy: 0.8850 - val_loss: 0.2668 - val_accuracy: 0.9002\n",
            "Epoch 4/10\n",
            "469/469 [==============================] - 5s 10ms/step - loss: 0.2876 - accuracy: 0.8956 - val_loss: 0.2453 - val_accuracy: 0.9097\n",
            "Epoch 5/10\n",
            "469/469 [==============================] - 5s 10ms/step - loss: 0.2604 - accuracy: 0.9054 - val_loss: 0.2340 - val_accuracy: 0.9123\n",
            "Epoch 6/10\n",
            "469/469 [==============================] - 5s 10ms/step - loss: 0.2445 - accuracy: 0.9103 - val_loss: 0.2235 - val_accuracy: 0.9177\n",
            "Epoch 7/10\n",
            "469/469 [==============================] - 5s 10ms/step - loss: 0.2282 - accuracy: 0.9183 - val_loss: 0.2165 - val_accuracy: 0.9204\n",
            "Epoch 8/10\n",
            "469/469 [==============================] - 5s 10ms/step - loss: 0.2184 - accuracy: 0.9201 - val_loss: 0.2166 - val_accuracy: 0.9206\n",
            "Epoch 9/10\n",
            "469/469 [==============================] - 5s 10ms/step - loss: 0.2036 - accuracy: 0.9248 - val_loss: 0.2170 - val_accuracy: 0.9206\n",
            "Epoch 10/10\n",
            "469/469 [==============================] - 5s 10ms/step - loss: 0.1950 - accuracy: 0.9284 - val_loss: 0.2151 - val_accuracy: 0.9235\n"
          ],
          "name": "stdout"
        },
        {
          "output_type": "stream",
          "text": [
            "\n",
            " 91%|█████████ | 58/64 [57:36<05:02, 50.47s/it]\u001b[A"
          ],
          "name": "stderr"
        },
        {
          "output_type": "stream",
          "text": [
            "Epoch 1/10\n",
            "469/469 [==============================] - 6s 14ms/step - loss: 0.4414 - accuracy: 0.8441 - val_loss: 0.2886 - val_accuracy: 0.8910\n",
            "Epoch 2/10\n",
            "469/469 [==============================] - 6s 13ms/step - loss: 0.2743 - accuracy: 0.9002 - val_loss: 0.2533 - val_accuracy: 0.9053\n",
            "Epoch 3/10\n",
            "469/469 [==============================] - 6s 13ms/step - loss: 0.2252 - accuracy: 0.9172 - val_loss: 0.2134 - val_accuracy: 0.9211\n",
            "Epoch 4/10\n",
            "469/469 [==============================] - 6s 13ms/step - loss: 0.1928 - accuracy: 0.9301 - val_loss: 0.2144 - val_accuracy: 0.9203\n",
            "Epoch 5/10\n",
            "469/469 [==============================] - 6s 13ms/step - loss: 0.1657 - accuracy: 0.9396 - val_loss: 0.2034 - val_accuracy: 0.9264\n",
            "Epoch 6/10\n",
            "469/469 [==============================] - 6s 13ms/step - loss: 0.1444 - accuracy: 0.9470 - val_loss: 0.2125 - val_accuracy: 0.9238\n",
            "Epoch 7/10\n",
            "469/469 [==============================] - 6s 13ms/step - loss: 0.1248 - accuracy: 0.9538 - val_loss: 0.2127 - val_accuracy: 0.9277\n",
            "Epoch 8/10\n",
            "469/469 [==============================] - 6s 13ms/step - loss: 0.1119 - accuracy: 0.9580 - val_loss: 0.2135 - val_accuracy: 0.9289\n",
            "Epoch 9/10\n",
            "469/469 [==============================] - 6s 13ms/step - loss: 0.0980 - accuracy: 0.9638 - val_loss: 0.2181 - val_accuracy: 0.9308\n",
            "Epoch 10/10\n",
            "469/469 [==============================] - 6s 13ms/step - loss: 0.0852 - accuracy: 0.9679 - val_loss: 0.2342 - val_accuracy: 0.9322\n"
          ],
          "name": "stdout"
        },
        {
          "output_type": "stream",
          "text": [
            "\n",
            " 92%|█████████▏| 59/64 [58:40<04:32, 54.59s/it]\u001b[A"
          ],
          "name": "stderr"
        },
        {
          "output_type": "stream",
          "text": [
            "Epoch 1/10\n",
            "469/469 [==============================] - 6s 14ms/step - loss: 0.5398 - accuracy: 0.8118 - val_loss: 0.3232 - val_accuracy: 0.8816\n",
            "Epoch 2/10\n",
            "469/469 [==============================] - 6s 13ms/step - loss: 0.3459 - accuracy: 0.8782 - val_loss: 0.2681 - val_accuracy: 0.8991\n",
            "Epoch 3/10\n",
            "469/469 [==============================] - 6s 13ms/step - loss: 0.2935 - accuracy: 0.8960 - val_loss: 0.2446 - val_accuracy: 0.9118\n",
            "Epoch 4/10\n",
            "469/469 [==============================] - 6s 13ms/step - loss: 0.2598 - accuracy: 0.9074 - val_loss: 0.2360 - val_accuracy: 0.9123\n",
            "Epoch 5/10\n",
            "469/469 [==============================] - 6s 14ms/step - loss: 0.2384 - accuracy: 0.9139 - val_loss: 0.2243 - val_accuracy: 0.9163\n",
            "Epoch 6/10\n",
            "469/469 [==============================] - 6s 13ms/step - loss: 0.2191 - accuracy: 0.9206 - val_loss: 0.2133 - val_accuracy: 0.9227\n",
            "Epoch 7/10\n",
            "469/469 [==============================] - 6s 14ms/step - loss: 0.2053 - accuracy: 0.9263 - val_loss: 0.2059 - val_accuracy: 0.9245\n",
            "Epoch 8/10\n",
            "469/469 [==============================] - 6s 13ms/step - loss: 0.1893 - accuracy: 0.9297 - val_loss: 0.2065 - val_accuracy: 0.9249\n",
            "Epoch 9/10\n",
            "469/469 [==============================] - 6s 13ms/step - loss: 0.1785 - accuracy: 0.9353 - val_loss: 0.2014 - val_accuracy: 0.9300\n",
            "Epoch 10/10\n",
            "469/469 [==============================] - 6s 13ms/step - loss: 0.1666 - accuracy: 0.9395 - val_loss: 0.2066 - val_accuracy: 0.9267\n"
          ],
          "name": "stdout"
        },
        {
          "output_type": "stream",
          "text": [
            "\n",
            " 94%|█████████▍| 60/64 [59:45<03:50, 57.53s/it]\u001b[A"
          ],
          "name": "stderr"
        },
        {
          "output_type": "stream",
          "text": [
            "Epoch 1/10\n",
            "469/469 [==============================] - 5s 10ms/step - loss: 0.4707 - accuracy: 0.8324 - val_loss: 0.3335 - val_accuracy: 0.8789\n",
            "Epoch 2/10\n",
            "469/469 [==============================] - 5s 10ms/step - loss: 0.3107 - accuracy: 0.8857 - val_loss: 0.2640 - val_accuracy: 0.9041\n",
            "Epoch 3/10\n",
            "469/469 [==============================] - 5s 10ms/step - loss: 0.2680 - accuracy: 0.9015 - val_loss: 0.2435 - val_accuracy: 0.9117\n",
            "Epoch 4/10\n",
            "469/469 [==============================] - 5s 10ms/step - loss: 0.2360 - accuracy: 0.9123 - val_loss: 0.2344 - val_accuracy: 0.9136\n",
            "Epoch 5/10\n",
            "469/469 [==============================] - 5s 10ms/step - loss: 0.2161 - accuracy: 0.9198 - val_loss: 0.2241 - val_accuracy: 0.9158\n",
            "Epoch 6/10\n",
            "469/469 [==============================] - 5s 10ms/step - loss: 0.1975 - accuracy: 0.9262 - val_loss: 0.2159 - val_accuracy: 0.9194\n",
            "Epoch 7/10\n",
            "469/469 [==============================] - 5s 10ms/step - loss: 0.1833 - accuracy: 0.9322 - val_loss: 0.2028 - val_accuracy: 0.9281\n",
            "Epoch 8/10\n",
            "469/469 [==============================] - 5s 10ms/step - loss: 0.1713 - accuracy: 0.9349 - val_loss: 0.2028 - val_accuracy: 0.9278\n",
            "Epoch 9/10\n",
            "469/469 [==============================] - 5s 10ms/step - loss: 0.1607 - accuracy: 0.9392 - val_loss: 0.2069 - val_accuracy: 0.9270\n",
            "Epoch 10/10\n",
            "469/469 [==============================] - 5s 10ms/step - loss: 0.1513 - accuracy: 0.9432 - val_loss: 0.2016 - val_accuracy: 0.9301\n"
          ],
          "name": "stdout"
        },
        {
          "output_type": "stream",
          "text": [
            "\n",
            " 95%|█████████▌| 61/64 [1:00:32<02:43, 54.55s/it]\u001b[A"
          ],
          "name": "stderr"
        },
        {
          "output_type": "stream",
          "text": [
            "Epoch 1/10\n",
            "469/469 [==============================] - 5s 10ms/step - loss: 0.5552 - accuracy: 0.8036 - val_loss: 0.3454 - val_accuracy: 0.8798\n",
            "Epoch 2/10\n",
            "469/469 [==============================] - 5s 10ms/step - loss: 0.3699 - accuracy: 0.8698 - val_loss: 0.2869 - val_accuracy: 0.8957\n",
            "Epoch 3/10\n",
            "469/469 [==============================] - 5s 10ms/step - loss: 0.3262 - accuracy: 0.8834 - val_loss: 0.2703 - val_accuracy: 0.9025\n",
            "Epoch 4/10\n",
            "469/469 [==============================] - 5s 10ms/step - loss: 0.2970 - accuracy: 0.8926 - val_loss: 0.2658 - val_accuracy: 0.9006\n",
            "Epoch 5/10\n",
            "469/469 [==============================] - 5s 10ms/step - loss: 0.2785 - accuracy: 0.8993 - val_loss: 0.2325 - val_accuracy: 0.9156\n",
            "Epoch 6/10\n",
            "469/469 [==============================] - 5s 10ms/step - loss: 0.2626 - accuracy: 0.9048 - val_loss: 0.2307 - val_accuracy: 0.9142\n",
            "Epoch 7/10\n",
            "469/469 [==============================] - 5s 10ms/step - loss: 0.2505 - accuracy: 0.9081 - val_loss: 0.2195 - val_accuracy: 0.9167\n",
            "Epoch 8/10\n",
            "469/469 [==============================] - 5s 10ms/step - loss: 0.2379 - accuracy: 0.9131 - val_loss: 0.2214 - val_accuracy: 0.9204\n",
            "Epoch 9/10\n",
            "469/469 [==============================] - 5s 10ms/step - loss: 0.2299 - accuracy: 0.9139 - val_loss: 0.2153 - val_accuracy: 0.9192\n",
            "Epoch 10/10\n",
            "469/469 [==============================] - 5s 10ms/step - loss: 0.2237 - accuracy: 0.9160 - val_loss: 0.2138 - val_accuracy: 0.9223\n"
          ],
          "name": "stdout"
        },
        {
          "output_type": "stream",
          "text": [
            "\n",
            " 97%|█████████▋| 62/64 [1:01:20<01:44, 52.40s/it]\u001b[A"
          ],
          "name": "stderr"
        },
        {
          "output_type": "stream",
          "text": [
            "Epoch 1/10\n",
            "469/469 [==============================] - 6s 14ms/step - loss: 0.4451 - accuracy: 0.8415 - val_loss: 0.2909 - val_accuracy: 0.8951\n",
            "Epoch 2/10\n",
            "469/469 [==============================] - 6s 13ms/step - loss: 0.2881 - accuracy: 0.8935 - val_loss: 0.2575 - val_accuracy: 0.9055\n",
            "Epoch 3/10\n",
            "469/469 [==============================] - 6s 13ms/step - loss: 0.2435 - accuracy: 0.9114 - val_loss: 0.2297 - val_accuracy: 0.9159\n",
            "Epoch 4/10\n",
            "469/469 [==============================] - 6s 13ms/step - loss: 0.2166 - accuracy: 0.9202 - val_loss: 0.2151 - val_accuracy: 0.9231\n",
            "Epoch 5/10\n",
            "469/469 [==============================] - 6s 13ms/step - loss: 0.1913 - accuracy: 0.9290 - val_loss: 0.2144 - val_accuracy: 0.9239\n",
            "Epoch 6/10\n",
            "469/469 [==============================] - 6s 13ms/step - loss: 0.1723 - accuracy: 0.9358 - val_loss: 0.2022 - val_accuracy: 0.9263\n",
            "Epoch 7/10\n",
            "469/469 [==============================] - 6s 13ms/step - loss: 0.1585 - accuracy: 0.9399 - val_loss: 0.2025 - val_accuracy: 0.9308\n",
            "Epoch 8/10\n",
            "469/469 [==============================] - 6s 13ms/step - loss: 0.1450 - accuracy: 0.9459 - val_loss: 0.2053 - val_accuracy: 0.9303\n",
            "Epoch 9/10\n",
            "469/469 [==============================] - 6s 13ms/step - loss: 0.1353 - accuracy: 0.9493 - val_loss: 0.2058 - val_accuracy: 0.9300\n",
            "Epoch 10/10\n",
            "469/469 [==============================] - 6s 13ms/step - loss: 0.1210 - accuracy: 0.9548 - val_loss: 0.2016 - val_accuracy: 0.9342\n"
          ],
          "name": "stdout"
        },
        {
          "output_type": "stream",
          "text": [
            "\n",
            " 98%|█████████▊| 63/64 [1:02:24<00:55, 55.96s/it]\u001b[A"
          ],
          "name": "stderr"
        },
        {
          "output_type": "stream",
          "text": [
            "Epoch 1/10\n",
            "469/469 [==============================] - 6s 14ms/step - loss: 0.5339 - accuracy: 0.8116 - val_loss: 0.3234 - val_accuracy: 0.8804\n",
            "Epoch 2/10\n",
            "469/469 [==============================] - 6s 14ms/step - loss: 0.3499 - accuracy: 0.8753 - val_loss: 0.2817 - val_accuracy: 0.8953\n",
            "Epoch 3/10\n",
            "469/469 [==============================] - 6s 13ms/step - loss: 0.3009 - accuracy: 0.8918 - val_loss: 0.2521 - val_accuracy: 0.9082\n",
            "Epoch 4/10\n",
            "469/469 [==============================] - 6s 13ms/step - loss: 0.2742 - accuracy: 0.9002 - val_loss: 0.2333 - val_accuracy: 0.9148\n",
            "Epoch 5/10\n",
            "469/469 [==============================] - 6s 13ms/step - loss: 0.2545 - accuracy: 0.9080 - val_loss: 0.2192 - val_accuracy: 0.9186\n",
            "Epoch 6/10\n",
            "469/469 [==============================] - 6s 13ms/step - loss: 0.2362 - accuracy: 0.9144 - val_loss: 0.2132 - val_accuracy: 0.9224\n",
            "Epoch 7/10\n",
            "469/469 [==============================] - 6s 13ms/step - loss: 0.2254 - accuracy: 0.9181 - val_loss: 0.2197 - val_accuracy: 0.9205\n",
            "Epoch 8/10\n",
            "469/469 [==============================] - 6s 13ms/step - loss: 0.2133 - accuracy: 0.9212 - val_loss: 0.2022 - val_accuracy: 0.9256\n",
            "Epoch 9/10\n",
            "469/469 [==============================] - 6s 13ms/step - loss: 0.2042 - accuracy: 0.9242 - val_loss: 0.2088 - val_accuracy: 0.9258\n",
            "Epoch 10/10\n",
            "469/469 [==============================] - 6s 13ms/step - loss: 0.1946 - accuracy: 0.9287 - val_loss: 0.2020 - val_accuracy: 0.9275\n"
          ],
          "name": "stdout"
        },
        {
          "output_type": "stream",
          "text": [
            "\n",
            "100%|██████████| 64/64 [1:03:28<00:00, 59.51s/it]\n"
          ],
          "name": "stderr"
        }
      ]
    },
    {
      "cell_type": "code",
      "metadata": {
        "id": "hYeRev58pUJv",
        "colab_type": "code",
        "colab": {
          "base_uri": "https://localhost:8080/",
          "height": 34
        },
        "outputId": "f84a7155-6cc4-4031-cfe1-6063247f9356"
      },
      "source": [
        "# Review scan object o/p from hypterparameter optimization using talos.\n",
        "t"
      ],
      "execution_count": 20,
      "outputs": [
        {
          "output_type": "execute_result",
          "data": {
            "text/plain": [
              "<talos.scan.Scan.Scan at 0x7ff4b92cbc50>"
            ]
          },
          "metadata": {
            "tags": []
          },
          "execution_count": 20
        }
      ]
    },
    {
      "cell_type": "code",
      "metadata": {
        "id": "Hkw8-Rp77MEf",
        "colab_type": "code",
        "colab": {
          "base_uri": "https://localhost:8080/",
          "height": 309
        },
        "outputId": "45770a84-85f9-4b0b-9c92-a7ded1ac2055"
      },
      "source": [
        "t.data.head()"
      ],
      "execution_count": 21,
      "outputs": [
        {
          "output_type": "execute_result",
          "data": {
            "text/html": [
              "<div>\n",
              "<style scoped>\n",
              "    .dataframe tbody tr th:only-of-type {\n",
              "        vertical-align: middle;\n",
              "    }\n",
              "\n",
              "    .dataframe tbody tr th {\n",
              "        vertical-align: top;\n",
              "    }\n",
              "\n",
              "    .dataframe thead th {\n",
              "        text-align: right;\n",
              "    }\n",
              "</style>\n",
              "<table border=\"1\" class=\"dataframe\">\n",
              "  <thead>\n",
              "    <tr style=\"text-align: right;\">\n",
              "      <th></th>\n",
              "      <th>start</th>\n",
              "      <th>end</th>\n",
              "      <th>duration</th>\n",
              "      <th>round_epochs</th>\n",
              "      <th>loss</th>\n",
              "      <th>accuracy</th>\n",
              "      <th>val_loss</th>\n",
              "      <th>val_accuracy</th>\n",
              "      <th>batch_size</th>\n",
              "      <th>epochs</th>\n",
              "      <th>first_conv_activation</th>\n",
              "      <th>first_conv_kernel</th>\n",
              "      <th>first_conv_neurons</th>\n",
              "      <th>first_dense_neurons</th>\n",
              "      <th>first_dropout</th>\n",
              "      <th>first_max_pool_size</th>\n",
              "      <th>optimizer</th>\n",
              "      <th>second_conv_activation</th>\n",
              "      <th>second_conv_kernel</th>\n",
              "      <th>second_conv_neurons</th>\n",
              "      <th>second_dropout</th>\n",
              "    </tr>\n",
              "  </thead>\n",
              "  <tbody>\n",
              "    <tr>\n",
              "      <th>0</th>\n",
              "      <td>06/13/20-153155</td>\n",
              "      <td>06/13/20-153251</td>\n",
              "      <td>55.105764</td>\n",
              "      <td>10</td>\n",
              "      <td>0.145971</td>\n",
              "      <td>0.944650</td>\n",
              "      <td>0.222795</td>\n",
              "      <td>0.9263</td>\n",
              "      <td>64</td>\n",
              "      <td>10</td>\n",
              "      <td>relu</td>\n",
              "      <td>(3, 3)</td>\n",
              "      <td>64</td>\n",
              "      <td>128</td>\n",
              "      <td>0.25</td>\n",
              "      <td>(2, 2)</td>\n",
              "      <td>nadam</td>\n",
              "      <td>relu</td>\n",
              "      <td>(3, 3)</td>\n",
              "      <td>64</td>\n",
              "      <td>0.50</td>\n",
              "    </tr>\n",
              "    <tr>\n",
              "      <th>1</th>\n",
              "      <td>06/13/20-153251</td>\n",
              "      <td>06/13/20-153346</td>\n",
              "      <td>55.130074</td>\n",
              "      <td>10</td>\n",
              "      <td>0.251182</td>\n",
              "      <td>0.907133</td>\n",
              "      <td>0.231424</td>\n",
              "      <td>0.9192</td>\n",
              "      <td>64</td>\n",
              "      <td>10</td>\n",
              "      <td>relu</td>\n",
              "      <td>(3, 3)</td>\n",
              "      <td>64</td>\n",
              "      <td>128</td>\n",
              "      <td>0.25</td>\n",
              "      <td>(2, 2)</td>\n",
              "      <td>nadam</td>\n",
              "      <td>relu</td>\n",
              "      <td>(3, 3)</td>\n",
              "      <td>64</td>\n",
              "      <td>0.75</td>\n",
              "    </tr>\n",
              "    <tr>\n",
              "      <th>2</th>\n",
              "      <td>06/13/20-153346</td>\n",
              "      <td>06/13/20-153455</td>\n",
              "      <td>69.339621</td>\n",
              "      <td>10</td>\n",
              "      <td>0.124817</td>\n",
              "      <td>0.953133</td>\n",
              "      <td>0.223386</td>\n",
              "      <td>0.9302</td>\n",
              "      <td>64</td>\n",
              "      <td>10</td>\n",
              "      <td>relu</td>\n",
              "      <td>(3, 3)</td>\n",
              "      <td>64</td>\n",
              "      <td>128</td>\n",
              "      <td>0.25</td>\n",
              "      <td>(2, 2)</td>\n",
              "      <td>nadam</td>\n",
              "      <td>relu</td>\n",
              "      <td>(3, 3)</td>\n",
              "      <td>128</td>\n",
              "      <td>0.50</td>\n",
              "    </tr>\n",
              "    <tr>\n",
              "      <th>3</th>\n",
              "      <td>06/13/20-153455</td>\n",
              "      <td>06/13/20-153605</td>\n",
              "      <td>69.752104</td>\n",
              "      <td>10</td>\n",
              "      <td>0.231888</td>\n",
              "      <td>0.915800</td>\n",
              "      <td>0.223241</td>\n",
              "      <td>0.9227</td>\n",
              "      <td>64</td>\n",
              "      <td>10</td>\n",
              "      <td>relu</td>\n",
              "      <td>(3, 3)</td>\n",
              "      <td>64</td>\n",
              "      <td>128</td>\n",
              "      <td>0.25</td>\n",
              "      <td>(2, 2)</td>\n",
              "      <td>nadam</td>\n",
              "      <td>relu</td>\n",
              "      <td>(3, 3)</td>\n",
              "      <td>128</td>\n",
              "      <td>0.75</td>\n",
              "    </tr>\n",
              "    <tr>\n",
              "      <th>4</th>\n",
              "      <td>06/13/20-153605</td>\n",
              "      <td>06/13/20-153700</td>\n",
              "      <td>54.997076</td>\n",
              "      <td>10</td>\n",
              "      <td>0.184687</td>\n",
              "      <td>0.931017</td>\n",
              "      <td>0.205931</td>\n",
              "      <td>0.9271</td>\n",
              "      <td>64</td>\n",
              "      <td>10</td>\n",
              "      <td>relu</td>\n",
              "      <td>(3, 3)</td>\n",
              "      <td>64</td>\n",
              "      <td>128</td>\n",
              "      <td>0.50</td>\n",
              "      <td>(2, 2)</td>\n",
              "      <td>nadam</td>\n",
              "      <td>relu</td>\n",
              "      <td>(3, 3)</td>\n",
              "      <td>64</td>\n",
              "      <td>0.50</td>\n",
              "    </tr>\n",
              "  </tbody>\n",
              "</table>\n",
              "</div>"
            ],
            "text/plain": [
              "             start              end  ...  second_conv_neurons  second_dropout\n",
              "0  06/13/20-153155  06/13/20-153251  ...                   64            0.50\n",
              "1  06/13/20-153251  06/13/20-153346  ...                   64            0.75\n",
              "2  06/13/20-153346  06/13/20-153455  ...                  128            0.50\n",
              "3  06/13/20-153455  06/13/20-153605  ...                  128            0.75\n",
              "4  06/13/20-153605  06/13/20-153700  ...                   64            0.50\n",
              "\n",
              "[5 rows x 21 columns]"
            ]
          },
          "metadata": {
            "tags": []
          },
          "execution_count": 21
        }
      ]
    },
    {
      "cell_type": "code",
      "metadata": {
        "id": "5Yf46kS07TZO",
        "colab_type": "code",
        "colab": {
          "base_uri": "https://localhost:8080/",
          "height": 204
        },
        "outputId": "73b11dfc-9f23-41c0-f15f-346195340cb5"
      },
      "source": [
        "t.details"
      ],
      "execution_count": 22,
      "outputs": [
        {
          "output_type": "execute_result",
          "data": {
            "text/plain": [
              "experiment_name             fashion_mnist\n",
              "random_method            uniform_mersenne\n",
              "reduction_method                     None\n",
              "reduction_interval                     50\n",
              "reduction_window                       20\n",
              "reduction_threshold                   0.2\n",
              "reduction_metric                  val_acc\n",
              "complete_time              06/13/20/16:35\n",
              "x_shape                (60000, 28, 28, 1)\n",
              "y_shape                       (60000, 10)\n",
              "dtype: object"
            ]
          },
          "metadata": {
            "tags": []
          },
          "execution_count": 22
        }
      ]
    },
    {
      "cell_type": "code",
      "metadata": {
        "id": "p4Ea1_N87qEu",
        "colab_type": "code",
        "colab": {}
      },
      "source": [
        "from tensorflow.keras.initializers import GlorotUniform\n",
        "best_model = t.best_model(metric='val_accuracy', asc = False )\n",
        "best_model"
      ],
      "execution_count": 0,
      "outputs": []
    },
    {
      "cell_type": "code",
      "metadata": {
        "id": "GEMl-Jrvi7c2",
        "colab_type": "code",
        "colab": {
          "base_uri": "https://localhost:8080/",
          "height": 139
        },
        "outputId": "175c41a6-35dd-4214-b70f-f8b1d2667d7c"
      },
      "source": [
        "p = talos.Predict(t)\n",
        "print(p.predict(X_valid[0].reshape(1,28,28,1), metric = 'val_accuracy', asc = False))\n",
        "print(p.predict_classes(X_valid[0].reshape(1,28,28,1), metric = 'val_accuracy', asc = False))"
      ],
      "execution_count": 38,
      "outputs": [
        {
          "output_type": "stream",
          "text": [
            "[[1.2081569e-10 4.0809563e-14 2.6008147e-11 1.8257127e-13 1.7919967e-12\n",
            "  1.1792035e-08 1.4531108e-13 1.1517104e-06 4.1779132e-12 9.9999881e-01]]\n",
            "WARNING:tensorflow:From /usr/local/lib/python3.6/dist-packages/talos/commands/predict.py:54: Sequential.predict_classes (from tensorflow.python.keras.engine.sequential) is deprecated and will be removed after 2021-01-01.\n",
            "Instructions for updating:\n",
            "Please use instead:* `np.argmax(model.predict(x), axis=-1)`,   if your model does multi-class classification   (e.g. if it uses a `softmax` last-layer activation).* `(model.predict(x) > 0.5).astype(\"int32\")`,   if your model does binary classification   (e.g. if it uses a `sigmoid` last-layer activation).\n",
            "[9]\n"
          ],
          "name": "stdout"
        }
      ]
    },
    {
      "cell_type": "code",
      "metadata": {
        "id": "Uzo8me-Y8FuX",
        "colab_type": "code",
        "colab": {
          "base_uri": "https://localhost:8080/",
          "height": 612
        },
        "outputId": "bc1de1f6-568c-4416-c966-7081e00a0dc8"
      },
      "source": [
        "# Need talos 1.x to work with tf2. \n",
        "t.evaluate_models(x_val=X_valid, \n",
        "                            y_val=y_valid,\n",
        "                            n_models=10,\n",
        "                            metric='val_accuracy',\n",
        "                            folds=5,\n",
        "                            shuffle=True,\n",
        "                            task='multi_label', \n",
        "                            asc=False )"
      ],
      "execution_count": 28,
      "outputs": [
        {
          "output_type": "stream",
          "text": [
            "\n",
            "\n",
            "\n",
            "  0%|          | 0/10 [00:00<?, ?it/s]\u001b[A\u001b[A\u001b[A\n",
            "\n",
            "\n",
            " 10%|█         | 1/10 [00:00<00:07,  1.17it/s]\u001b[A\u001b[A\u001b[A\n",
            "\n",
            "\n",
            " 20%|██        | 2/10 [00:01<00:06,  1.18it/s]\u001b[A\u001b[A\u001b[A\n",
            "\n",
            "\n",
            " 30%|███       | 3/10 [00:02<00:05,  1.19it/s]\u001b[A\u001b[A\u001b[A\n",
            "\n",
            "\n",
            " 40%|████      | 4/10 [00:03<00:05,  1.18it/s]\u001b[A\u001b[A\u001b[A\n",
            "\n",
            "\n",
            " 50%|█████     | 5/10 [00:04<00:04,  1.14it/s]\u001b[A\u001b[A\u001b[A\n",
            "\n",
            "\n",
            " 60%|██████    | 6/10 [00:05<00:03,  1.15it/s]\u001b[A\u001b[A\u001b[A\n",
            "\n",
            "\n",
            " 70%|███████   | 7/10 [00:06<00:02,  1.16it/s]\u001b[A\u001b[A\u001b[A\n",
            "\n",
            "\n",
            " 80%|████████  | 8/10 [00:06<00:01,  1.16it/s]\u001b[A\u001b[A\u001b[A\n",
            "\n",
            "\n",
            " 90%|█████████ | 9/10 [00:07<00:00,  1.13it/s]\u001b[A\u001b[A\u001b[A\n",
            "\n",
            "\n",
            "100%|██████████| 10/10 [00:08<00:00,  1.14it/s]"
          ],
          "name": "stderr"
        },
        {
          "output_type": "stream",
          "text": [
            ">> Added evaluation score columns to scan_object.data\n"
          ],
          "name": "stdout"
        },
        {
          "output_type": "stream",
          "text": [
            "\n"
          ],
          "name": "stderr"
        }
      ]
    },
    {
      "cell_type": "code",
      "metadata": {
        "id": "C9WJM9f9joVH",
        "colab_type": "code",
        "colab": {
          "base_uri": "https://localhost:8080/",
          "height": 309
        },
        "outputId": "cdc16dae-8e11-401b-8253-794c6b178c0e"
      },
      "source": [
        "t.data.head()"
      ],
      "execution_count": 29,
      "outputs": [
        {
          "output_type": "execute_result",
          "data": {
            "text/html": [
              "<div>\n",
              "<style scoped>\n",
              "    .dataframe tbody tr th:only-of-type {\n",
              "        vertical-align: middle;\n",
              "    }\n",
              "\n",
              "    .dataframe tbody tr th {\n",
              "        vertical-align: top;\n",
              "    }\n",
              "\n",
              "    .dataframe thead th {\n",
              "        text-align: right;\n",
              "    }\n",
              "</style>\n",
              "<table border=\"1\" class=\"dataframe\">\n",
              "  <thead>\n",
              "    <tr style=\"text-align: right;\">\n",
              "      <th></th>\n",
              "      <th>start</th>\n",
              "      <th>end</th>\n",
              "      <th>duration</th>\n",
              "      <th>round_epochs</th>\n",
              "      <th>loss</th>\n",
              "      <th>accuracy</th>\n",
              "      <th>val_loss</th>\n",
              "      <th>val_accuracy</th>\n",
              "      <th>batch_size</th>\n",
              "      <th>epochs</th>\n",
              "      <th>first_conv_activation</th>\n",
              "      <th>first_conv_kernel</th>\n",
              "      <th>first_conv_neurons</th>\n",
              "      <th>first_dense_neurons</th>\n",
              "      <th>first_dropout</th>\n",
              "      <th>first_max_pool_size</th>\n",
              "      <th>optimizer</th>\n",
              "      <th>second_conv_activation</th>\n",
              "      <th>second_conv_kernel</th>\n",
              "      <th>second_conv_neurons</th>\n",
              "      <th>second_dropout</th>\n",
              "      <th>eval_f1score_mean</th>\n",
              "      <th>eval_f1score_std</th>\n",
              "    </tr>\n",
              "  </thead>\n",
              "  <tbody>\n",
              "    <tr>\n",
              "      <th>0</th>\n",
              "      <td>06/13/20-153155</td>\n",
              "      <td>06/13/20-153251</td>\n",
              "      <td>55.105764</td>\n",
              "      <td>10</td>\n",
              "      <td>0.145971</td>\n",
              "      <td>0.944650</td>\n",
              "      <td>0.222795</td>\n",
              "      <td>0.9263</td>\n",
              "      <td>64</td>\n",
              "      <td>10</td>\n",
              "      <td>relu</td>\n",
              "      <td>(3, 3)</td>\n",
              "      <td>64</td>\n",
              "      <td>128</td>\n",
              "      <td>0.25</td>\n",
              "      <td>(2, 2)</td>\n",
              "      <td>nadam</td>\n",
              "      <td>relu</td>\n",
              "      <td>(3, 3)</td>\n",
              "      <td>64</td>\n",
              "      <td>0.50</td>\n",
              "      <td>NaN</td>\n",
              "      <td>NaN</td>\n",
              "    </tr>\n",
              "    <tr>\n",
              "      <th>1</th>\n",
              "      <td>06/13/20-153251</td>\n",
              "      <td>06/13/20-153346</td>\n",
              "      <td>55.130074</td>\n",
              "      <td>10</td>\n",
              "      <td>0.251182</td>\n",
              "      <td>0.907133</td>\n",
              "      <td>0.231424</td>\n",
              "      <td>0.9192</td>\n",
              "      <td>64</td>\n",
              "      <td>10</td>\n",
              "      <td>relu</td>\n",
              "      <td>(3, 3)</td>\n",
              "      <td>64</td>\n",
              "      <td>128</td>\n",
              "      <td>0.25</td>\n",
              "      <td>(2, 2)</td>\n",
              "      <td>nadam</td>\n",
              "      <td>relu</td>\n",
              "      <td>(3, 3)</td>\n",
              "      <td>64</td>\n",
              "      <td>0.75</td>\n",
              "      <td>NaN</td>\n",
              "      <td>NaN</td>\n",
              "    </tr>\n",
              "    <tr>\n",
              "      <th>2</th>\n",
              "      <td>06/13/20-153346</td>\n",
              "      <td>06/13/20-153455</td>\n",
              "      <td>69.339621</td>\n",
              "      <td>10</td>\n",
              "      <td>0.124817</td>\n",
              "      <td>0.953133</td>\n",
              "      <td>0.223386</td>\n",
              "      <td>0.9302</td>\n",
              "      <td>64</td>\n",
              "      <td>10</td>\n",
              "      <td>relu</td>\n",
              "      <td>(3, 3)</td>\n",
              "      <td>64</td>\n",
              "      <td>128</td>\n",
              "      <td>0.25</td>\n",
              "      <td>(2, 2)</td>\n",
              "      <td>nadam</td>\n",
              "      <td>relu</td>\n",
              "      <td>(3, 3)</td>\n",
              "      <td>128</td>\n",
              "      <td>0.50</td>\n",
              "      <td>0.929751</td>\n",
              "      <td>0.005169</td>\n",
              "    </tr>\n",
              "    <tr>\n",
              "      <th>3</th>\n",
              "      <td>06/13/20-153455</td>\n",
              "      <td>06/13/20-153605</td>\n",
              "      <td>69.752104</td>\n",
              "      <td>10</td>\n",
              "      <td>0.231888</td>\n",
              "      <td>0.915800</td>\n",
              "      <td>0.223241</td>\n",
              "      <td>0.9227</td>\n",
              "      <td>64</td>\n",
              "      <td>10</td>\n",
              "      <td>relu</td>\n",
              "      <td>(3, 3)</td>\n",
              "      <td>64</td>\n",
              "      <td>128</td>\n",
              "      <td>0.25</td>\n",
              "      <td>(2, 2)</td>\n",
              "      <td>nadam</td>\n",
              "      <td>relu</td>\n",
              "      <td>(3, 3)</td>\n",
              "      <td>128</td>\n",
              "      <td>0.75</td>\n",
              "      <td>NaN</td>\n",
              "      <td>NaN</td>\n",
              "    </tr>\n",
              "    <tr>\n",
              "      <th>4</th>\n",
              "      <td>06/13/20-153605</td>\n",
              "      <td>06/13/20-153700</td>\n",
              "      <td>54.997076</td>\n",
              "      <td>10</td>\n",
              "      <td>0.184687</td>\n",
              "      <td>0.931017</td>\n",
              "      <td>0.205931</td>\n",
              "      <td>0.9271</td>\n",
              "      <td>64</td>\n",
              "      <td>10</td>\n",
              "      <td>relu</td>\n",
              "      <td>(3, 3)</td>\n",
              "      <td>64</td>\n",
              "      <td>128</td>\n",
              "      <td>0.50</td>\n",
              "      <td>(2, 2)</td>\n",
              "      <td>nadam</td>\n",
              "      <td>relu</td>\n",
              "      <td>(3, 3)</td>\n",
              "      <td>64</td>\n",
              "      <td>0.50</td>\n",
              "      <td>NaN</td>\n",
              "      <td>NaN</td>\n",
              "    </tr>\n",
              "  </tbody>\n",
              "</table>\n",
              "</div>"
            ],
            "text/plain": [
              "             start              end  ...  eval_f1score_mean  eval_f1score_std\n",
              "0  06/13/20-153155  06/13/20-153251  ...                NaN               NaN\n",
              "1  06/13/20-153251  06/13/20-153346  ...                NaN               NaN\n",
              "2  06/13/20-153346  06/13/20-153455  ...           0.929751          0.005169\n",
              "3  06/13/20-153455  06/13/20-153605  ...                NaN               NaN\n",
              "4  06/13/20-153605  06/13/20-153700  ...                NaN               NaN\n",
              "\n",
              "[5 rows x 23 columns]"
            ]
          },
          "metadata": {
            "tags": []
          },
          "execution_count": 29
        }
      ]
    },
    {
      "cell_type": "code",
      "metadata": {
        "id": "C7uREZ589PFs",
        "colab_type": "code",
        "colab": {
          "base_uri": "https://localhost:8080/",
          "height": 102
        },
        "outputId": "9d22e847-40f1-4a42-eaa3-b2374291d6af"
      },
      "source": [
        "e = talos.Evaluate(t)\n",
        "e.evaluate(X_valid, y_valid, metric ='val_accuracy', task = 'multi_label')"
      ],
      "execution_count": 30,
      "outputs": [
        {
          "output_type": "execute_result",
          "data": {
            "text/plain": [
              "[0.9352314904961156,\n",
              " 0.9273154812163412,\n",
              " 0.9380303419680635,\n",
              " 0.9267356128497068,\n",
              " 0.9432950506953794]"
            ]
          },
          "metadata": {
            "tags": []
          },
          "execution_count": 30
        }
      ]
    },
    {
      "cell_type": "code",
      "metadata": {
        "id": "-OA2PxP0jnAJ",
        "colab_type": "code",
        "colab": {
          "base_uri": "https://localhost:8080/",
          "height": 309
        },
        "outputId": "922e3dac-3daf-4bd4-af08-f0fb542d2772"
      },
      "source": [
        "t.data.head(5)"
      ],
      "execution_count": 53,
      "outputs": [
        {
          "output_type": "execute_result",
          "data": {
            "text/html": [
              "<div>\n",
              "<style scoped>\n",
              "    .dataframe tbody tr th:only-of-type {\n",
              "        vertical-align: middle;\n",
              "    }\n",
              "\n",
              "    .dataframe tbody tr th {\n",
              "        vertical-align: top;\n",
              "    }\n",
              "\n",
              "    .dataframe thead th {\n",
              "        text-align: right;\n",
              "    }\n",
              "</style>\n",
              "<table border=\"1\" class=\"dataframe\">\n",
              "  <thead>\n",
              "    <tr style=\"text-align: right;\">\n",
              "      <th></th>\n",
              "      <th>start</th>\n",
              "      <th>end</th>\n",
              "      <th>duration</th>\n",
              "      <th>round_epochs</th>\n",
              "      <th>loss</th>\n",
              "      <th>accuracy</th>\n",
              "      <th>val_loss</th>\n",
              "      <th>val_accuracy</th>\n",
              "      <th>batch_size</th>\n",
              "      <th>epochs</th>\n",
              "      <th>first_conv_activation</th>\n",
              "      <th>first_conv_kernel</th>\n",
              "      <th>first_conv_neurons</th>\n",
              "      <th>first_dense_neurons</th>\n",
              "      <th>first_dropout</th>\n",
              "      <th>first_max_pool_size</th>\n",
              "      <th>optimizer</th>\n",
              "      <th>second_conv_activation</th>\n",
              "      <th>second_conv_kernel</th>\n",
              "      <th>second_conv_neurons</th>\n",
              "      <th>second_dropout</th>\n",
              "      <th>eval_f1score_mean</th>\n",
              "      <th>eval_f1score_std</th>\n",
              "    </tr>\n",
              "  </thead>\n",
              "  <tbody>\n",
              "    <tr>\n",
              "      <th>0</th>\n",
              "      <td>06/13/20-153155</td>\n",
              "      <td>06/13/20-153251</td>\n",
              "      <td>55.105764</td>\n",
              "      <td>10</td>\n",
              "      <td>0.145971</td>\n",
              "      <td>0.944650</td>\n",
              "      <td>0.222795</td>\n",
              "      <td>0.9263</td>\n",
              "      <td>64</td>\n",
              "      <td>10</td>\n",
              "      <td>relu</td>\n",
              "      <td>(3, 3)</td>\n",
              "      <td>64</td>\n",
              "      <td>128</td>\n",
              "      <td>0.25</td>\n",
              "      <td>(2, 2)</td>\n",
              "      <td>nadam</td>\n",
              "      <td>relu</td>\n",
              "      <td>(3, 3)</td>\n",
              "      <td>64</td>\n",
              "      <td>0.50</td>\n",
              "      <td>NaN</td>\n",
              "      <td>NaN</td>\n",
              "    </tr>\n",
              "    <tr>\n",
              "      <th>1</th>\n",
              "      <td>06/13/20-153251</td>\n",
              "      <td>06/13/20-153346</td>\n",
              "      <td>55.130074</td>\n",
              "      <td>10</td>\n",
              "      <td>0.251182</td>\n",
              "      <td>0.907133</td>\n",
              "      <td>0.231424</td>\n",
              "      <td>0.9192</td>\n",
              "      <td>64</td>\n",
              "      <td>10</td>\n",
              "      <td>relu</td>\n",
              "      <td>(3, 3)</td>\n",
              "      <td>64</td>\n",
              "      <td>128</td>\n",
              "      <td>0.25</td>\n",
              "      <td>(2, 2)</td>\n",
              "      <td>nadam</td>\n",
              "      <td>relu</td>\n",
              "      <td>(3, 3)</td>\n",
              "      <td>64</td>\n",
              "      <td>0.75</td>\n",
              "      <td>NaN</td>\n",
              "      <td>NaN</td>\n",
              "    </tr>\n",
              "    <tr>\n",
              "      <th>2</th>\n",
              "      <td>06/13/20-153346</td>\n",
              "      <td>06/13/20-153455</td>\n",
              "      <td>69.339621</td>\n",
              "      <td>10</td>\n",
              "      <td>0.124817</td>\n",
              "      <td>0.953133</td>\n",
              "      <td>0.223386</td>\n",
              "      <td>0.9302</td>\n",
              "      <td>64</td>\n",
              "      <td>10</td>\n",
              "      <td>relu</td>\n",
              "      <td>(3, 3)</td>\n",
              "      <td>64</td>\n",
              "      <td>128</td>\n",
              "      <td>0.25</td>\n",
              "      <td>(2, 2)</td>\n",
              "      <td>nadam</td>\n",
              "      <td>relu</td>\n",
              "      <td>(3, 3)</td>\n",
              "      <td>128</td>\n",
              "      <td>0.50</td>\n",
              "      <td>0.929751</td>\n",
              "      <td>0.005169</td>\n",
              "    </tr>\n",
              "    <tr>\n",
              "      <th>3</th>\n",
              "      <td>06/13/20-153455</td>\n",
              "      <td>06/13/20-153605</td>\n",
              "      <td>69.752104</td>\n",
              "      <td>10</td>\n",
              "      <td>0.231888</td>\n",
              "      <td>0.915800</td>\n",
              "      <td>0.223241</td>\n",
              "      <td>0.9227</td>\n",
              "      <td>64</td>\n",
              "      <td>10</td>\n",
              "      <td>relu</td>\n",
              "      <td>(3, 3)</td>\n",
              "      <td>64</td>\n",
              "      <td>128</td>\n",
              "      <td>0.25</td>\n",
              "      <td>(2, 2)</td>\n",
              "      <td>nadam</td>\n",
              "      <td>relu</td>\n",
              "      <td>(3, 3)</td>\n",
              "      <td>128</td>\n",
              "      <td>0.75</td>\n",
              "      <td>NaN</td>\n",
              "      <td>NaN</td>\n",
              "    </tr>\n",
              "    <tr>\n",
              "      <th>4</th>\n",
              "      <td>06/13/20-153605</td>\n",
              "      <td>06/13/20-153700</td>\n",
              "      <td>54.997076</td>\n",
              "      <td>10</td>\n",
              "      <td>0.184687</td>\n",
              "      <td>0.931017</td>\n",
              "      <td>0.205931</td>\n",
              "      <td>0.9271</td>\n",
              "      <td>64</td>\n",
              "      <td>10</td>\n",
              "      <td>relu</td>\n",
              "      <td>(3, 3)</td>\n",
              "      <td>64</td>\n",
              "      <td>128</td>\n",
              "      <td>0.50</td>\n",
              "      <td>(2, 2)</td>\n",
              "      <td>nadam</td>\n",
              "      <td>relu</td>\n",
              "      <td>(3, 3)</td>\n",
              "      <td>64</td>\n",
              "      <td>0.50</td>\n",
              "      <td>NaN</td>\n",
              "      <td>NaN</td>\n",
              "    </tr>\n",
              "  </tbody>\n",
              "</table>\n",
              "</div>"
            ],
            "text/plain": [
              "             start              end  ...  eval_f1score_mean  eval_f1score_std\n",
              "0  06/13/20-153155  06/13/20-153251  ...                NaN               NaN\n",
              "1  06/13/20-153251  06/13/20-153346  ...                NaN               NaN\n",
              "2  06/13/20-153346  06/13/20-153455  ...           0.929751          0.005169\n",
              "3  06/13/20-153455  06/13/20-153605  ...                NaN               NaN\n",
              "4  06/13/20-153605  06/13/20-153700  ...                NaN               NaN\n",
              "\n",
              "[5 rows x 23 columns]"
            ]
          },
          "metadata": {
            "tags": []
          },
          "execution_count": 53
        }
      ]
    },
    {
      "cell_type": "code",
      "metadata": {
        "id": "uYoOqZdO-xec",
        "colab_type": "code",
        "colab": {
          "base_uri": "https://localhost:8080/",
          "height": 34
        },
        "outputId": "91a02035-6dec-4557-c8cc-333ba060e5ba"
      },
      "source": [
        "a = talos.Analyze(t)\n",
        "a"
      ],
      "execution_count": 41,
      "outputs": [
        {
          "output_type": "execute_result",
          "data": {
            "text/plain": [
              "<talos.commands.analyze.Analyze at 0x7ff4b6520780>"
            ]
          },
          "metadata": {
            "tags": []
          },
          "execution_count": 41
        }
      ]
    },
    {
      "cell_type": "code",
      "metadata": {
        "id": "Yg5kpVjZl7HU",
        "colab_type": "code",
        "colab": {
          "base_uri": "https://localhost:8080/",
          "height": 480
        },
        "outputId": "3de76014-0604-4523-d524-cd4f5051e9a9"
      },
      "source": [
        "a.plot_hist('val_accuracy')"
      ],
      "execution_count": 45,
      "outputs": [
        {
          "output_type": "display_data",
          "data": {
            "image/png": "[encoded data removed]",
            "text/plain": [
              "<Figure size 720x475.2 with 1 Axes>"
            ]
          },
          "metadata": {
            "tags": [],
            "needs_background": "light"
          }
        }
      ]
    },
    {
      "cell_type": "code",
      "metadata": {
        "id": "2h5QU3wkl8EJ",
        "colab_type": "code",
        "colab": {
          "base_uri": "https://localhost:8080/",
          "height": 34
        },
        "outputId": "1af009c9-6192-4c9d-ec6d-0a9d886c81a8"
      },
      "source": [
        "a.high('val_accuracy')"
      ],
      "execution_count": 43,
      "outputs": [
        {
          "output_type": "execute_result",
          "data": {
            "text/plain": [
              "0.9341999888420105"
            ]
          },
          "metadata": {
            "tags": []
          },
          "execution_count": 43
        }
      ]
    },
    {
      "cell_type": "code",
      "metadata": {
        "id": "lNVJRfqSmOBO",
        "colab_type": "code",
        "colab": {
          "base_uri": "https://localhost:8080/",
          "height": 213
        },
        "outputId": "53387dd5-75e4-4a0a-cd04-8564bae5f786"
      },
      "source": [
        "a.table(metric='val_accuracy', sort_by='val_accuracy').head(3)"
      ],
      "execution_count": 50,
      "outputs": [
        {
          "output_type": "execute_result",
          "data": {
            "text/html": [
              "<div>\n",
              "<style scoped>\n",
              "    .dataframe tbody tr th:only-of-type {\n",
              "        vertical-align: middle;\n",
              "    }\n",
              "\n",
              "    .dataframe tbody tr th {\n",
              "        vertical-align: top;\n",
              "    }\n",
              "\n",
              "    .dataframe thead th {\n",
              "        text-align: right;\n",
              "    }\n",
              "</style>\n",
              "<table border=\"1\" class=\"dataframe\">\n",
              "  <thead>\n",
              "    <tr style=\"text-align: right;\">\n",
              "      <th></th>\n",
              "      <th>epochs</th>\n",
              "      <th>second_conv_activation</th>\n",
              "      <th>optimizer</th>\n",
              "      <th>first_conv_neurons</th>\n",
              "      <th>accuracy</th>\n",
              "      <th>second_dropout</th>\n",
              "      <th>end</th>\n",
              "      <th>val_accuracy</th>\n",
              "      <th>val_loss</th>\n",
              "      <th>first_dropout</th>\n",
              "      <th>batch_size</th>\n",
              "      <th>loss</th>\n",
              "      <th>second_conv_neurons</th>\n",
              "      <th>first_dense_neurons</th>\n",
              "      <th>first_conv_activation</th>\n",
              "      <th>second_conv_kernel</th>\n",
              "      <th>first_conv_kernel</th>\n",
              "      <th>duration</th>\n",
              "      <th>eval_f1score_std</th>\n",
              "      <th>eval_f1score_mean</th>\n",
              "      <th>round_epochs</th>\n",
              "      <th>start</th>\n",
              "      <th>first_max_pool_size</th>\n",
              "    </tr>\n",
              "  </thead>\n",
              "  <tbody>\n",
              "    <tr>\n",
              "      <th>62</th>\n",
              "      <td>10</td>\n",
              "      <td>relu</td>\n",
              "      <td>nadam</td>\n",
              "      <td>128</td>\n",
              "      <td>0.954833</td>\n",
              "      <td>0.5</td>\n",
              "      <td>06/13/20-163420</td>\n",
              "      <td>0.9342</td>\n",
              "      <td>0.201612</td>\n",
              "      <td>0.50</td>\n",
              "      <td>128</td>\n",
              "      <td>0.121005</td>\n",
              "      <td>128</td>\n",
              "      <td>256</td>\n",
              "      <td>relu</td>\n",
              "      <td>(3, 3)</td>\n",
              "      <td>(3, 3)</td>\n",
              "      <td>64.094139</td>\n",
              "      <td>0.007210</td>\n",
              "      <td>0.934073</td>\n",
              "      <td>10</td>\n",
              "      <td>06/13/20-163316</td>\n",
              "      <td>(2, 2)</td>\n",
              "    </tr>\n",
              "    <tr>\n",
              "      <th>24</th>\n",
              "      <td>10</td>\n",
              "      <td>relu</td>\n",
              "      <td>nadam</td>\n",
              "      <td>128</td>\n",
              "      <td>0.960450</td>\n",
              "      <td>0.5</td>\n",
              "      <td>06/13/20-155949</td>\n",
              "      <td>0.9333</td>\n",
              "      <td>0.216650</td>\n",
              "      <td>0.25</td>\n",
              "      <td>64</td>\n",
              "      <td>0.106645</td>\n",
              "      <td>64</td>\n",
              "      <td>256</td>\n",
              "      <td>relu</td>\n",
              "      <td>(3, 3)</td>\n",
              "      <td>(3, 3)</td>\n",
              "      <td>66.302378</td>\n",
              "      <td>0.003763</td>\n",
              "      <td>0.932945</td>\n",
              "      <td>10</td>\n",
              "      <td>06/13/20-155843</td>\n",
              "      <td>(2, 2)</td>\n",
              "    </tr>\n",
              "    <tr>\n",
              "      <th>42</th>\n",
              "      <td>10</td>\n",
              "      <td>relu</td>\n",
              "      <td>nadam</td>\n",
              "      <td>64</td>\n",
              "      <td>0.965800</td>\n",
              "      <td>0.5</td>\n",
              "      <td>06/13/20-161658</td>\n",
              "      <td>0.9326</td>\n",
              "      <td>0.229829</td>\n",
              "      <td>0.25</td>\n",
              "      <td>128</td>\n",
              "      <td>0.091076</td>\n",
              "      <td>128</td>\n",
              "      <td>256</td>\n",
              "      <td>relu</td>\n",
              "      <td>(3, 3)</td>\n",
              "      <td>(3, 3)</td>\n",
              "      <td>55.369303</td>\n",
              "      <td>0.004685</td>\n",
              "      <td>0.932464</td>\n",
              "      <td>10</td>\n",
              "      <td>06/13/20-161603</td>\n",
              "      <td>(2, 2)</td>\n",
              "    </tr>\n",
              "  </tbody>\n",
              "</table>\n",
              "</div>"
            ],
            "text/plain": [
              "    epochs second_conv_activation  ...            start  first_max_pool_size\n",
              "62      10                   relu  ...  06/13/20-163316               (2, 2)\n",
              "24      10                   relu  ...  06/13/20-155843               (2, 2)\n",
              "42      10                   relu  ...  06/13/20-161603               (2, 2)\n",
              "\n",
              "[3 rows x 23 columns]"
            ]
          },
          "metadata": {
            "tags": []
          },
          "execution_count": 50
        }
      ]
    },
    {
      "cell_type": "code",
      "metadata": {
        "id": "WXmh62MEmra2",
        "colab_type": "code",
        "colab": {
          "base_uri": "https://localhost:8080/",
          "height": 102
        },
        "outputId": "a35e279f-b3ea-4afa-b0ac-a94edcc1303c"
      },
      "source": [
        "a.best_params(metric = 'val_accuracy', exclude=[], n = 1)"
      ],
      "execution_count": 52,
      "outputs": [
        {
          "output_type": "execute_result",
          "data": {
            "text/plain": [
              "array([[10, 'relu', 'nadam', 128, 0.9548333287239075, 0.5,\n",
              "        '06/13/20-163420', 0.20161224901676178, 0.5, 128,\n",
              "        0.12100548297166824, 128, 256, 'relu', (3, 3), (3, 3),\n",
              "        64.09413933753967, 0.007210241518540993, 0.9340728789261277, 10,\n",
              "        '06/13/20-163316', (2, 2), 0]], dtype=object)"
            ]
          },
          "metadata": {
            "tags": []
          },
          "execution_count": 52
        }
      ]
    },
    {
      "cell_type": "code",
      "metadata": {
        "id": "kcWwqIRJnhKP",
        "colab_type": "code",
        "colab": {}
      },
      "source": [
        "# Concludes hyper parameter optimization using talos. The val accuracy has improved to .9342 from 0.9273"
      ],
      "execution_count": 0,
      "outputs": []
    }
  ]
}