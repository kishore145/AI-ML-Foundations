{
  "nbformat": 4,
  "nbformat_minor": 0,
  "metadata": {
    "colab": {
      "name": "18-VGG16 using tensorlfow on mnist and cifar.ipynb",
      "provenance": [],
      "collapsed_sections": [],
      "toc_visible": true,
      "authorship_tag": "ABX9TyMtwBn438ISG6hxDn+5pHOE",
      "include_colab_link": true
    },
    "kernelspec": {
      "name": "python3",
      "display_name": "Python 3"
    },
    "accelerator": "GPU"
  },
  "cells": [
    {
      "cell_type": "markdown",
      "metadata": {
        "id": "view-in-github",
        "colab_type": "text"
      },
      "source": [
        "<a href=\"https://colab.research.google.com/github/kishore145/AI-ML-Foundations/blob/master/Neural%20Networks/18_VGG16_using_tensorlfow_on_mnist_and_cifar.ipynb\" target=\"_parent\"><img src=\"https://colab.research.google.com/assets/colab-badge.svg\" alt=\"Open In Colab\"/></a>"
      ]
    },
    {
      "cell_type": "markdown",
      "metadata": {
        "id": "bI_6SJHFb8fb",
        "colab_type": "text"
      },
      "source": [
        "# Architecture  \n",
        "\n",
        "VGG16 is a 16 weights layer configuration.   \n",
        "You can read more about it in the original paper : https://arxiv.org/pdf/1409.1556.pdf\n",
        "\n",
        "| VGG16 Configuration |\n",
        "| :-----------------: | \n",
        "| input               | \n",
        "| ------------------- | \n",
        "| conv3 - 64 |\n",
        "| conv3 - 64 |\n",
        "| maxpool |\n",
        "| ------------------- | \n",
        "| conv3 - 128 | \n",
        "| conv3 - 128 |\n",
        "| maxpool |\n",
        "| ------------------- | \n",
        "| conv3 - 256 | \n",
        "| conv3 - 256 |\n",
        "| conv3 - 256 |\n",
        "| maxpool |\n",
        "| ------------------- | \n",
        "| conv3 - 512 | \n",
        "| conv3 - 512 |\n",
        "| conv3 - 512 |\n",
        "| maxpool |\n",
        "| ------------------- | \n",
        "| conv3 - 512 | \n",
        "| conv3 - 512 |\n",
        "| conv3 - 512 |\n",
        "| maxpool |\n",
        "| ------------------- | \n",
        "| FC - 4096 | \n",
        "| FC - 4096 | \n",
        "| FC - 1000 |\n",
        "| softmax |  \n",
        "\n",
        "\n",
        "\n",
        "\n",
        "\n"
      ]
    },
    {
      "cell_type": "markdown",
      "metadata": {
        "id": "xaqqoroFiHwF",
        "colab_type": "text"
      },
      "source": [
        "# Load dependencies and pre-process data"
      ]
    },
    {
      "cell_type": "code",
      "metadata": {
        "id": "EpBOyP3CbyVU",
        "colab_type": "code",
        "colab": {}
      },
      "source": [
        "# Load dependencies\n",
        "import tensorflow\n",
        "from tensorflow.keras.datasets import cifar10\n",
        "from tensorflow.keras.datasets import mnist\n",
        "from tensorflow.keras.utils import to_categorical\n",
        "from tensorflow.keras.models import Sequential\n",
        "from tensorflow.keras.layers import Dense, Dropout, Flatten, Conv2D, MaxPooling2D\n",
        "from tensorflow.keras.layers import BatchNormalization\n",
        "\n",
        "from tensorflow.keras.callbacks import ModelCheckpoint\n",
        "import os"
      ],
      "execution_count": 1,
      "outputs": []
    },
    {
      "cell_type": "code",
      "metadata": {
        "id": "DfSXGAA6-1W9",
        "colab_type": "code",
        "colab": {}
      },
      "source": [
        "# Load mnist data\n",
        "(X_train_mnist, y_train_mnist), (X_valid_mnist, y_valid_mnist) = mnist.load_data()"
      ],
      "execution_count": 2,
      "outputs": []
    },
    {
      "cell_type": "code",
      "metadata": {
        "id": "lwP-MSBDcXo9",
        "colab_type": "code",
        "colab": {}
      },
      "source": [
        "(X_train_cifar, y_train_cifar), (X_valid_cifar, y_valid_cifar) = cifar10.load_data()"
      ],
      "execution_count": 3,
      "outputs": []
    },
    {
      "cell_type": "code",
      "metadata": {
        "id": "8-oZY2jDgBUC",
        "colab_type": "code",
        "colab": {}
      },
      "source": [
        "# Check the shape of the data to ensure data is downloaded correctly\n",
        "def datashape(X_train, y_train, X_valid, y_valid):\n",
        "  print(f'''\n",
        "  X_train shape: {X_train.shape},\n",
        "  y_train shape: {y_train.shape},\n",
        "  X_valid shape: {X_valid.shape},\n",
        "  y_valid shape: {y_valid.shape}''')\n"
      ],
      "execution_count": 4,
      "outputs": []
    },
    {
      "cell_type": "code",
      "metadata": {
        "id": "BSXdQ86xCLNi",
        "colab_type": "code",
        "colab": {
          "base_uri": "https://localhost:8080/",
          "height": 221
        },
        "outputId": "9e6c9f2e-0eb3-4a7f-c76d-b78a54bfc0b4"
      },
      "source": [
        "# Review the revised shape of feature vector and target labels\n",
        "print('Shape of mnist data set:')\n",
        "datashape(X_train_mnist, y_train_mnist, X_valid_mnist, y_valid_mnist)\n",
        "print('Shape of cifar data set:')\n",
        "datashape(X_train_cifar, y_train_cifar, X_valid_cifar, y_valid_cifar)"
      ],
      "execution_count": 5,
      "outputs": [
        {
          "output_type": "stream",
          "text": [
            "Shape of mnist data set:\n",
            "\n",
            "  X_train shape: (60000, 28, 28),\n",
            "  y_train shape: (60000,),\n",
            "  X_valid shape: (10000, 28, 28),\n",
            "  y_valid shape: (10000,)\n",
            "Shape of cifar data set:\n",
            "\n",
            "  X_train shape: (50000, 32, 32, 3),\n",
            "  y_train shape: (50000, 1),\n",
            "  X_valid shape: (10000, 32, 32, 3),\n",
            "  y_valid shape: (10000, 1)\n"
          ],
          "name": "stdout"
        }
      ]
    },
    {
      "cell_type": "code",
      "metadata": {
        "id": "PRTrCJ9-gJ_E",
        "colab_type": "code",
        "colab": {}
      },
      "source": [
        "# Reshape the numpy array to float32\n",
        "# Preprocess data - Input to conv is a 4D tensor with shape (batch_size, rows, cols, channels) as default which can be changed by data_format, \n",
        "def preprocess(X_train, y_train, X_valid, y_valid, X_trainshape, X_validshape, n_classes):\n",
        "  X_train = X_train.reshape(X_trainshape).astype('float32')\n",
        "  X_valid = X_valid.reshape(X_validshape).astype('float32')\n",
        "  X_train /= 255.\n",
        "  X_valid /= 255.\n",
        "  y_train = to_categorical(y_train, n_classes)\n",
        "  y_valid = to_categorical(y_valid, n_classes)\n",
        "\n",
        "  return X_train, y_train, X_valid, y_valid\n"
      ],
      "execution_count": 6,
      "outputs": []
    },
    {
      "cell_type": "code",
      "metadata": {
        "id": "j7sR5PhBgSWg",
        "colab_type": "code",
        "colab": {}
      },
      "source": [
        "n_classes = 10"
      ],
      "execution_count": 7,
      "outputs": []
    },
    {
      "cell_type": "code",
      "metadata": {
        "id": "OSVhIPh2hvV3",
        "colab_type": "code",
        "colab": {
          "base_uri": "https://localhost:8080/",
          "height": 221
        },
        "outputId": "491745ee-119d-4714-915a-d8d6c1e0fce1"
      },
      "source": [
        "X_train_mnist, y_train_mnist, X_valid_mnist, y_valid_mnist = preprocess(X_train_mnist, y_train_mnist, \n",
        "                                                                        X_valid_mnist, y_valid_mnist,\n",
        "                                                                        (60000, 28, 28, 1), (10000, 28,28,1),\n",
        "                                                                        n_classes)\n",
        "\n",
        "X_train_cifar, y_train_cifar, X_valid_cifar, y_valid_cifar = preprocess(X_train_cifar, y_train_cifar, \n",
        "                                                                        X_valid_cifar, y_valid_cifar,\n",
        "                                                                        (50000, 32, 32, 3), (10000, 32,32,3),\n",
        "                                                                        n_classes)\n",
        "\n",
        "# Review the revised shape of feature vector and target labels\n",
        "print('Shape of mnist data set:')\n",
        "datashape(X_train_mnist, y_train_mnist, X_valid_mnist, y_valid_mnist)\n",
        "print('Shape of cifar data set:')\n",
        "datashape(X_train_cifar, y_train_cifar, X_valid_cifar, y_valid_cifar)"
      ],
      "execution_count": 8,
      "outputs": [
        {
          "output_type": "stream",
          "text": [
            "Shape of mnist data set:\n",
            "\n",
            "  X_train shape: (60000, 28, 28, 1),\n",
            "  y_train shape: (60000, 10),\n",
            "  X_valid shape: (10000, 28, 28, 1),\n",
            "  y_valid shape: (10000, 10)\n",
            "Shape of cifar data set:\n",
            "\n",
            "  X_train shape: (50000, 32, 32, 3),\n",
            "  y_train shape: (50000, 10),\n",
            "  X_valid shape: (10000, 32, 32, 3),\n",
            "  y_valid shape: (10000, 10)\n"
          ],
          "name": "stdout"
        }
      ]
    },
    {
      "cell_type": "markdown",
      "metadata": {
        "id": "3XkP8gR9iCWs",
        "colab_type": "text"
      },
      "source": [
        "# Design VGG16 neural network"
      ]
    },
    {
      "cell_type": "code",
      "metadata": {
        "id": "QGkIJrT8h8xp",
        "colab_type": "code",
        "colab": {}
      },
      "source": [
        "# Strides are reduced due to low pixel count of the cifar & mnist dataset\n",
        "\n",
        "def vgg16(input_shape):\n",
        "\n",
        "  # Create model\n",
        "  model = Sequential()\n",
        "\n",
        "  # First conv pool block:\n",
        "  model.add(Conv2D(filters = 64, kernel_size=(3,3), padding = 'same', \n",
        "                  activation = 'relu', input_shape = input_shape))\n",
        "  model.add(Conv2D(filters = 64, kernel_size=(3,3), padding = 'same', \n",
        "                  activation = 'relu'))\n",
        "  model.add(MaxPooling2D(pool_size=(2,2)))\n",
        "  model.add(BatchNormalization())\n",
        "\n",
        "  # Second conv pool block:\n",
        "  model.add(Conv2D(filters = 128, kernel_size=(3,3), padding = 'same', \n",
        "                  activation = 'relu'))\n",
        "  model.add(Conv2D(filters = 128, kernel_size=(3,3), padding = 'same', \n",
        "                  activation = 'relu'))\n",
        "  model.add(MaxPooling2D(pool_size=(2,2)))\n",
        "  model.add(BatchNormalization())\n",
        "\n",
        "  # Third conv pool block consiting of 3 conv layers:\n",
        "  model.add(Conv2D(filters = 256, kernel_size=(3, 3), padding = 'same', \n",
        "                  activation = 'relu'))\n",
        "  model.add(Conv2D(filters = 256, kernel_size=(3, 3), padding = 'same', \n",
        "                  activation = 'relu'))\n",
        "  model.add(Conv2D(filters = 256, kernel_size=(3, 3), padding = 'same', \n",
        "                  activation = 'relu'))\n",
        "  model.add(MaxPooling2D(pool_size=(2,2)))\n",
        "  model.add(BatchNormalization())\n",
        "\n",
        "  # Fourth conv pool block consiting of 3 conv layers:\n",
        "  model.add(Conv2D(filters = 512, kernel_size=(3, 3), padding = 'same', \n",
        "                  activation = 'relu'))\n",
        "  model.add(Conv2D(filters = 512, kernel_size=(3, 3), padding = 'same', \n",
        "                  activation = 'relu'))\n",
        "  model.add(Conv2D(filters = 512, kernel_size=(3, 3), padding = 'same', \n",
        "                  activation = 'relu'))\n",
        "  model.add(MaxPooling2D(pool_size=(2,2), padding='same')) # Added padding due to error\n",
        "  model.add(BatchNormalization())\n",
        "\n",
        "  # Fifth conv pool block consiting of 3 conv layers:\n",
        "  model.add(Conv2D(filters = 512, kernel_size=(3, 3), padding = 'same', \n",
        "                  activation = 'relu'))\n",
        "  model.add(Conv2D(filters = 512, kernel_size=(3, 3), padding = 'same', \n",
        "                  activation = 'relu'))\n",
        "  model.add(Conv2D(filters = 512, kernel_size=(3, 3), padding = 'same', \n",
        "                  activation = 'relu'))\n",
        "  model.add(MaxPooling2D(pool_size=(2,2)))\n",
        "  model.add(BatchNormalization())\n",
        "  \n",
        "  # Fully connected dense neural networks:\n",
        "  model.add(Flatten())\n",
        "  model.add(Dense(units = 4096, activation='relu'))\n",
        "  model.add(Dropout(0.5))\n",
        "  model.add(Dense(units = 4096, activation='relu'))\n",
        "  model.add(Dropout(0.5))\n",
        "  model.add(Dense(units = 1000, activation='relu'))\n",
        "  model.add(Dropout(0.5))\n",
        "\n",
        "  # O/p layer\n",
        "  model.add(Dense(10, activation='softmax'))\n",
        "\n",
        "  # compile model\n",
        "  model.compile(loss = 'categorical_crossentropy', optimizer = 'nadam', metrics = ['accuracy'])\n",
        "\n",
        "  # Display model summary\n",
        "  print(model.summary())\n",
        "\n",
        "  # Return model\n",
        "  return model\n"
      ],
      "execution_count": 9,
      "outputs": []
    },
    {
      "cell_type": "code",
      "metadata": {
        "id": "JGY2cGZ5mnCV",
        "colab_type": "code",
        "colab": {
          "base_uri": "https://localhost:8080/",
          "height": 1000
        },
        "outputId": "3487ee34-0d0f-44a6-816e-45951c17e892"
      },
      "source": [
        "mnist_model = vgg16((28, 28, 1))"
      ],
      "execution_count": 10,
      "outputs": [
        {
          "output_type": "stream",
          "text": [
            "Model: \"sequential\"\n",
            "_________________________________________________________________\n",
            "Layer (type)                 Output Shape              Param #   \n",
            "=================================================================\n",
            "conv2d (Conv2D)              (None, 28, 28, 64)        640       \n",
            "_________________________________________________________________\n",
            "conv2d_1 (Conv2D)            (None, 28, 28, 64)        36928     \n",
            "_________________________________________________________________\n",
            "max_pooling2d (MaxPooling2D) (None, 14, 14, 64)        0         \n",
            "_________________________________________________________________\n",
            "batch_normalization (BatchNo (None, 14, 14, 64)        256       \n",
            "_________________________________________________________________\n",
            "conv2d_2 (Conv2D)            (None, 14, 14, 128)       73856     \n",
            "_________________________________________________________________\n",
            "conv2d_3 (Conv2D)            (None, 14, 14, 128)       147584    \n",
            "_________________________________________________________________\n",
            "max_pooling2d_1 (MaxPooling2 (None, 7, 7, 128)         0         \n",
            "_________________________________________________________________\n",
            "batch_normalization_1 (Batch (None, 7, 7, 128)         512       \n",
            "_________________________________________________________________\n",
            "conv2d_4 (Conv2D)            (None, 7, 7, 256)         295168    \n",
            "_________________________________________________________________\n",
            "conv2d_5 (Conv2D)            (None, 7, 7, 256)         590080    \n",
            "_________________________________________________________________\n",
            "conv2d_6 (Conv2D)            (None, 7, 7, 256)         590080    \n",
            "_________________________________________________________________\n",
            "max_pooling2d_2 (MaxPooling2 (None, 3, 3, 256)         0         \n",
            "_________________________________________________________________\n",
            "batch_normalization_2 (Batch (None, 3, 3, 256)         1024      \n",
            "_________________________________________________________________\n",
            "conv2d_7 (Conv2D)            (None, 3, 3, 512)         1180160   \n",
            "_________________________________________________________________\n",
            "conv2d_8 (Conv2D)            (None, 3, 3, 512)         2359808   \n",
            "_________________________________________________________________\n",
            "conv2d_9 (Conv2D)            (None, 3, 3, 512)         2359808   \n",
            "_________________________________________________________________\n",
            "max_pooling2d_3 (MaxPooling2 (None, 2, 2, 512)         0         \n",
            "_________________________________________________________________\n",
            "batch_normalization_3 (Batch (None, 2, 2, 512)         2048      \n",
            "_________________________________________________________________\n",
            "conv2d_10 (Conv2D)           (None, 2, 2, 512)         2359808   \n",
            "_________________________________________________________________\n",
            "conv2d_11 (Conv2D)           (None, 2, 2, 512)         2359808   \n",
            "_________________________________________________________________\n",
            "conv2d_12 (Conv2D)           (None, 2, 2, 512)         2359808   \n",
            "_________________________________________________________________\n",
            "max_pooling2d_4 (MaxPooling2 (None, 1, 1, 512)         0         \n",
            "_________________________________________________________________\n",
            "batch_normalization_4 (Batch (None, 1, 1, 512)         2048      \n",
            "_________________________________________________________________\n",
            "flatten (Flatten)            (None, 512)               0         \n",
            "_________________________________________________________________\n",
            "dense (Dense)                (None, 4096)              2101248   \n",
            "_________________________________________________________________\n",
            "dropout (Dropout)            (None, 4096)              0         \n",
            "_________________________________________________________________\n",
            "dense_1 (Dense)              (None, 4096)              16781312  \n",
            "_________________________________________________________________\n",
            "dropout_1 (Dropout)          (None, 4096)              0         \n",
            "_________________________________________________________________\n",
            "dense_2 (Dense)              (None, 1000)              4097000   \n",
            "_________________________________________________________________\n",
            "dropout_2 (Dropout)          (None, 1000)              0         \n",
            "_________________________________________________________________\n",
            "dense_3 (Dense)              (None, 10)                10010     \n",
            "=================================================================\n",
            "Total params: 37,708,994\n",
            "Trainable params: 37,706,050\n",
            "Non-trainable params: 2,944\n",
            "_________________________________________________________________\n",
            "None\n"
          ],
          "name": "stdout"
        }
      ]
    },
    {
      "cell_type": "code",
      "metadata": {
        "id": "5YN_y9q_nCSp",
        "colab_type": "code",
        "colab": {}
      },
      "source": [
        "# Setting model checkpoint\n",
        "# Set o/p directory\n",
        "output_dir_mnist = 'model_output/vgg16/mnist'\n",
        "\n",
        "modelcheckpoint = ModelCheckpoint(filepath=output_dir_mnist + '/weights.{epoch:02d}.hdf5', \n",
        "                                  monitor = 'val_accuracy', save_best_only = True)\n",
        "\n",
        "# Verifying o/p path exists\n",
        "if not os.path.exists(output_dir_mnist):\n",
        "  os.makedirs(output_dir_mnist)"
      ],
      "execution_count": 11,
      "outputs": []
    },
    {
      "cell_type": "code",
      "metadata": {
        "id": "76UC5N98oKfd",
        "colab_type": "code",
        "colab": {
          "base_uri": "https://localhost:8080/",
          "height": 170
        },
        "outputId": "60619110-c5fb-4293-f9b1-a8480084b109"
      },
      "source": [
        "mnist_model.fit(X_train_mnist, y_train_mnist, \n",
        "           batch_size=128, epochs = 4, verbose = 1, \n",
        "          validation_data = (X_valid_mnist, y_valid_mnist), \n",
        "          callbacks = [modelcheckpoint])"
      ],
      "execution_count": 12,
      "outputs": [
        {
          "output_type": "stream",
          "text": [
            "Epoch 1/4\n",
            "469/469 [==============================] - 26s 55ms/step - loss: 0.6913 - accuracy: 0.7790 - val_loss: 5.5400 - val_accuracy: 0.3940\n",
            "Epoch 2/4\n",
            "469/469 [==============================] - 25s 54ms/step - loss: 0.1485 - accuracy: 0.9618 - val_loss: 0.0857 - val_accuracy: 0.9837\n",
            "Epoch 3/4\n",
            "469/469 [==============================] - 24s 52ms/step - loss: 0.8888 - accuracy: 0.7388 - val_loss: 1.9707 - val_accuracy: 0.4241\n",
            "Epoch 4/4\n",
            "469/469 [==============================] - 24s 52ms/step - loss: 0.2355 - accuracy: 0.9397 - val_loss: 0.1523 - val_accuracy: 0.9607\n"
          ],
          "name": "stdout"
        },
        {
          "output_type": "execute_result",
          "data": {
            "text/plain": [
              "<tensorflow.python.keras.callbacks.History at 0x7fee30e57ef0>"
            ]
          },
          "metadata": {
            "tags": []
          },
          "execution_count": 12
        }
      ]
    },
    {
      "cell_type": "code",
      "metadata": {
        "id": "UKSgi9t4Dp2l",
        "colab_type": "code",
        "colab": {}
      },
      "source": [
        "# Setting model checkpoint\n",
        "# Set o/p directory\n",
        "output_dir_cifar = 'model_output/vgg16/cifar'\n",
        "\n",
        "modelcheckpoint = ModelCheckpoint(filepath=output_dir_cifar + '/weights.{epoch:02d}.hdf5', \n",
        "                                  monitor = 'val_accuracy', save_best_only = True)\n",
        "\n",
        "# Verifying o/p path exists\n",
        "if not os.path.exists(output_dir_cifar):\n",
        "  os.makedirs(output_dir_cifar)"
      ],
      "execution_count": 13,
      "outputs": []
    },
    {
      "cell_type": "code",
      "metadata": {
        "id": "zrnkaXjlnkaa",
        "colab_type": "code",
        "colab": {
          "base_uri": "https://localhost:8080/",
          "height": 1000
        },
        "outputId": "5944fff2-82e3-4f9e-9d76-b476ec85f3ee"
      },
      "source": [
        "cifar_model = vgg16((32, 32, 3))\n"
      ],
      "execution_count": 18,
      "outputs": [
        {
          "output_type": "stream",
          "text": [
            "Model: \"sequential_2\"\n",
            "_________________________________________________________________\n",
            "Layer (type)                 Output Shape              Param #   \n",
            "=================================================================\n",
            "conv2d_26 (Conv2D)           (None, 32, 32, 64)        1792      \n",
            "_________________________________________________________________\n",
            "conv2d_27 (Conv2D)           (None, 32, 32, 64)        36928     \n",
            "_________________________________________________________________\n",
            "max_pooling2d_10 (MaxPooling (None, 16, 16, 64)        0         \n",
            "_________________________________________________________________\n",
            "batch_normalization_10 (Batc (None, 16, 16, 64)        256       \n",
            "_________________________________________________________________\n",
            "conv2d_28 (Conv2D)           (None, 16, 16, 128)       73856     \n",
            "_________________________________________________________________\n",
            "conv2d_29 (Conv2D)           (None, 16, 16, 128)       147584    \n",
            "_________________________________________________________________\n",
            "max_pooling2d_11 (MaxPooling (None, 8, 8, 128)         0         \n",
            "_________________________________________________________________\n",
            "batch_normalization_11 (Batc (None, 8, 8, 128)         512       \n",
            "_________________________________________________________________\n",
            "conv2d_30 (Conv2D)           (None, 8, 8, 256)         295168    \n",
            "_________________________________________________________________\n",
            "conv2d_31 (Conv2D)           (None, 8, 8, 256)         590080    \n",
            "_________________________________________________________________\n",
            "conv2d_32 (Conv2D)           (None, 8, 8, 256)         590080    \n",
            "_________________________________________________________________\n",
            "max_pooling2d_12 (MaxPooling (None, 4, 4, 256)         0         \n",
            "_________________________________________________________________\n",
            "batch_normalization_12 (Batc (None, 4, 4, 256)         1024      \n",
            "_________________________________________________________________\n",
            "conv2d_33 (Conv2D)           (None, 4, 4, 512)         1180160   \n",
            "_________________________________________________________________\n",
            "conv2d_34 (Conv2D)           (None, 4, 4, 512)         2359808   \n",
            "_________________________________________________________________\n",
            "conv2d_35 (Conv2D)           (None, 4, 4, 512)         2359808   \n",
            "_________________________________________________________________\n",
            "max_pooling2d_13 (MaxPooling (None, 2, 2, 512)         0         \n",
            "_________________________________________________________________\n",
            "batch_normalization_13 (Batc (None, 2, 2, 512)         2048      \n",
            "_________________________________________________________________\n",
            "conv2d_36 (Conv2D)           (None, 2, 2, 512)         2359808   \n",
            "_________________________________________________________________\n",
            "conv2d_37 (Conv2D)           (None, 2, 2, 512)         2359808   \n",
            "_________________________________________________________________\n",
            "conv2d_38 (Conv2D)           (None, 2, 2, 512)         2359808   \n",
            "_________________________________________________________________\n",
            "max_pooling2d_14 (MaxPooling (None, 1, 1, 512)         0         \n",
            "_________________________________________________________________\n",
            "batch_normalization_14 (Batc (None, 1, 1, 512)         2048      \n",
            "_________________________________________________________________\n",
            "flatten_2 (Flatten)          (None, 512)               0         \n",
            "_________________________________________________________________\n",
            "dense_8 (Dense)              (None, 4096)              2101248   \n",
            "_________________________________________________________________\n",
            "dropout_6 (Dropout)          (None, 4096)              0         \n",
            "_________________________________________________________________\n",
            "dense_9 (Dense)              (None, 4096)              16781312  \n",
            "_________________________________________________________________\n",
            "dropout_7 (Dropout)          (None, 4096)              0         \n",
            "_________________________________________________________________\n",
            "dense_10 (Dense)             (None, 1000)              4097000   \n",
            "_________________________________________________________________\n",
            "dropout_8 (Dropout)          (None, 1000)              0         \n",
            "_________________________________________________________________\n",
            "dense_11 (Dense)             (None, 10)                10010     \n",
            "=================================================================\n",
            "Total params: 37,710,146\n",
            "Trainable params: 37,707,202\n",
            "Non-trainable params: 2,944\n",
            "_________________________________________________________________\n",
            "None\n"
          ],
          "name": "stdout"
        }
      ]
    },
    {
      "cell_type": "code",
      "metadata": {
        "id": "o4cf1Yu2DP-T",
        "colab_type": "code",
        "colab": {
          "base_uri": "https://localhost:8080/",
          "height": 714
        },
        "outputId": "7450d34f-626d-48f6-84bc-03f2e3da8cda"
      },
      "source": [
        "cifar_model.fit(X_train_cifar, y_train_cifar, \n",
        "           batch_size=128, epochs = 20, verbose = 1, \n",
        "          validation_data = (X_valid_cifar, y_valid_cifar), \n",
        "          callbacks = [modelcheckpoint])"
      ],
      "execution_count": 19,
      "outputs": [
        {
          "output_type": "stream",
          "text": [
            "Epoch 1/20\n",
            "391/391 [==============================] - 21s 53ms/step - loss: 1.6969 - accuracy: 0.3763 - val_loss: 3.7437 - val_accuracy: 0.2551\n",
            "Epoch 2/20\n",
            "391/391 [==============================] - 21s 53ms/step - loss: 1.1355 - accuracy: 0.6102 - val_loss: 1.3120 - val_accuracy: 0.6176\n",
            "Epoch 3/20\n",
            "391/391 [==============================] - 21s 53ms/step - loss: 0.9026 - accuracy: 0.7012 - val_loss: 1.8283 - val_accuracy: 0.4701\n",
            "Epoch 4/20\n",
            "391/391 [==============================] - 21s 53ms/step - loss: 0.7465 - accuracy: 0.7568 - val_loss: 0.8845 - val_accuracy: 0.7121\n",
            "Epoch 5/20\n",
            "391/391 [==============================] - 21s 53ms/step - loss: 0.6472 - accuracy: 0.7914 - val_loss: 0.7640 - val_accuracy: 0.7523\n",
            "Epoch 6/20\n",
            "391/391 [==============================] - 21s 54ms/step - loss: 0.5457 - accuracy: 0.8278 - val_loss: 0.8603 - val_accuracy: 0.7529\n",
            "Epoch 7/20\n",
            "391/391 [==============================] - 21s 53ms/step - loss: 0.4713 - accuracy: 0.8528 - val_loss: 0.9686 - val_accuracy: 0.7206\n",
            "Epoch 8/20\n",
            "391/391 [==============================] - 21s 54ms/step - loss: 0.4212 - accuracy: 0.8692 - val_loss: 0.8897 - val_accuracy: 0.7726\n",
            "Epoch 9/20\n",
            "391/391 [==============================] - 21s 53ms/step - loss: 0.3928 - accuracy: 0.8809 - val_loss: 0.7423 - val_accuracy: 0.7704\n",
            "Epoch 10/20\n",
            "391/391 [==============================] - 21s 53ms/step - loss: 0.3792 - accuracy: 0.8849 - val_loss: 1.3172 - val_accuracy: 0.6289\n",
            "Epoch 11/20\n",
            "391/391 [==============================] - 22s 56ms/step - loss: 0.4481 - accuracy: 0.8640 - val_loss: 0.6752 - val_accuracy: 0.8028\n",
            "Epoch 12/20\n",
            "391/391 [==============================] - 22s 56ms/step - loss: 0.2707 - accuracy: 0.9162 - val_loss: 0.6979 - val_accuracy: 0.8132\n",
            "Epoch 13/20\n",
            "391/391 [==============================] - 22s 56ms/step - loss: 0.2352 - accuracy: 0.9292 - val_loss: 0.7146 - val_accuracy: 0.8203\n",
            "Epoch 14/20\n",
            "391/391 [==============================] - 22s 56ms/step - loss: 0.1912 - accuracy: 0.9435 - val_loss: 0.7048 - val_accuracy: 0.8243\n",
            "Epoch 15/20\n",
            "391/391 [==============================] - 22s 55ms/step - loss: 0.1610 - accuracy: 0.9527 - val_loss: 0.6981 - val_accuracy: 0.8297\n",
            "Epoch 16/20\n",
            "391/391 [==============================] - 21s 53ms/step - loss: 0.1566 - accuracy: 0.9546 - val_loss: 0.8128 - val_accuracy: 0.8223\n",
            "Epoch 17/20\n",
            "391/391 [==============================] - 21s 52ms/step - loss: 0.1311 - accuracy: 0.9627 - val_loss: 2.0710 - val_accuracy: 0.6870\n",
            "Epoch 18/20\n",
            "391/391 [==============================] - 22s 56ms/step - loss: 0.1763 - accuracy: 0.9499 - val_loss: 0.8400 - val_accuracy: 0.8317\n",
            "Epoch 19/20\n",
            "391/391 [==============================] - 20s 52ms/step - loss: 0.1124 - accuracy: 0.9689 - val_loss: 1.2585 - val_accuracy: 0.7921\n",
            "Epoch 20/20\n",
            "391/391 [==============================] - 21s 53ms/step - loss: 0.1022 - accuracy: 0.9726 - val_loss: 0.9870 - val_accuracy: 0.8213\n"
          ],
          "name": "stdout"
        },
        {
          "output_type": "execute_result",
          "data": {
            "text/plain": [
              "<tensorflow.python.keras.callbacks.History at 0x7fed7c1f2780>"
            ]
          },
          "metadata": {
            "tags": []
          },
          "execution_count": 19
        }
      ]
    },
    {
      "cell_type": "markdown",
      "metadata": {
        "id": "Zd2sz0Rcojoy",
        "colab_type": "text"
      },
      "source": [
        "# Model evaluation"
      ]
    },
    {
      "cell_type": "code",
      "metadata": {
        "id": "9e50hHOOofx9",
        "colab_type": "code",
        "colab": {
          "base_uri": "https://localhost:8080/",
          "height": 51
        },
        "outputId": "16152163-8906-409c-9b6d-78542f183259"
      },
      "source": [
        "# Evaluating mnist model - \n",
        "mnist_model.load_weights(filepath = output_dir_mnist + '/weights.02.hdf5')\n",
        "mnist_model.evaluate(X_valid_mnist, y_valid_mnist)"
      ],
      "execution_count": 16,
      "outputs": [
        {
          "output_type": "stream",
          "text": [
            "313/313 [==============================] - 2s 7ms/step - loss: 0.0857 - accuracy: 0.9837\n"
          ],
          "name": "stdout"
        },
        {
          "output_type": "execute_result",
          "data": {
            "text/plain": [
              "[0.08573029935359955, 0.9836999773979187]"
            ]
          },
          "metadata": {
            "tags": []
          },
          "execution_count": 16
        }
      ]
    },
    {
      "cell_type": "code",
      "metadata": {
        "id": "DaIjb1X-Fwyf",
        "colab_type": "code",
        "colab": {
          "base_uri": "https://localhost:8080/",
          "height": 51
        },
        "outputId": "10426201-2ba1-4b2c-f7ed-44594bfbb943"
      },
      "source": [
        "# Evaluating cifar model - \n",
        "cifar_model.load_weights(filepath = output_dir_cifar + '/weights.18.hdf5')\n",
        "cifar_model.evaluate(X_valid_cifar, y_valid_cifar)"
      ],
      "execution_count": 20,
      "outputs": [
        {
          "output_type": "stream",
          "text": [
            "313/313 [==============================] - 2s 7ms/step - loss: 0.8400 - accuracy: 0.8317\n"
          ],
          "name": "stdout"
        },
        {
          "output_type": "execute_result",
          "data": {
            "text/plain": [
              "[0.8399996161460876, 0.8317000269889832]"
            ]
          },
          "metadata": {
            "tags": []
          },
          "execution_count": 20
        }
      ]
    },
    {
      "cell_type": "code",
      "metadata": {
        "id": "Wfyuwd-9KL7r",
        "colab_type": "code",
        "colab": {}
      },
      "source": [
        "# As is evident, vgg16 architecture starts overfitting on mnist from second epoch\n",
        "# This architecture with very deep neural networks was not created for small images as in cifar and mnist\n",
        "# for these datasets. But for studying the architecture, we have used them."
      ],
      "execution_count": null,
      "outputs": []
    },
    {
      "cell_type": "code",
      "metadata": {
        "id": "J_poIv06KgV2",
        "colab_type": "code",
        "colab": {}
      },
      "source": [
        ""
      ],
      "execution_count": null,
      "outputs": []
    }
  ]
}