{
  "nbformat": 4,
  "nbformat_minor": 0,
  "metadata": {
    "colab": {
      "name": "13-NLP Bidirectional LSTM based sentiment classifier.ipynb",
      "provenance": [],
      "collapsed_sections": [],
      "authorship_tag": "ABX9TyPXFq5y/pGwhtK2j4BadSDW",
      "include_colab_link": true
    },
    "kernelspec": {
      "name": "python3",
      "display_name": "Python 3"
    },
    "accelerator": "GPU"
  },
  "cells": [
    {
      "cell_type": "markdown",
      "metadata": {
        "id": "view-in-github",
        "colab_type": "text"
      },
      "source": [
        "<a href=\"https://colab.research.google.com/github/kishore145/AI-ML-Foundations/blob/master/Neural%20Networks/13_NLP_Bidirectional_LSTM_based_sentiment_classifier.ipynb\" target=\"_parent\"><img src=\"https://colab.research.google.com/assets/colab-badge.svg\" alt=\"Open In Colab\"/></a>"
      ]
    },
    {
      "cell_type": "markdown",
      "metadata": {
        "id": "QORw9-HlNSkU",
        "colab_type": "text"
      },
      "source": [
        "# Load Dependencies and Set Hyperparameters\n"
      ]
    },
    {
      "cell_type": "code",
      "metadata": {
        "id": "JNEvlVJLMRtd",
        "colab_type": "code",
        "colab": {}
      },
      "source": [
        "# Import dependencies\n",
        "import tensorflow\n",
        "from tensorflow.keras.datasets import imdb\n",
        "from tensorflow.keras.preprocessing.sequence import pad_sequences\n",
        "from tensorflow.keras.models import Sequential\n",
        "from tensorflow.keras.layers import Dense, Dropout, Embedding, SpatialDropout1D\n",
        "from tensorflow.keras.layers import LSTM, Bidirectional # wrapper to use with LSTM\n",
        "from tensorflow.keras.callbacks import ModelCheckpoint\n",
        "import os\n",
        "from sklearn.metrics import roc_auc_score, roc_curve\n",
        "import matplotlib.pyplot as plt"
      ],
      "execution_count": 0,
      "outputs": []
    },
    {
      "cell_type": "code",
      "metadata": {
        "id": "YufsrLjoMZQH",
        "colab_type": "code",
        "colab": {}
      },
      "source": [
        "# Set hyperparameters\n",
        "# output directory name:\n",
        "output_dir = 'model_output/bi-lstm'\n",
        "\n",
        "# training:\n",
        "epochs = 6 \n",
        "batch_size = 128\n",
        "\n",
        "# vector-space embedding: \n",
        "n_dim = 64 \n",
        "n_unique_words = 10000 \n",
        "max_review_length = 200 # double the rate of LSTMs.\n",
        "pad_type = trunc_type = 'pre'\n",
        "drop_embed = 0.2 \n",
        "\n",
        "# LSTM layer architecture:\n",
        "n_lstm = 256 \n",
        "drop_lstm = 0.2"
      ],
      "execution_count": 0,
      "outputs": []
    },
    {
      "cell_type": "markdown",
      "metadata": {
        "id": "tznqs18wOi-D",
        "colab_type": "text"
      },
      "source": [
        "# Load and Pre-Process Data"
      ]
    },
    {
      "cell_type": "code",
      "metadata": {
        "id": "zcR0xZKJOdhm",
        "colab_type": "code",
        "outputId": "a5277b95-9a3d-45ad-a65e-506e3d6f1196",
        "colab": {
          "base_uri": "https://localhost:8080/",
          "height": 54
        }
      },
      "source": [
        "# Load data\n",
        "(x_train, y_train), (x_valid, y_valid) = imdb.load_data(num_words=n_unique_words)"
      ],
      "execution_count": 3,
      "outputs": [
        {
          "output_type": "stream",
          "text": [
            "Downloading data from https://storage.googleapis.com/tensorflow/tf-keras-datasets/imdb.npz\n",
            "17465344/17464789 [==============================] - 0s 0us/step\n"
          ],
          "name": "stdout"
        }
      ]
    },
    {
      "cell_type": "code",
      "metadata": {
        "id": "pF2N3fNVOr92",
        "colab_type": "code",
        "colab": {}
      },
      "source": [
        "# Preprocess data\n",
        "x_train = pad_sequences(x_train, maxlen=max_review_length, padding=pad_type, truncating=trunc_type, value=0)\n",
        "x_valid = pad_sequences(x_valid, maxlen=max_review_length, padding=pad_type, truncating=trunc_type, value=0)"
      ],
      "execution_count": 0,
      "outputs": []
    },
    {
      "cell_type": "markdown",
      "metadata": {
        "id": "YALQWPW_OzWp",
        "colab_type": "text"
      },
      "source": [
        "# Neural Network Section"
      ]
    },
    {
      "cell_type": "code",
      "metadata": {
        "id": "b96Q-LsJOxDV",
        "colab_type": "code",
        "colab": {}
      },
      "source": [
        "# Design Neural Network\n",
        "# Create model\n",
        "model = Sequential()\n",
        "\n",
        "# Add first hidden layer - embedding\n",
        "model.add(Embedding(input_dim=n_unique_words, \n",
        "                    output_dim= n_dim,\n",
        "                    input_length= max_review_length))\n",
        "model.add(SpatialDropout1D(drop_embed))\n",
        "\n",
        "# Add second hiddden layer - Bi-LSTM using wrapper around LSTM\n",
        "model.add(Bidirectional(LSTM(units = n_lstm, dropout = drop_lstm)))\n",
        "\n",
        "# Add o/p layer\n",
        "model.add(Dense(1, activation = 'sigmoid'))"
      ],
      "execution_count": 0,
      "outputs": []
    },
    {
      "cell_type": "code",
      "metadata": {
        "id": "1lMyabdWP1Xl",
        "colab_type": "code",
        "outputId": "e43c2834-b5d3-444b-ec38-1101898d0a39",
        "colab": {
          "base_uri": "https://localhost:8080/",
          "height": 311
        }
      },
      "source": [
        "# Review model\n",
        "model.summary()"
      ],
      "execution_count": 6,
      "outputs": [
        {
          "output_type": "stream",
          "text": [
            "Model: \"sequential\"\n",
            "_________________________________________________________________\n",
            "Layer (type)                 Output Shape              Param #   \n",
            "=================================================================\n",
            "embedding (Embedding)        (None, 200, 64)           640000    \n",
            "_________________________________________________________________\n",
            "spatial_dropout1d (SpatialDr (None, 200, 64)           0         \n",
            "_________________________________________________________________\n",
            "bidirectional (Bidirectional (None, 512)               657408    \n",
            "_________________________________________________________________\n",
            "dense (Dense)                (None, 1)                 513       \n",
            "=================================================================\n",
            "Total params: 1,297,921\n",
            "Trainable params: 1,297,921\n",
            "Non-trainable params: 0\n",
            "_________________________________________________________________\n"
          ],
          "name": "stdout"
        }
      ]
    },
    {
      "cell_type": "code",
      "metadata": {
        "id": "n-A56COOP9n6",
        "colab_type": "code",
        "colab": {}
      },
      "source": [
        "# Configure model\n",
        "model.compile(optimizer='nadam', loss = 'binary_crossentropy', metrics=['accuracy'])"
      ],
      "execution_count": 0,
      "outputs": []
    },
    {
      "cell_type": "code",
      "metadata": {
        "id": "BHIEkIgKQKg6",
        "colab_type": "code",
        "colab": {}
      },
      "source": [
        "# Create model checkpoints\n",
        "modelcheckpoint = ModelCheckpoint(filepath=output_dir+\"/weights.{epoch:02d}.hdf5\")\n",
        "if not os.path.exists(output_dir):\n",
        "    os.makedirs(output_dir)"
      ],
      "execution_count": 0,
      "outputs": []
    },
    {
      "cell_type": "code",
      "metadata": {
        "id": "xCuuUaBIQPbJ",
        "colab_type": "code",
        "outputId": "553fa2f1-f54c-4430-e402-dd4c66acef9c",
        "colab": {
          "base_uri": "https://localhost:8080/",
          "height": 256
        }
      },
      "source": [
        "# Train model\n",
        "model.fit(x_train, y_train, batch_size=batch_size, epochs=epochs, verbose=1, validation_data=(x_valid, y_valid), callbacks=[modelcheckpoint])"
      ],
      "execution_count": 9,
      "outputs": [
        {
          "output_type": "stream",
          "text": [
            "Epoch 1/6\n",
            "196/196 [==============================] - 40s 203ms/step - loss: 0.5656 - accuracy: 0.7070 - val_loss: 0.4046 - val_accuracy: 0.8266\n",
            "Epoch 2/6\n",
            "196/196 [==============================] - 39s 198ms/step - loss: 0.3379 - accuracy: 0.8601 - val_loss: 0.3447 - val_accuracy: 0.8597\n",
            "Epoch 3/6\n",
            "196/196 [==============================] - 39s 198ms/step - loss: 0.2833 - accuracy: 0.8897 - val_loss: 0.3269 - val_accuracy: 0.8634\n",
            "Epoch 4/6\n",
            "196/196 [==============================] - 39s 198ms/step - loss: 0.2307 - accuracy: 0.9105 - val_loss: 0.3211 - val_accuracy: 0.8692\n",
            "Epoch 5/6\n",
            "196/196 [==============================] - 39s 198ms/step - loss: 0.2054 - accuracy: 0.9224 - val_loss: 0.3223 - val_accuracy: 0.8662\n",
            "Epoch 6/6\n",
            "196/196 [==============================] - 39s 199ms/step - loss: 0.1706 - accuracy: 0.9381 - val_loss: 0.3392 - val_accuracy: 0.8587\n"
          ],
          "name": "stdout"
        },
        {
          "output_type": "execute_result",
          "data": {
            "text/plain": [
              "<tensorflow.python.keras.callbacks.History at 0x7f2789c01048>"
            ]
          },
          "metadata": {
            "tags": []
          },
          "execution_count": 9
        }
      ]
    },
    {
      "cell_type": "markdown",
      "metadata": {
        "id": "MbtcSE4_QX3T",
        "colab_type": "text"
      },
      "source": [
        "# Evaluate"
      ]
    },
    {
      "cell_type": "code",
      "metadata": {
        "id": "XcPkfYByQT4b",
        "colab_type": "code",
        "colab": {}
      },
      "source": [
        "# Load model with highest accuracy\n",
        "model.load_weights(output_dir+\"/weights.04.hdf5\")"
      ],
      "execution_count": 0,
      "outputs": []
    },
    {
      "cell_type": "code",
      "metadata": {
        "id": "dmEgDKSqQeIr",
        "colab_type": "code",
        "colab": {}
      },
      "source": [
        "# Make predictions using best model\n",
        "y_hat = model.predict(x_valid)"
      ],
      "execution_count": 0,
      "outputs": []
    },
    {
      "cell_type": "code",
      "metadata": {
        "id": "5hArofJ4Qr6x",
        "colab_type": "code",
        "outputId": "987210a3-b330-49b4-b819-d8d1b12fa3e6",
        "colab": {
          "base_uri": "https://localhost:8080/",
          "height": 265
        }
      },
      "source": [
        "# Plot predictions\n",
        "plt.hist(y_hat)\n",
        "_ = plt.axvline(x=0.5, color='orange')"
      ],
      "execution_count": 12,
      "outputs": [
        {
          "output_type": "display_data",
          "data": {
            "image/png": "[encoded data removed]",
            "text/plain": [
              "<Figure size 432x288 with 1 Axes>"
            ]
          },
          "metadata": {
            "tags": [],
            "needs_background": "light"
          }
        }
      ]
    },
    {
      "cell_type": "code",
      "metadata": {
        "id": "iT3pMZRkQxzb",
        "colab_type": "code",
        "outputId": "9a571b59-300b-4f17-94de-753f8f5f30b6",
        "colab": {
          "base_uri": "https://localhost:8080/",
          "height": 35
        }
      },
      "source": [
        "# Find AUC-ROC value\n",
        "pct_auc = roc_auc_score(y_valid, y_hat)*100.0\n",
        "print(\"AUC-ROC Value: {:0.2f}\".format(pct_auc))"
      ],
      "execution_count": 13,
      "outputs": [
        {
          "output_type": "stream",
          "text": [
            "AUC-ROC Value: 93.93\n"
          ],
          "name": "stdout"
        }
      ]
    },
    {
      "cell_type": "code",
      "metadata": {
        "id": "n8-fDjUTRh0i",
        "colab_type": "code",
        "outputId": "064948ae-eed3-4fce-f820-0e33aef202e2",
        "colab": {
          "base_uri": "https://localhost:8080/",
          "height": 295
        }
      },
      "source": [
        "fpr, tpr, auc = roc_curve(y_valid,  y_hat)\n",
        "plt.plot(fpr,tpr,label=\"Sentiment Classifier, auc=\"+\"{:0.2f}\".format(pct_auc))\n",
        "plt.legend(loc=4)\n",
        "plt.title('ROC Curve')\n",
        "plt.xlabel('False Postive Rate')\n",
        "plt.ylabel('True Positive Rate')\n",
        "plt.show()"
      ],
      "execution_count": 14,
      "outputs": [
        {
          "output_type": "display_data",
          "data": {
            "image/png": "[encoded data removed]",
            "text/plain": [
              "<Figure size 432x288 with 1 Axes>"
            ]
          },
          "metadata": {
            "tags": [],
            "needs_background": "light"
          }
        }
      ]
    },
    {
      "cell_type": "code",
      "metadata": {
        "id": "Xb8bIWzD_eJM",
        "colab_type": "code",
        "colab": {}
      },
      "source": [
        "# Bi-LSTM results in improvement when compared with LSTM, but is slower to train"
      ],
      "execution_count": 0,
      "outputs": []
    }
  ]
}