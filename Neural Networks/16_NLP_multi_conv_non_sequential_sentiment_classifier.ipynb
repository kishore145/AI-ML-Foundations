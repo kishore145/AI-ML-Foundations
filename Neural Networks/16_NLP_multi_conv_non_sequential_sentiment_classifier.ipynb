{
  "nbformat": 4,
  "nbformat_minor": 0,
  "metadata": {
    "colab": {
      "name": "16-NLP multi conv non-sequential sentiment classifier.ipynb",
      "provenance": [],
      "collapsed_sections": [],
      "toc_visible": true,
      "authorship_tag": "ABX9TyP1MEuo1vItZGT9+HieTypt",
      "include_colab_link": true
    },
    "kernelspec": {
      "name": "python3",
      "display_name": "Python 3"
    },
    "accelerator": "GPU"
  },
  "cells": [
    {
      "cell_type": "markdown",
      "metadata": {
        "id": "view-in-github",
        "colab_type": "text"
      },
      "source": [
        "<a href=\"https://colab.research.google.com/github/kishore145/AI-ML-Foundations/blob/master/Neural%20Networks/16_NLP_multi_conv_non_sequential_sentiment_classifier.ipynb\" target=\"_parent\"><img src=\"https://colab.research.google.com/assets/colab-badge.svg\" alt=\"Open In Colab\"/></a>"
      ]
    },
    {
      "cell_type": "markdown",
      "metadata": {
        "id": "QORw9-HlNSkU",
        "colab_type": "text"
      },
      "source": [
        "# Load Dependencies and Set Hyperparameters\n"
      ]
    },
    {
      "cell_type": "code",
      "metadata": {
        "id": "JNEvlVJLMRtd",
        "colab_type": "code",
        "colab": {}
      },
      "source": [
        "# Import dependencies\n",
        "import tensorflow\n",
        "from tensorflow.keras.datasets import imdb\n",
        "from tensorflow.keras.preprocessing.sequence import pad_sequences\n",
        "from tensorflow.keras.models import Model\n",
        "from tensorflow.keras.layers import Dense, Dropout, Embedding, SpatialDropout1D\n",
        "from tensorflow.keras.layers import Conv1D, GlobalMaxPooling1D\n",
        "from tensorflow.keras.layers import Input, concatenate\n",
        "from tensorflow.keras.callbacks import ModelCheckpoint\n",
        "import os\n",
        "from sklearn.metrics import roc_auc_score, roc_curve\n",
        "import matplotlib.pyplot as plt"
      ],
      "execution_count": 0,
      "outputs": []
    },
    {
      "cell_type": "code",
      "metadata": {
        "id": "WqtTSlcGupch",
        "colab_type": "code",
        "colab": {}
      },
      "source": [
        "architecture = '''\n",
        "Architecture diagram\n",
        "\n",
        "              ----------        -------------------       ----------       --------\t\t\t\t\t\t\t\t\n",
        "             |           | --> | conv (kernel - 2) | --> | max_pool | --> | \t     | \n",
        "             |           |      -------------------       ----------      |        |\t\n",
        "             |           |                                                |\t       |\n",
        " ------      |           |      -------------------       ----------      |        |\t    --------       --------\t      ----\t\t\n",
        "| text | --> | Embedding | --> | conv (kernel - 3) | --> | max_pool | --> | concat | --> | dense1 | --> | dense2 | --> | o/p | \n",
        " ------      |           |       ------------------       ----------      |        |\t    --------       --------\t      ----\n",
        "             |           |                                                |        | \n",
        "             |           |      -------------------       ----------      |        |\t\t\t\t\t\t\t\t\n",
        "             |           | --> | conv (kernel - 4) | --> | max_pool | --> | \t     | \n",
        "             |           |      -------------------       ----------      |        |\t\n",
        "              -----------                                                  --------\n",
        "\n",
        "'''"
      ],
      "execution_count": 0,
      "outputs": []
    },
    {
      "cell_type": "markdown",
      "metadata": {
        "id": "l09Rogc8utCn",
        "colab_type": "text"
      },
      "source": [
        ""
      ]
    },
    {
      "cell_type": "code",
      "metadata": {
        "id": "YufsrLjoMZQH",
        "colab_type": "code",
        "colab": {}
      },
      "source": [
        "# Set hyperparameters\n",
        "# output directory name:\n",
        "output_dir = 'model_output/multiCNN'\n",
        "\n",
        "# training:\n",
        "epochs = 4 \n",
        "batch_size = 128\n",
        "\n",
        "# vector-space embedding: \n",
        "n_dim = 64 \n",
        "n_unique_words = 5000 \n",
        "max_review_length = 400 # due to usage of CNN and maxpooling.\n",
        "pad_type = trunc_type = 'pre'\n",
        "drop_embed = 0.2 \n",
        "\n",
        "# CNN layer architecture:\n",
        "# Created as a list for use in loop\n",
        "n_conv = [256,256,256]\n",
        "n_kernel = [2, 3, 4]\n",
        "\n",
        "# Dense layer architecture:\n",
        "n_dense = 256\n",
        "drop_dense = 0.2\n",
        "\n"
      ],
      "execution_count": 0,
      "outputs": []
    },
    {
      "cell_type": "markdown",
      "metadata": {
        "id": "tznqs18wOi-D",
        "colab_type": "text"
      },
      "source": [
        "# Load and Pre-Process Data"
      ]
    },
    {
      "cell_type": "code",
      "metadata": {
        "id": "zcR0xZKJOdhm",
        "colab_type": "code",
        "colab": {}
      },
      "source": [
        "# Load data\n",
        "(x_train, y_train), (x_valid, y_valid) = imdb.load_data(num_words=n_unique_words)"
      ],
      "execution_count": 0,
      "outputs": []
    },
    {
      "cell_type": "code",
      "metadata": {
        "id": "pF2N3fNVOr92",
        "colab_type": "code",
        "colab": {}
      },
      "source": [
        "# Preprocess data\n",
        "x_train = pad_sequences(x_train, maxlen=max_review_length, padding=pad_type, truncating=trunc_type, value=0)\n",
        "x_valid = pad_sequences(x_valid, maxlen=max_review_length, padding=pad_type, truncating=trunc_type, value=0)"
      ],
      "execution_count": 0,
      "outputs": []
    },
    {
      "cell_type": "markdown",
      "metadata": {
        "id": "YALQWPW_OzWp",
        "colab_type": "text"
      },
      "source": [
        "# Neural Network Section"
      ]
    },
    {
      "cell_type": "code",
      "metadata": {
        "id": "b96Q-LsJOxDV",
        "colab_type": "code",
        "colab": {}
      },
      "source": [
        "# Design Neural Network\n",
        "# Start with input layer\n",
        "input_layer = Input(shape=(max_review_length,), dtype='int16', name='input' )\n",
        "\n",
        "# Add first hidden layer - embedding\n",
        "embed_layer = Embedding(input_dim=n_unique_words, output_dim= n_dim, input_length= max_review_length, \n",
        "                            name = 'embedding') (input_layer)\n",
        "drop_embed_layer = SpatialDropout1D(drop_embed, name = 'drop_embed') (embed_layer)\n",
        "\n",
        "# Add three parallel CNN layers:\n",
        "conv = []\n",
        "maxp = []\n",
        "for i in range(3):\n",
        " conv.append(Conv1D(filters=n_conv[i], kernel_size=n_kernel[i], activation='relu', \n",
        "                    name = f'conv_{i+1}') (drop_embed_layer))\n",
        " maxp.append(GlobalMaxPooling1D(name = f'maxp_{i+1}' ) (conv[i]))\n",
        "\n",
        "# Add concatenate layer to concatenate o/p from three activation layers\n",
        "concat = concatenate(maxp) # Usually fed as a list\n",
        "\n",
        "# Add two dense layers\n",
        "dense_layer = Dense(n_dense, \n",
        "                    activation='relu', name='dense')(concat)\n",
        "drop_dense_layer = Dropout(drop_dense, name='drop_dense')(dense_layer)\n",
        "\n",
        "dense_2 = Dense(int(n_dense/4), \n",
        "                activation='relu', name='dense_2')(drop_dense_layer)\n",
        "dropout_2 = Dropout(drop_dense, name='drop_dense_2')(dense_2)\n",
        "\n",
        "\n",
        "# Add o/p layer\n",
        "output_layer = Dense(1, activation = 'sigmoid', name = 'output') (dropout_2)\n",
        "\n",
        "# Create model\n",
        "model = Model(input_layer, output_layer)"
      ],
      "execution_count": 0,
      "outputs": []
    },
    {
      "cell_type": "code",
      "metadata": {
        "id": "1lMyabdWP1Xl",
        "colab_type": "code",
        "outputId": "bf31607e-f668-4c07-a2e2-e010a68a19a7",
        "colab": {
          "base_uri": "https://localhost:8080/",
          "height": 697
        }
      },
      "source": [
        "# Review model\n",
        "model.summary()"
      ],
      "execution_count": 8,
      "outputs": [
        {
          "output_type": "stream",
          "text": [
            "Model: \"model\"\n",
            "__________________________________________________________________________________________________\n",
            "Layer (type)                    Output Shape         Param #     Connected to                     \n",
            "==================================================================================================\n",
            "input (InputLayer)              [(None, 400)]        0                                            \n",
            "__________________________________________________________________________________________________\n",
            "embedding (Embedding)           (None, 400, 64)      320000      input[0][0]                      \n",
            "__________________________________________________________________________________________________\n",
            "drop_embed (SpatialDropout1D)   (None, 400, 64)      0           embedding[0][0]                  \n",
            "__________________________________________________________________________________________________\n",
            "conv_1 (Conv1D)                 (None, 399, 256)     33024       drop_embed[0][0]                 \n",
            "__________________________________________________________________________________________________\n",
            "conv_2 (Conv1D)                 (None, 398, 256)     49408       drop_embed[0][0]                 \n",
            "__________________________________________________________________________________________________\n",
            "conv_3 (Conv1D)                 (None, 397, 256)     65792       drop_embed[0][0]                 \n",
            "__________________________________________________________________________________________________\n",
            "maxp_1 (GlobalMaxPooling1D)     (None, 256)          0           conv_1[0][0]                     \n",
            "__________________________________________________________________________________________________\n",
            "maxp_2 (GlobalMaxPooling1D)     (None, 256)          0           conv_2[0][0]                     \n",
            "__________________________________________________________________________________________________\n",
            "maxp_3 (GlobalMaxPooling1D)     (None, 256)          0           conv_3[0][0]                     \n",
            "__________________________________________________________________________________________________\n",
            "concatenate (Concatenate)       (None, 768)          0           maxp_1[0][0]                     \n",
            "                                                                 maxp_2[0][0]                     \n",
            "                                                                 maxp_3[0][0]                     \n",
            "__________________________________________________________________________________________________\n",
            "dense (Dense)                   (None, 256)          196864      concatenate[0][0]                \n",
            "__________________________________________________________________________________________________\n",
            "drop_dense (Dropout)            (None, 256)          0           dense[0][0]                      \n",
            "__________________________________________________________________________________________________\n",
            "dense_2 (Dense)                 (None, 64)           16448       drop_dense[0][0]                 \n",
            "__________________________________________________________________________________________________\n",
            "drop_dense_2 (Dropout)          (None, 64)           0           dense_2[0][0]                    \n",
            "__________________________________________________________________________________________________\n",
            "output (Dense)                  (None, 1)            65          drop_dense_2[0][0]               \n",
            "==================================================================================================\n",
            "Total params: 681,601\n",
            "Trainable params: 681,601\n",
            "Non-trainable params: 0\n",
            "__________________________________________________________________________________________________\n"
          ],
          "name": "stdout"
        }
      ]
    },
    {
      "cell_type": "code",
      "metadata": {
        "id": "n-A56COOP9n6",
        "colab_type": "code",
        "colab": {}
      },
      "source": [
        "# Configure model\n",
        "model.compile(optimizer='nadam', loss = 'binary_crossentropy', metrics=['accuracy'])"
      ],
      "execution_count": 0,
      "outputs": []
    },
    {
      "cell_type": "code",
      "metadata": {
        "id": "BHIEkIgKQKg6",
        "colab_type": "code",
        "colab": {}
      },
      "source": [
        "# Create model checkpoints\n",
        "modelcheckpoint = ModelCheckpoint(filepath=output_dir+\"/weights.{epoch:02d}.hdf5\")\n",
        "if not os.path.exists(output_dir):\n",
        "    os.makedirs(output_dir)"
      ],
      "execution_count": 0,
      "outputs": []
    },
    {
      "cell_type": "code",
      "metadata": {
        "id": "xCuuUaBIQPbJ",
        "colab_type": "code",
        "outputId": "1bfa1068-1b4d-4556-fe5d-7e8d47006a2b",
        "colab": {
          "base_uri": "https://localhost:8080/",
          "height": 170
        }
      },
      "source": [
        "# Train model\n",
        "model.fit(x_train, y_train, batch_size=batch_size, epochs=epochs, verbose=1, validation_data=(x_valid, y_valid), callbacks=[modelcheckpoint])"
      ],
      "execution_count": 11,
      "outputs": [
        {
          "output_type": "stream",
          "text": [
            "Epoch 1/4\n",
            "196/196 [==============================] - 21s 106ms/step - loss: 0.4953 - accuracy: 0.7283 - val_loss: 0.3170 - val_accuracy: 0.8639\n",
            "Epoch 2/4\n",
            "196/196 [==============================] - 20s 104ms/step - loss: 0.2649 - accuracy: 0.8943 - val_loss: 0.2814 - val_accuracy: 0.8820\n",
            "Epoch 3/4\n",
            "196/196 [==============================] - 20s 103ms/step - loss: 0.1939 - accuracy: 0.9272 - val_loss: 0.2606 - val_accuracy: 0.8944\n",
            "Epoch 4/4\n",
            "196/196 [==============================] - 20s 103ms/step - loss: 0.1399 - accuracy: 0.9498 - val_loss: 0.2882 - val_accuracy: 0.8930\n"
          ],
          "name": "stdout"
        },
        {
          "output_type": "execute_result",
          "data": {
            "text/plain": [
              "<tensorflow.python.keras.callbacks.History at 0x7f547b7f54e0>"
            ]
          },
          "metadata": {
            "tags": []
          },
          "execution_count": 11
        }
      ]
    },
    {
      "cell_type": "markdown",
      "metadata": {
        "id": "MbtcSE4_QX3T",
        "colab_type": "text"
      },
      "source": [
        "# Evaluate"
      ]
    },
    {
      "cell_type": "code",
      "metadata": {
        "id": "XcPkfYByQT4b",
        "colab_type": "code",
        "colab": {}
      },
      "source": [
        "# Load model with highest accuracy\n",
        "model.load_weights(output_dir+\"/weights.03.hdf5\")"
      ],
      "execution_count": 0,
      "outputs": []
    },
    {
      "cell_type": "code",
      "metadata": {
        "id": "dmEgDKSqQeIr",
        "colab_type": "code",
        "colab": {}
      },
      "source": [
        "# Make predictions using best model\n",
        "y_hat = model.predict(x_valid)"
      ],
      "execution_count": 0,
      "outputs": []
    },
    {
      "cell_type": "code",
      "metadata": {
        "id": "5hArofJ4Qr6x",
        "colab_type": "code",
        "outputId": "a24a0e5f-5ee3-4438-ea24-9a805c90886d",
        "colab": {
          "base_uri": "https://localhost:8080/",
          "height": 265
        }
      },
      "source": [
        "# Plot predictions\n",
        "plt.hist(y_hat)\n",
        "_ = plt.axvline(x=0.5, color='orange')"
      ],
      "execution_count": 14,
      "outputs": [
        {
          "output_type": "display_data",
          "data": {
            "image/png": "[encoded data removed]",
            "text/plain": [
              "<Figure size 432x288 with 1 Axes>"
            ]
          },
          "metadata": {
            "tags": [],
            "needs_background": "light"
          }
        }
      ]
    },
    {
      "cell_type": "code",
      "metadata": {
        "id": "iT3pMZRkQxzb",
        "colab_type": "code",
        "outputId": "511293d1-2c28-4d22-edef-9f949fe93c56",
        "colab": {
          "base_uri": "https://localhost:8080/",
          "height": 34
        }
      },
      "source": [
        "# Find AUC-ROC value\n",
        "pct_auc = roc_auc_score(y_valid, y_hat)*100.0\n",
        "print(\"AUC-ROC Value: {:0.2f}\".format(pct_auc))"
      ],
      "execution_count": 15,
      "outputs": [
        {
          "output_type": "stream",
          "text": [
            "AUC-ROC Value: 96.14\n"
          ],
          "name": "stdout"
        }
      ]
    },
    {
      "cell_type": "code",
      "metadata": {
        "id": "n8-fDjUTRh0i",
        "colab_type": "code",
        "outputId": "b4b9cb07-758b-4c1b-d8d7-4b284de79fc3",
        "colab": {
          "base_uri": "https://localhost:8080/",
          "height": 295
        }
      },
      "source": [
        "fpr, tpr, auc = roc_curve(y_valid,  y_hat)\n",
        "plt.plot(fpr,tpr,label=\"Sentiment Classifier, auc=\"+\"{:0.2f}\".format(pct_auc))\n",
        "plt.legend(loc=4)\n",
        "plt.title('ROC Curve')\n",
        "plt.xlabel('False Postive Rate')\n",
        "plt.ylabel('True Positive Rate')\n",
        "plt.show()"
      ],
      "execution_count": 16,
      "outputs": [
        {
          "output_type": "display_data",
          "data": {
            "image/png": "[encoded data removed]",
            "text/plain": [
              "<Figure size 432x288 with 1 Axes>"
            ]
          },
          "metadata": {
            "tags": [],
            "needs_background": "light"
          }
        }
      ]
    },
    {
      "cell_type": "code",
      "metadata": {
        "id": "Xb8bIWzD_eJM",
        "colab_type": "code",
        "colab": {}
      },
      "source": [
        "# Non seq Conv NN gave highest ROC score than all other NLP architecture evaluated so far.\n",
        "# Note all this applies to specific train/test set and not an over arching generalization"
      ],
      "execution_count": 0,
      "outputs": []
    }
  ]
}