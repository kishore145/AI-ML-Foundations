{
  "nbformat": 4,
  "nbformat_minor": 0,
  "metadata": {
    "colab": {
      "name": "03-Deep Net in tensorflow mnist classification.ipynb",
      "provenance": [],
      "collapsed_sections": [],
      "authorship_tag": "ABX9TyOprt+YdHWJxcPXUu0VmxVU",
      "include_colab_link": true
    },
    "kernelspec": {
      "name": "python3",
      "display_name": "Python 3"
    }
  },
  "cells": [
    {
      "cell_type": "markdown",
      "metadata": {
        "id": "view-in-github",
        "colab_type": "text"
      },
      "source": [
        "<a href=\"https://colab.research.google.com/github/kishore145/AI-ML-Foundations/blob/master/Neural%20Networks/03_Deep_Net_in_tensorflow_mnist_classification.ipynb\" target=\"_parent\"><img src=\"https://colab.research.google.com/assets/colab-badge.svg\" alt=\"Open In Colab\"/></a>"
      ]
    },
    {
      "cell_type": "code",
      "metadata": {
        "id": "jPHYxtR5IiwO",
        "colab_type": "code",
        "colab": {}
      },
      "source": [
        "import tensorflow as tf\n",
        "from tensorflow.keras.datasets import mnist\n",
        "from tensorflow.keras.models import Sequential\n",
        "from tensorflow.keras.layers import Dense\n",
        "\n",
        "from tensorflow.keras.layers import BatchNormalization\n",
        "from tensorflow.keras.layers import Dropout\n",
        "\n",
        "from tensorflow.keras.utils import to_categorical"
      ],
      "execution_count": 0,
      "outputs": []
    },
    {
      "cell_type": "code",
      "metadata": {
        "id": "0GBcbjmOJf1I",
        "colab_type": "code",
        "colab": {}
      },
      "source": [
        "# Load mnist data set into train and test splits\n",
        "(X_train, y_train), (X_valid, y_valid) = mnist.load_data()"
      ],
      "execution_count": 0,
      "outputs": []
    },
    {
      "cell_type": "code",
      "metadata": {
        "id": "el8-QUm9Kdao",
        "colab_type": "code",
        "colab": {}
      },
      "source": [
        "# Preprocess Data - Same steps as followed in shallow network\n",
        "X_train = X_train.reshape(60000, 784).astype('float32')\n",
        "X_valid = X_valid.reshape(10000, 784).astype('float32')\n",
        "\n",
        "X_train /= 255\n",
        "X_valid /= 255\n",
        "\n",
        "n_classes = 10\n",
        "y_train = to_categorical(y_train, n_classes)\n",
        "y_valid = to_categorical(y_valid, n_classes)"
      ],
      "execution_count": 0,
      "outputs": []
    },
    {
      "cell_type": "code",
      "metadata": {
        "id": "v5epHyxhKt5w",
        "colab_type": "code",
        "colab": {}
      },
      "source": [
        "# Model Designing - For deep neuaral network, general rule of thumb is : \n",
        "# 1 i/p layer, 1 o/p layer and 3 or more hidden layers\n",
        "\n",
        "# Create a sequntial Model\n",
        "model = Sequential()\n",
        "\n",
        "# Batch normalization helps normalize the o/p a from one hidden layer to next\n",
        "# It works by normalizing z value (w.x + b) prior to running activation function\n",
        "# It is similar to input scaling performed on input vector X\n",
        "# Key difference is z is not normalized with mean 0 & std dev of 1 like i/p vectors, \n",
        "# It includes 2 learnable parameters beta and gamma which shifts the mean and variance of z\n",
        "\n",
        "# Add first hidden layers with batch normalization\n",
        "model.add(Dense(64, activation = 'relu', input_shape = (784,)))\n",
        "model.add(BatchNormalization())\n",
        "\n",
        "# Add second hidden layer with batch normalization\n",
        "model.add(Dense(64, activation='relu'))\n",
        "model.add(BatchNormalization())\n",
        "\n",
        "# Add third hiddden layer with batch normalization and 20% Dropout\n",
        "# Dropout prevent overfitting by dropping certain percentage of neurons in each run\n",
        "model.add(Dense(64, activation='relu'))\n",
        "model.add(BatchNormalization())\n",
        "model.add(Dropout(.2))  \n",
        "\n",
        "# Add o/p softmax layer of 10 neurons\n",
        "model.add(Dense(10, activation = 'softmax'))\n",
        "\n"
      ],
      "execution_count": 0,
      "outputs": []
    },
    {
      "cell_type": "code",
      "metadata": {
        "id": "0Cz6XRcPOLmx",
        "colab_type": "code",
        "colab": {}
      },
      "source": [
        "# Compile / Configure model\n",
        "model.compile(optimizer = 'nadam', loss = 'categorical_crossentropy', metrics = ['accuracy'])"
      ],
      "execution_count": 0,
      "outputs": []
    },
    {
      "cell_type": "code",
      "metadata": {
        "id": "8VC5D6cAOjry",
        "colab_type": "code",
        "colab": {
          "base_uri": "https://localhost:8080/",
          "height": 425
        },
        "outputId": "ee6b333c-a437-4b74-cdba-017298af0e6b"
      },
      "source": [
        "# Review model summary\n",
        "model.summary()"
      ],
      "execution_count": 6,
      "outputs": [
        {
          "output_type": "stream",
          "text": [
            "Model: \"sequential\"\n",
            "_________________________________________________________________\n",
            "Layer (type)                 Output Shape              Param #   \n",
            "=================================================================\n",
            "dense (Dense)                (None, 64)                50240     \n",
            "_________________________________________________________________\n",
            "batch_normalization (BatchNo (None, 64)                256       \n",
            "_________________________________________________________________\n",
            "dense_1 (Dense)              (None, 64)                4160      \n",
            "_________________________________________________________________\n",
            "batch_normalization_1 (Batch (None, 64)                256       \n",
            "_________________________________________________________________\n",
            "dense_2 (Dense)              (None, 64)                4160      \n",
            "_________________________________________________________________\n",
            "batch_normalization_2 (Batch (None, 64)                256       \n",
            "_________________________________________________________________\n",
            "dropout (Dropout)            (None, 64)                0         \n",
            "_________________________________________________________________\n",
            "dense_3 (Dense)              (None, 10)                650       \n",
            "=================================================================\n",
            "Total params: 59,978\n",
            "Trainable params: 59,594\n",
            "Non-trainable params: 384\n",
            "_________________________________________________________________\n"
          ],
          "name": "stdout"
        }
      ]
    },
    {
      "cell_type": "code",
      "metadata": {
        "id": "KDtjOl8KOoKE",
        "colab_type": "code",
        "colab": {
          "base_uri": "https://localhost:8080/",
          "height": 714
        },
        "outputId": "848bfdbd-e3b6-4c05-e445-0c13f21f6e30"
      },
      "source": [
        "# Fitting the model\n",
        "model.fit(x=X_train, y= y_train, batch_size=128, epochs = 20, verbose = 1, validation_data=(X_valid, y_valid))"
      ],
      "execution_count": 7,
      "outputs": [
        {
          "output_type": "stream",
          "text": [
            "Epoch 1/20\n",
            "469/469 [==============================] - 2s 5ms/step - loss: 0.3968 - accuracy: 0.8821 - val_loss: 0.1544 - val_accuracy: 0.9520\n",
            "Epoch 2/20\n",
            "469/469 [==============================] - 2s 5ms/step - loss: 0.1527 - accuracy: 0.9540 - val_loss: 0.1155 - val_accuracy: 0.9640\n",
            "Epoch 3/20\n",
            "469/469 [==============================] - 2s 5ms/step - loss: 0.1092 - accuracy: 0.9670 - val_loss: 0.0977 - val_accuracy: 0.9686\n",
            "Epoch 4/20\n",
            "469/469 [==============================] - 2s 5ms/step - loss: 0.0875 - accuracy: 0.9733 - val_loss: 0.1023 - val_accuracy: 0.9685\n",
            "Epoch 5/20\n",
            "469/469 [==============================] - 2s 5ms/step - loss: 0.0749 - accuracy: 0.9767 - val_loss: 0.0882 - val_accuracy: 0.9730\n",
            "Epoch 6/20\n",
            "469/469 [==============================] - 2s 5ms/step - loss: 0.0633 - accuracy: 0.9792 - val_loss: 0.0937 - val_accuracy: 0.9715\n",
            "Epoch 7/20\n",
            "469/469 [==============================] - 2s 5ms/step - loss: 0.0573 - accuracy: 0.9816 - val_loss: 0.0896 - val_accuracy: 0.9722\n",
            "Epoch 8/20\n",
            "469/469 [==============================] - 2s 5ms/step - loss: 0.0501 - accuracy: 0.9841 - val_loss: 0.0940 - val_accuracy: 0.9709\n",
            "Epoch 9/20\n",
            "469/469 [==============================] - 2s 5ms/step - loss: 0.0483 - accuracy: 0.9837 - val_loss: 0.0863 - val_accuracy: 0.9753\n",
            "Epoch 10/20\n",
            "469/469 [==============================] - 2s 5ms/step - loss: 0.0426 - accuracy: 0.9856 - val_loss: 0.0981 - val_accuracy: 0.9740\n",
            "Epoch 11/20\n",
            "469/469 [==============================] - 2s 5ms/step - loss: 0.0377 - accuracy: 0.9876 - val_loss: 0.0937 - val_accuracy: 0.9727\n",
            "Epoch 12/20\n",
            "469/469 [==============================] - 2s 5ms/step - loss: 0.0352 - accuracy: 0.9883 - val_loss: 0.0957 - val_accuracy: 0.9728\n",
            "Epoch 13/20\n",
            "469/469 [==============================] - 2s 5ms/step - loss: 0.0326 - accuracy: 0.9890 - val_loss: 0.0890 - val_accuracy: 0.9751\n",
            "Epoch 14/20\n",
            "469/469 [==============================] - 2s 5ms/step - loss: 0.0320 - accuracy: 0.9893 - val_loss: 0.0973 - val_accuracy: 0.9753\n",
            "Epoch 15/20\n",
            "469/469 [==============================] - 2s 5ms/step - loss: 0.0287 - accuracy: 0.9903 - val_loss: 0.0896 - val_accuracy: 0.9761\n",
            "Epoch 16/20\n",
            "469/469 [==============================] - 2s 5ms/step - loss: 0.0280 - accuracy: 0.9903 - val_loss: 0.0909 - val_accuracy: 0.9763\n",
            "Epoch 17/20\n",
            "469/469 [==============================] - 2s 5ms/step - loss: 0.0258 - accuracy: 0.9912 - val_loss: 0.0866 - val_accuracy: 0.9761\n",
            "Epoch 18/20\n",
            "469/469 [==============================] - 2s 5ms/step - loss: 0.0253 - accuracy: 0.9911 - val_loss: 0.0913 - val_accuracy: 0.9759\n",
            "Epoch 19/20\n",
            "469/469 [==============================] - 2s 5ms/step - loss: 0.0227 - accuracy: 0.9924 - val_loss: 0.0902 - val_accuracy: 0.9764\n",
            "Epoch 20/20\n",
            "469/469 [==============================] - 2s 5ms/step - loss: 0.0223 - accuracy: 0.9921 - val_loss: 0.0893 - val_accuracy: 0.9777\n"
          ],
          "name": "stdout"
        },
        {
          "output_type": "execute_result",
          "data": {
            "text/plain": [
              "<tensorflow.python.keras.callbacks.History at 0x7f282b6ebc50>"
            ]
          },
          "metadata": {
            "tags": []
          },
          "execution_count": 7
        }
      ]
    },
    {
      "cell_type": "code",
      "metadata": {
        "id": "JcVS6HO6QJDM",
        "colab_type": "code",
        "colab": {
          "base_uri": "https://localhost:8080/",
          "height": 51
        },
        "outputId": "61b37c51-341e-422b-e1a1-a34783d683e7"
      },
      "source": [
        "# Evaluate model performance\n",
        "model.evaluate(X_valid, y_valid)"
      ],
      "execution_count": 8,
      "outputs": [
        {
          "output_type": "stream",
          "text": [
            "313/313 [==============================] - 0s 1ms/step - loss: 0.0893 - accuracy: 0.9777\n"
          ],
          "name": "stdout"
        },
        {
          "output_type": "execute_result",
          "data": {
            "text/plain": [
              "[0.08925644308328629, 0.9776999950408936]"
            ]
          },
          "metadata": {
            "tags": []
          },
          "execution_count": 8
        }
      ]
    },
    {
      "cell_type": "code",
      "metadata": {
        "id": "HInlp879PEa1",
        "colab_type": "code",
        "colab": {
          "base_uri": "https://localhost:8080/",
          "height": 85
        },
        "outputId": "bae7fcc6-f510-4cef-e7a8-c9b66c53be39"
      },
      "source": [
        "# Importing numpy\n",
        "import numpy as np\n",
        "\n",
        "# Performing a sample prediction\n",
        "X_valid_0 = X_valid[0].reshape(1,784)\n",
        "y_pred = model.predict(X_valid_0)\n",
        "\n",
        "# Print results\n",
        "print(f'Actual y_valid[0]                   : {y_valid[0]}')\n",
        "print(f'Taking raw np.argmax (Index)        : {np.argmax(y_pred)}')\n",
        "print(f'Taking np.argmax(predict, axis = -1): {np.argmax(model.predict(X_valid_0), axis=-1)}')\n",
        "print(f'Raw prediction using predict method : {[round(i,0) for i  in y_pred[0]]}') # Predict method expects an array of i/p\n",
        "#print(f'Using Pred class                    : {model.predict_classes(X_valid_0)}') #-- Deprecated"
      ],
      "execution_count": 9,
      "outputs": [
        {
          "output_type": "stream",
          "text": [
            "Actual y_valid[0]                   : [0. 0. 0. 0. 0. 0. 0. 1. 0. 0.]\n",
            "Taking raw np.argmax (Index)        : 7\n",
            "Taking np.argmax(predict, axis = -1): [7]\n",
            "Raw prediction using predict method : [0.0, 0.0, 0.0, 0.0, 0.0, 0.0, 0.0, 1.0, 0.0, 0.0]\n"
          ],
          "name": "stdout"
        }
      ]
    },
    {
      "cell_type": "code",
      "metadata": {
        "id": "M0wtT8QmPyo-",
        "colab_type": "code",
        "colab": {}
      },
      "source": [
        "# Concludes basic deep neural network architecture for classification problem based on JonKrohn's lectures. "
      ],
      "execution_count": 0,
      "outputs": []
    }
  ]
}